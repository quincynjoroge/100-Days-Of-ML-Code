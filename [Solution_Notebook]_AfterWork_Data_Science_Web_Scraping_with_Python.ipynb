{
  "nbformat": 4,
  "nbformat_minor": 0,
  "metadata": {
    "colab": {
      "provenance": [],
      "collapsed_sections": [
        "Tcso2rJCNAGq",
        "KHVJoAeC1Cow",
        "mSySAdwG1KRo",
        "CRmt1rRHgZRG",
        "h7iRb8U8hHNw",
        "_OxuOAIXhPl5",
        "7ePXABAihaKn",
        "ZbU2Duni1Mpa",
        "Nebneur-hs5y",
        "arAJFImdiEWz",
        "0uTC_BJkiQ8b",
        "jJzejSpZiVzd",
        "o0y799UR92Jw",
        "HZQIODXZiyCA",
        "Gg8vrk-wi8nh",
        "n5d2hfPxjGOU",
        "JtvwuY7fkpvu",
        "vp29Fixd1QKO",
        "GEGKK7vs1bGg",
        "1NqEBbTU1h3Z",
        "CZR_SI46Q0Nn",
        "Isv438m1X7g5",
        "cZB1Y8J2Y-Xi"
      ],
      "toc_visible": true,
      "include_colab_link": true
    },
    "kernelspec": {
      "name": "python3",
      "display_name": "Python 3"
    }
  },
  "cells": [
    {
      "cell_type": "markdown",
      "metadata": {
        "id": "view-in-github",
        "colab_type": "text"
      },
      "source": [
        "<a href=\"https://colab.research.google.com/github/quincynjoroge/100-Days-Of-ML-Code/blob/master/%5BSolution_Notebook%5D_AfterWork_Data_Science_Web_Scraping_with_Python.ipynb\" target=\"_parent\"><img src=\"https://colab.research.google.com/assets/colab-badge.svg\" alt=\"Open In Colab\"/></a>"
      ]
    },
    {
      "cell_type": "markdown",
      "metadata": {
        "id": "8s2Wlz8iZHRZ"
      },
      "source": [
        "<font color='#2F4F4F'>To use this notebook on Colaboratory, you will need to make a copy of it. Go to File > Save a Copy in Drive. You can then use the new copy that will appear in the new tab.</font>\n"
      ]
    },
    {
      "cell_type": "markdown",
      "metadata": {
        "id": "LbPlO8zk08id"
      },
      "source": [
        "# <font color='#2F4F4F'>AfterWork Data Science: Web Scraping with Python</font>"
      ]
    },
    {
      "cell_type": "markdown",
      "metadata": {
        "id": "Tcso2rJCNAGq"
      },
      "source": [
        "## <font color='#2F4F4F'>Prerequisites</font>"
      ]
    },
    {
      "cell_type": "code",
      "metadata": {
        "id": "QSHljMZTNCRI"
      },
      "source": [
        "# We first import the required libraries\n",
        "# ---\n",
        "#\n",
        "import pandas as pd             # library for data manupation\n",
        "import requests                 # library for fetching a web page \n",
        "from bs4 import BeautifulSoup   # library for extrating contents from a webpage "
      ],
      "execution_count": null,
      "outputs": []
    },
    {
      "cell_type": "markdown",
      "metadata": {
        "id": "KHVJoAeC1Cow"
      },
      "source": [
        "## <font color='#2F4F4F'>Examples</font>"
      ]
    },
    {
      "cell_type": "markdown",
      "metadata": {
        "id": "SZzoh5gd3SZQ"
      },
      "source": [
        "As we go through the following examples, we should keep in mind that web pages are different, however, the process for scraping data will largely be the same. This means that while scraping for data in other webpages, we can always use the given code with some modifications."
      ]
    },
    {
      "cell_type": "markdown",
      "metadata": {
        "id": "mSySAdwG1KRo"
      },
      "source": [
        "### Example 1: Performing Basic Web Scraping "
      ]
    },
    {
      "cell_type": "code",
      "metadata": {
        "id": "0gAq1kR84KBg"
      },
      "source": [
        "# Example 1\n",
        "# ---\n",
        "# Scrape data found within the <a class=\"tag\"> HTML tags in the given quotes website.\n",
        "# ---\n",
        "# Website: http://quotes.toscrape.com/ \n",
        "# ---\n",
        "# YOUR CODE GOES BELOW\n",
        "#"
      ],
      "execution_count": null,
      "outputs": []
    },
    {
      "cell_type": "markdown",
      "metadata": {
        "id": "OH8v-BcCQphw"
      },
      "source": [
        "**Before we begin, we need to first understand the following concepts:**\n",
        "\n",
        "1. A website is made up of web pages. These web pages can be either HTML or XML Webpages.   \n",
        "2. HTML webpages contain content made up of tags i.e. `<head>, <body>, <div>, <header>, <section>, <p>, <span>, <a>, <li>` etc.\n",
        "2. XML webpages contain content made up of user defined tags such as `<root>, <name>, <address>, <sector>, <location>`, etc.\n",
        "3. The desired text data is usually contained within tags in an HTML or a XML web page. For example the text \"hello\" can be contained in the `<p>` tag as shown: `<p>`hello`</p>`. In such a case the `<p>` tag or *paragraph tag* has a closing tag `</p>`.\n",
        "4. HTML Tags can comprise of attributes such as class, id, href etc. A good example would a paragraph tag with a class attribute that has a value \"home\": `<p class=\"home\">hello</p>.` These attributes help us specify the elements that we would want to work with. \n",
        "\n"
      ]
    },
    {
      "cell_type": "markdown",
      "metadata": {
        "id": "CRmt1rRHgZRG"
      },
      "source": [
        "#### Step 1: Obtaining our Data"
      ]
    },
    {
      "cell_type": "code",
      "metadata": {
        "id": "gBr2LUoo4eAc",
        "outputId": "b4944658-561e-47a1-f247-1e014b09beda",
        "colab": {
          "base_uri": "https://localhost:8080/"
        }
      },
      "source": [
        "# We will first download our webpage from the server that contains \n",
        "# our web page through the use of the get() method from the requests library.\n",
        "# Upon doing this, we also check the status_code of our download.\n",
        "# - A status_code starting with 2 indicates success.\n",
        "# - A status_code starting with 4 or 5 indicates an error.\n",
        "# ---\n",
        "#  \n",
        "page = requests.get('http://quotes.toscrape.com/')\n",
        "page"
      ],
      "execution_count": null,
      "outputs": [
        {
          "output_type": "execute_result",
          "data": {
            "text/plain": [
              "<Response [200]>"
            ]
          },
          "metadata": {
            "tags": []
          },
          "execution_count": 4
        }
      ]
    },
    {
      "cell_type": "code",
      "metadata": {
        "id": "vCjF6nT6ssfq",
        "outputId": "a194968b-5a4b-47d9-e810-bd6d411a6f09",
        "colab": {
          "base_uri": "https://localhost:8080/"
        }
      },
      "source": [
        "# Uncomment the following code to see an error in downloading an non-existent webpage.\n",
        "# ---\n",
        "# \n",
        "page2 = requests.get('http://quotes.toscrape.com/mypage')\n",
        "page2"
      ],
      "execution_count": null,
      "outputs": [
        {
          "output_type": "execute_result",
          "data": {
            "text/plain": [
              "<Response [404]>"
            ]
          },
          "metadata": {
            "tags": []
          },
          "execution_count": 5
        }
      ]
    },
    {
      "cell_type": "code",
      "metadata": {
        "id": "RdYL_N67qi5D",
        "outputId": "85ed88f7-c112-44a3-88fc-0af2963979e3",
        "colab": {
          "base_uri": "https://localhost:8080/"
        }
      },
      "source": [
        "# Once we have successfully retrieved our page we can preview our document \n",
        "# by printing the first 1600 characters of the HTML document as shown below.\n",
        "# ---\n",
        "#\n",
        "print(page.text[0:1600])"
      ],
      "execution_count": null,
      "outputs": [
        {
          "output_type": "stream",
          "text": [
            "<!DOCTYPE html>\n",
            "<html lang=\"en\">\n",
            "<head>\n",
            "\t<meta charset=\"UTF-8\">\n",
            "\t<title>Quotes to Scrape</title>\n",
            "    <link rel=\"stylesheet\" href=\"/static/bootstrap.min.css\">\n",
            "    <link rel=\"stylesheet\" href=\"/static/main.css\">\n",
            "</head>\n",
            "<body>\n",
            "    <div class=\"container\">\n",
            "        <div class=\"row header-box\">\n",
            "            <div class=\"col-md-8\">\n",
            "                <h1>\n",
            "                    <a href=\"/\" style=\"text-decoration: none\">Quotes to Scrape</a>\n",
            "                </h1>\n",
            "            </div>\n",
            "            <div class=\"col-md-4\">\n",
            "                <p>\n",
            "                \n",
            "                    <a href=\"/login\">Login</a>\n",
            "                \n",
            "                </p>\n",
            "            </div>\n",
            "        </div>\n",
            "    \n",
            "\n",
            "<div class=\"row\">\n",
            "    <div class=\"col-md-8\">\n",
            "\n",
            "    <div class=\"quote\" itemscope itemtype=\"http://schema.org/CreativeWork\">\n",
            "        <span class=\"text\" itemprop=\"text\">“The world as we have created it is a process of our thinking. It cannot be changed without changing our thinking.”</span>\n",
            "        <span>by <small class=\"author\" itemprop=\"author\">Albert Einstein</small>\n",
            "        <a href=\"/author/Albert-Einstein\">(about)</a>\n",
            "        </span>\n",
            "        <div class=\"tags\">\n",
            "            Tags:\n",
            "            <meta class=\"keywords\" itemprop=\"keywords\" content=\"change,deep-thoughts,thinking,world\" /    > \n",
            "            \n",
            "            <a class=\"tag\" href=\"/tag/change/page/1/\">change</a>\n",
            "            \n",
            "            <a class=\"tag\" href=\"/tag/deep-thoughts/page/1/\">deep-thoughts</a>\n",
            "            \n",
            "            <a class=\"tag\" href=\"/tag/thinking/page/1/\">thinking</a>\n",
            "            \n",
            "            <a class=\"tag\" href=\"/tag/world/page/1/\">world</a>\n",
            "            \n"
          ],
          "name": "stdout"
        }
      ]
    },
    {
      "cell_type": "markdown",
      "metadata": {
        "id": "-cEFr73dprDo"
      },
      "source": [
        "From the output above we can see some of the HTML `<a class=\"tag\" href=\"\">` tags that contain the data that we need. We can also locate the html tag that contains our data by using the inspect tool within our browser. \n",
        "This has been demostrated in this [short video](https://www.youtube.com/watch?v=CwiRPmXhcLY)."
      ]
    },
    {
      "cell_type": "markdown",
      "metadata": {
        "id": "h7iRb8U8hHNw"
      },
      "source": [
        "#### Step 2: Parsing"
      ]
    },
    {
      "cell_type": "code",
      "metadata": {
        "id": "VDvuJJKuT9GG"
      },
      "source": [
        "# Once we have successfully downloaded our html document, \n",
        "# we can parse it and extract our desired text from the <a class=\"tag\"> tags\n",
        "# as shown below\n",
        "# ---\n",
        "#\n",
        "\n",
        "# We use BeautifulSoup, which is a popular Python library for web scraping to parse our HTML document. \n",
        "# By parsing in this case, BeautifulSoup parses the HTML (stored in page.text) \n",
        "# into a special object called soup that the Beautiful Soup library understands. \n",
        "# In laymans terms, Beautiful Soup is reading the HTML and making sense of its structure.\n",
        "# If we were working with an XML document, we would use the XML parser 'xml'.\n",
        "# ---\n",
        "# \n",
        "# \n",
        "soup = BeautifulSoup(page.text, \"html.parser\")"
      ],
      "execution_count": null,
      "outputs": []
    },
    {
      "cell_type": "code",
      "metadata": {
        "id": "9e8AhhS0wRpv",
        "outputId": "456ce022-590f-49eb-9c7c-37d1ff50b5d8",
        "colab": {
          "base_uri": "https://localhost:8080/"
        }
      },
      "source": [
        "# We can then print out the HTML content of the page formatted nicely, \n",
        "# using the prettify() method as shown below:\n",
        "# ---\n",
        "#\n",
        "print(soup.prettify())"
      ],
      "execution_count": null,
      "outputs": [
        {
          "output_type": "stream",
          "text": [
            "<!DOCTYPE html>\n",
            "<html lang=\"en\">\n",
            " <head>\n",
            "  <meta charset=\"utf-8\"/>\n",
            "  <title>\n",
            "   Quotes to Scrape\n",
            "  </title>\n",
            "  <link href=\"/static/bootstrap.min.css\" rel=\"stylesheet\"/>\n",
            "  <link href=\"/static/main.css\" rel=\"stylesheet\"/>\n",
            " </head>\n",
            " <body>\n",
            "  <div class=\"container\">\n",
            "   <div class=\"row header-box\">\n",
            "    <div class=\"col-md-8\">\n",
            "     <h1>\n",
            "      <a href=\"/\" style=\"text-decoration: none\">\n",
            "       Quotes to Scrape\n",
            "      </a>\n",
            "     </h1>\n",
            "    </div>\n",
            "    <div class=\"col-md-4\">\n",
            "     <p>\n",
            "      <a href=\"/login\">\n",
            "       Login\n",
            "      </a>\n",
            "     </p>\n",
            "    </div>\n",
            "   </div>\n",
            "   <div class=\"row\">\n",
            "    <div class=\"col-md-8\">\n",
            "     <div class=\"quote\" itemscope=\"\" itemtype=\"http://schema.org/CreativeWork\">\n",
            "      <span class=\"text\" itemprop=\"text\">\n",
            "       “The world as we have created it is a process of our thinking. It cannot be changed without changing our thinking.”\n",
            "      </span>\n",
            "      <span>\n",
            "       by\n",
            "       <small class=\"author\" itemprop=\"author\">\n",
            "        Albert Einstein\n",
            "       </small>\n",
            "       <a href=\"/author/Albert-Einstein\">\n",
            "        (about)\n",
            "       </a>\n",
            "      </span>\n",
            "      <div class=\"tags\">\n",
            "       Tags:\n",
            "       <meta class=\"keywords\" content=\"change,deep-thoughts,thinking,world\" itemprop=\"keywords\"/>\n",
            "       <a class=\"tag\" href=\"/tag/change/page/1/\">\n",
            "        change\n",
            "       </a>\n",
            "       <a class=\"tag\" href=\"/tag/deep-thoughts/page/1/\">\n",
            "        deep-thoughts\n",
            "       </a>\n",
            "       <a class=\"tag\" href=\"/tag/thinking/page/1/\">\n",
            "        thinking\n",
            "       </a>\n",
            "       <a class=\"tag\" href=\"/tag/world/page/1/\">\n",
            "        world\n",
            "       </a>\n",
            "      </div>\n",
            "     </div>\n",
            "     <div class=\"quote\" itemscope=\"\" itemtype=\"http://schema.org/CreativeWork\">\n",
            "      <span class=\"text\" itemprop=\"text\">\n",
            "       “It is our choices, Harry, that show what we truly are, far more than our abilities.”\n",
            "      </span>\n",
            "      <span>\n",
            "       by\n",
            "       <small class=\"author\" itemprop=\"author\">\n",
            "        J.K. Rowling\n",
            "       </small>\n",
            "       <a href=\"/author/J-K-Rowling\">\n",
            "        (about)\n",
            "       </a>\n",
            "      </span>\n",
            "      <div class=\"tags\">\n",
            "       Tags:\n",
            "       <meta class=\"keywords\" content=\"abilities,choices\" itemprop=\"keywords\"/>\n",
            "       <a class=\"tag\" href=\"/tag/abilities/page/1/\">\n",
            "        abilities\n",
            "       </a>\n",
            "       <a class=\"tag\" href=\"/tag/choices/page/1/\">\n",
            "        choices\n",
            "       </a>\n",
            "      </div>\n",
            "     </div>\n",
            "     <div class=\"quote\" itemscope=\"\" itemtype=\"http://schema.org/CreativeWork\">\n",
            "      <span class=\"text\" itemprop=\"text\">\n",
            "       “There are only two ways to live your life. One is as though nothing is a miracle. The other is as though everything is a miracle.”\n",
            "      </span>\n",
            "      <span>\n",
            "       by\n",
            "       <small class=\"author\" itemprop=\"author\">\n",
            "        Albert Einstein\n",
            "       </small>\n",
            "       <a href=\"/author/Albert-Einstein\">\n",
            "        (about)\n",
            "       </a>\n",
            "      </span>\n",
            "      <div class=\"tags\">\n",
            "       Tags:\n",
            "       <meta class=\"keywords\" content=\"inspirational,life,live,miracle,miracles\" itemprop=\"keywords\"/>\n",
            "       <a class=\"tag\" href=\"/tag/inspirational/page/1/\">\n",
            "        inspirational\n",
            "       </a>\n",
            "       <a class=\"tag\" href=\"/tag/life/page/1/\">\n",
            "        life\n",
            "       </a>\n",
            "       <a class=\"tag\" href=\"/tag/live/page/1/\">\n",
            "        live\n",
            "       </a>\n",
            "       <a class=\"tag\" href=\"/tag/miracle/page/1/\">\n",
            "        miracle\n",
            "       </a>\n",
            "       <a class=\"tag\" href=\"/tag/miracles/page/1/\">\n",
            "        miracles\n",
            "       </a>\n",
            "      </div>\n",
            "     </div>\n",
            "     <div class=\"quote\" itemscope=\"\" itemtype=\"http://schema.org/CreativeWork\">\n",
            "      <span class=\"text\" itemprop=\"text\">\n",
            "       “The person, be it gentleman or lady, who has not pleasure in a good novel, must be intolerably stupid.”\n",
            "      </span>\n",
            "      <span>\n",
            "       by\n",
            "       <small class=\"author\" itemprop=\"author\">\n",
            "        Jane Austen\n",
            "       </small>\n",
            "       <a href=\"/author/Jane-Austen\">\n",
            "        (about)\n",
            "       </a>\n",
            "      </span>\n",
            "      <div class=\"tags\">\n",
            "       Tags:\n",
            "       <meta class=\"keywords\" content=\"aliteracy,books,classic,humor\" itemprop=\"keywords\"/>\n",
            "       <a class=\"tag\" href=\"/tag/aliteracy/page/1/\">\n",
            "        aliteracy\n",
            "       </a>\n",
            "       <a class=\"tag\" href=\"/tag/books/page/1/\">\n",
            "        books\n",
            "       </a>\n",
            "       <a class=\"tag\" href=\"/tag/classic/page/1/\">\n",
            "        classic\n",
            "       </a>\n",
            "       <a class=\"tag\" href=\"/tag/humor/page/1/\">\n",
            "        humor\n",
            "       </a>\n",
            "      </div>\n",
            "     </div>\n",
            "     <div class=\"quote\" itemscope=\"\" itemtype=\"http://schema.org/CreativeWork\">\n",
            "      <span class=\"text\" itemprop=\"text\">\n",
            "       “Imperfection is beauty, madness is genius and it's better to be absolutely ridiculous than absolutely boring.”\n",
            "      </span>\n",
            "      <span>\n",
            "       by\n",
            "       <small class=\"author\" itemprop=\"author\">\n",
            "        Marilyn Monroe\n",
            "       </small>\n",
            "       <a href=\"/author/Marilyn-Monroe\">\n",
            "        (about)\n",
            "       </a>\n",
            "      </span>\n",
            "      <div class=\"tags\">\n",
            "       Tags:\n",
            "       <meta class=\"keywords\" content=\"be-yourself,inspirational\" itemprop=\"keywords\"/>\n",
            "       <a class=\"tag\" href=\"/tag/be-yourself/page/1/\">\n",
            "        be-yourself\n",
            "       </a>\n",
            "       <a class=\"tag\" href=\"/tag/inspirational/page/1/\">\n",
            "        inspirational\n",
            "       </a>\n",
            "      </div>\n",
            "     </div>\n",
            "     <div class=\"quote\" itemscope=\"\" itemtype=\"http://schema.org/CreativeWork\">\n",
            "      <span class=\"text\" itemprop=\"text\">\n",
            "       “Try not to become a man of success. Rather become a man of value.”\n",
            "      </span>\n",
            "      <span>\n",
            "       by\n",
            "       <small class=\"author\" itemprop=\"author\">\n",
            "        Albert Einstein\n",
            "       </small>\n",
            "       <a href=\"/author/Albert-Einstein\">\n",
            "        (about)\n",
            "       </a>\n",
            "      </span>\n",
            "      <div class=\"tags\">\n",
            "       Tags:\n",
            "       <meta class=\"keywords\" content=\"adulthood,success,value\" itemprop=\"keywords\"/>\n",
            "       <a class=\"tag\" href=\"/tag/adulthood/page/1/\">\n",
            "        adulthood\n",
            "       </a>\n",
            "       <a class=\"tag\" href=\"/tag/success/page/1/\">\n",
            "        success\n",
            "       </a>\n",
            "       <a class=\"tag\" href=\"/tag/value/page/1/\">\n",
            "        value\n",
            "       </a>\n",
            "      </div>\n",
            "     </div>\n",
            "     <div class=\"quote\" itemscope=\"\" itemtype=\"http://schema.org/CreativeWork\">\n",
            "      <span class=\"text\" itemprop=\"text\">\n",
            "       “It is better to be hated for what you are than to be loved for what you are not.”\n",
            "      </span>\n",
            "      <span>\n",
            "       by\n",
            "       <small class=\"author\" itemprop=\"author\">\n",
            "        André Gide\n",
            "       </small>\n",
            "       <a href=\"/author/Andre-Gide\">\n",
            "        (about)\n",
            "       </a>\n",
            "      </span>\n",
            "      <div class=\"tags\">\n",
            "       Tags:\n",
            "       <meta class=\"keywords\" content=\"life,love\" itemprop=\"keywords\"/>\n",
            "       <a class=\"tag\" href=\"/tag/life/page/1/\">\n",
            "        life\n",
            "       </a>\n",
            "       <a class=\"tag\" href=\"/tag/love/page/1/\">\n",
            "        love\n",
            "       </a>\n",
            "      </div>\n",
            "     </div>\n",
            "     <div class=\"quote\" itemscope=\"\" itemtype=\"http://schema.org/CreativeWork\">\n",
            "      <span class=\"text\" itemprop=\"text\">\n",
            "       “I have not failed. I've just found 10,000 ways that won't work.”\n",
            "      </span>\n",
            "      <span>\n",
            "       by\n",
            "       <small class=\"author\" itemprop=\"author\">\n",
            "        Thomas A. Edison\n",
            "       </small>\n",
            "       <a href=\"/author/Thomas-A-Edison\">\n",
            "        (about)\n",
            "       </a>\n",
            "      </span>\n",
            "      <div class=\"tags\">\n",
            "       Tags:\n",
            "       <meta class=\"keywords\" content=\"edison,failure,inspirational,paraphrased\" itemprop=\"keywords\"/>\n",
            "       <a class=\"tag\" href=\"/tag/edison/page/1/\">\n",
            "        edison\n",
            "       </a>\n",
            "       <a class=\"tag\" href=\"/tag/failure/page/1/\">\n",
            "        failure\n",
            "       </a>\n",
            "       <a class=\"tag\" href=\"/tag/inspirational/page/1/\">\n",
            "        inspirational\n",
            "       </a>\n",
            "       <a class=\"tag\" href=\"/tag/paraphrased/page/1/\">\n",
            "        paraphrased\n",
            "       </a>\n",
            "      </div>\n",
            "     </div>\n",
            "     <div class=\"quote\" itemscope=\"\" itemtype=\"http://schema.org/CreativeWork\">\n",
            "      <span class=\"text\" itemprop=\"text\">\n",
            "       “A woman is like a tea bag; you never know how strong it is until it's in hot water.”\n",
            "      </span>\n",
            "      <span>\n",
            "       by\n",
            "       <small class=\"author\" itemprop=\"author\">\n",
            "        Eleanor Roosevelt\n",
            "       </small>\n",
            "       <a href=\"/author/Eleanor-Roosevelt\">\n",
            "        (about)\n",
            "       </a>\n",
            "      </span>\n",
            "      <div class=\"tags\">\n",
            "       Tags:\n",
            "       <meta class=\"keywords\" content=\"misattributed-eleanor-roosevelt\" itemprop=\"keywords\"/>\n",
            "       <a class=\"tag\" href=\"/tag/misattributed-eleanor-roosevelt/page/1/\">\n",
            "        misattributed-eleanor-roosevelt\n",
            "       </a>\n",
            "      </div>\n",
            "     </div>\n",
            "     <div class=\"quote\" itemscope=\"\" itemtype=\"http://schema.org/CreativeWork\">\n",
            "      <span class=\"text\" itemprop=\"text\">\n",
            "       “A day without sunshine is like, you know, night.”\n",
            "      </span>\n",
            "      <span>\n",
            "       by\n",
            "       <small class=\"author\" itemprop=\"author\">\n",
            "        Steve Martin\n",
            "       </small>\n",
            "       <a href=\"/author/Steve-Martin\">\n",
            "        (about)\n",
            "       </a>\n",
            "      </span>\n",
            "      <div class=\"tags\">\n",
            "       Tags:\n",
            "       <meta class=\"keywords\" content=\"humor,obvious,simile\" itemprop=\"keywords\"/>\n",
            "       <a class=\"tag\" href=\"/tag/humor/page/1/\">\n",
            "        humor\n",
            "       </a>\n",
            "       <a class=\"tag\" href=\"/tag/obvious/page/1/\">\n",
            "        obvious\n",
            "       </a>\n",
            "       <a class=\"tag\" href=\"/tag/simile/page/1/\">\n",
            "        simile\n",
            "       </a>\n",
            "      </div>\n",
            "     </div>\n",
            "     <nav>\n",
            "      <ul class=\"pager\">\n",
            "       <li class=\"next\">\n",
            "        <a href=\"/page/2/\">\n",
            "         Next\n",
            "         <span aria-hidden=\"true\">\n",
            "          →\n",
            "         </span>\n",
            "        </a>\n",
            "       </li>\n",
            "      </ul>\n",
            "     </nav>\n",
            "    </div>\n",
            "    <div class=\"col-md-4 tags-box\">\n",
            "     <h2>\n",
            "      Top Ten tags\n",
            "     </h2>\n",
            "     <span class=\"tag-item\">\n",
            "      <a class=\"tag\" href=\"/tag/love/\" style=\"font-size: 28px\">\n",
            "       love\n",
            "      </a>\n",
            "     </span>\n",
            "     <span class=\"tag-item\">\n",
            "      <a class=\"tag\" href=\"/tag/inspirational/\" style=\"font-size: 26px\">\n",
            "       inspirational\n",
            "      </a>\n",
            "     </span>\n",
            "     <span class=\"tag-item\">\n",
            "      <a class=\"tag\" href=\"/tag/life/\" style=\"font-size: 26px\">\n",
            "       life\n",
            "      </a>\n",
            "     </span>\n",
            "     <span class=\"tag-item\">\n",
            "      <a class=\"tag\" href=\"/tag/humor/\" style=\"font-size: 24px\">\n",
            "       humor\n",
            "      </a>\n",
            "     </span>\n",
            "     <span class=\"tag-item\">\n",
            "      <a class=\"tag\" href=\"/tag/books/\" style=\"font-size: 22px\">\n",
            "       books\n",
            "      </a>\n",
            "     </span>\n",
            "     <span class=\"tag-item\">\n",
            "      <a class=\"tag\" href=\"/tag/reading/\" style=\"font-size: 14px\">\n",
            "       reading\n",
            "      </a>\n",
            "     </span>\n",
            "     <span class=\"tag-item\">\n",
            "      <a class=\"tag\" href=\"/tag/friendship/\" style=\"font-size: 10px\">\n",
            "       friendship\n",
            "      </a>\n",
            "     </span>\n",
            "     <span class=\"tag-item\">\n",
            "      <a class=\"tag\" href=\"/tag/friends/\" style=\"font-size: 8px\">\n",
            "       friends\n",
            "      </a>\n",
            "     </span>\n",
            "     <span class=\"tag-item\">\n",
            "      <a class=\"tag\" href=\"/tag/truth/\" style=\"font-size: 8px\">\n",
            "       truth\n",
            "      </a>\n",
            "     </span>\n",
            "     <span class=\"tag-item\">\n",
            "      <a class=\"tag\" href=\"/tag/simile/\" style=\"font-size: 6px\">\n",
            "       simile\n",
            "      </a>\n",
            "     </span>\n",
            "    </div>\n",
            "   </div>\n",
            "  </div>\n",
            "  <footer class=\"footer\">\n",
            "   <div class=\"container\">\n",
            "    <p class=\"text-muted\">\n",
            "     Quotes by:\n",
            "     <a href=\"https://www.goodreads.com/quotes\">\n",
            "      GoodReads.com\n",
            "     </a>\n",
            "    </p>\n",
            "    <p class=\"copyright\">\n",
            "     Made with\n",
            "     <span class=\"sh-red\">\n",
            "      ❤\n",
            "     </span>\n",
            "     by\n",
            "     <a href=\"https://scrapinghub.com\">\n",
            "      Scrapinghub\n",
            "     </a>\n",
            "    </p>\n",
            "   </div>\n",
            "  </footer>\n",
            " </body>\n",
            "</html>\n"
          ],
          "name": "stdout"
        }
      ]
    },
    {
      "cell_type": "markdown",
      "metadata": {
        "id": "_OxuOAIXhPl5"
      },
      "source": [
        "#### Step 3: Extracting Required Elements"
      ]
    },
    {
      "cell_type": "code",
      "metadata": {
        "id": "CZW5wafIUapA",
        "outputId": "d29b2c2e-4f0c-404c-eb55-3dce495136ce",
        "colab": {
          "base_uri": "https://localhost:8080/"
        }
      },
      "source": [
        "# Let's now extract data found in a specific tag i.e. data found in <a> tags.\n",
        "# The result is a list of instances of <a> tags found within our document.\n",
        "# NB: In this case, we will get all <a> tags using the find_all() method\n",
        "# which will get all the instances of the specified tag in the web page.\n",
        "# ---\n",
        "# \n",
        "results = soup.find_all('a')\n",
        "results"
      ],
      "execution_count": null,
      "outputs": [
        {
          "output_type": "execute_result",
          "data": {
            "text/plain": [
              "[<a href=\"/\" style=\"text-decoration: none\">Quotes to Scrape</a>,\n",
              " <a href=\"/login\">Login</a>,\n",
              " <a href=\"/author/Albert-Einstein\">(about)</a>,\n",
              " <a class=\"tag\" href=\"/tag/change/page/1/\">change</a>,\n",
              " <a class=\"tag\" href=\"/tag/deep-thoughts/page/1/\">deep-thoughts</a>,\n",
              " <a class=\"tag\" href=\"/tag/thinking/page/1/\">thinking</a>,\n",
              " <a class=\"tag\" href=\"/tag/world/page/1/\">world</a>,\n",
              " <a href=\"/author/J-K-Rowling\">(about)</a>,\n",
              " <a class=\"tag\" href=\"/tag/abilities/page/1/\">abilities</a>,\n",
              " <a class=\"tag\" href=\"/tag/choices/page/1/\">choices</a>,\n",
              " <a href=\"/author/Albert-Einstein\">(about)</a>,\n",
              " <a class=\"tag\" href=\"/tag/inspirational/page/1/\">inspirational</a>,\n",
              " <a class=\"tag\" href=\"/tag/life/page/1/\">life</a>,\n",
              " <a class=\"tag\" href=\"/tag/live/page/1/\">live</a>,\n",
              " <a class=\"tag\" href=\"/tag/miracle/page/1/\">miracle</a>,\n",
              " <a class=\"tag\" href=\"/tag/miracles/page/1/\">miracles</a>,\n",
              " <a href=\"/author/Jane-Austen\">(about)</a>,\n",
              " <a class=\"tag\" href=\"/tag/aliteracy/page/1/\">aliteracy</a>,\n",
              " <a class=\"tag\" href=\"/tag/books/page/1/\">books</a>,\n",
              " <a class=\"tag\" href=\"/tag/classic/page/1/\">classic</a>,\n",
              " <a class=\"tag\" href=\"/tag/humor/page/1/\">humor</a>,\n",
              " <a href=\"/author/Marilyn-Monroe\">(about)</a>,\n",
              " <a class=\"tag\" href=\"/tag/be-yourself/page/1/\">be-yourself</a>,\n",
              " <a class=\"tag\" href=\"/tag/inspirational/page/1/\">inspirational</a>,\n",
              " <a href=\"/author/Albert-Einstein\">(about)</a>,\n",
              " <a class=\"tag\" href=\"/tag/adulthood/page/1/\">adulthood</a>,\n",
              " <a class=\"tag\" href=\"/tag/success/page/1/\">success</a>,\n",
              " <a class=\"tag\" href=\"/tag/value/page/1/\">value</a>,\n",
              " <a href=\"/author/Andre-Gide\">(about)</a>,\n",
              " <a class=\"tag\" href=\"/tag/life/page/1/\">life</a>,\n",
              " <a class=\"tag\" href=\"/tag/love/page/1/\">love</a>,\n",
              " <a href=\"/author/Thomas-A-Edison\">(about)</a>,\n",
              " <a class=\"tag\" href=\"/tag/edison/page/1/\">edison</a>,\n",
              " <a class=\"tag\" href=\"/tag/failure/page/1/\">failure</a>,\n",
              " <a class=\"tag\" href=\"/tag/inspirational/page/1/\">inspirational</a>,\n",
              " <a class=\"tag\" href=\"/tag/paraphrased/page/1/\">paraphrased</a>,\n",
              " <a href=\"/author/Eleanor-Roosevelt\">(about)</a>,\n",
              " <a class=\"tag\" href=\"/tag/misattributed-eleanor-roosevelt/page/1/\">misattributed-eleanor-roosevelt</a>,\n",
              " <a href=\"/author/Steve-Martin\">(about)</a>,\n",
              " <a class=\"tag\" href=\"/tag/humor/page/1/\">humor</a>,\n",
              " <a class=\"tag\" href=\"/tag/obvious/page/1/\">obvious</a>,\n",
              " <a class=\"tag\" href=\"/tag/simile/page/1/\">simile</a>,\n",
              " <a href=\"/page/2/\">Next <span aria-hidden=\"true\">→</span></a>,\n",
              " <a class=\"tag\" href=\"/tag/love/\" style=\"font-size: 28px\">love</a>,\n",
              " <a class=\"tag\" href=\"/tag/inspirational/\" style=\"font-size: 26px\">inspirational</a>,\n",
              " <a class=\"tag\" href=\"/tag/life/\" style=\"font-size: 26px\">life</a>,\n",
              " <a class=\"tag\" href=\"/tag/humor/\" style=\"font-size: 24px\">humor</a>,\n",
              " <a class=\"tag\" href=\"/tag/books/\" style=\"font-size: 22px\">books</a>,\n",
              " <a class=\"tag\" href=\"/tag/reading/\" style=\"font-size: 14px\">reading</a>,\n",
              " <a class=\"tag\" href=\"/tag/friendship/\" style=\"font-size: 10px\">friendship</a>,\n",
              " <a class=\"tag\" href=\"/tag/friends/\" style=\"font-size: 8px\">friends</a>,\n",
              " <a class=\"tag\" href=\"/tag/truth/\" style=\"font-size: 8px\">truth</a>,\n",
              " <a class=\"tag\" href=\"/tag/simile/\" style=\"font-size: 6px\">simile</a>,\n",
              " <a href=\"https://www.goodreads.com/quotes\">GoodReads.com</a>,\n",
              " <a href=\"https://scrapinghub.com\">Scrapinghub</a>]"
            ]
          },
          "metadata": {
            "tags": []
          },
          "execution_count": 9
        }
      ]
    },
    {
      "cell_type": "code",
      "metadata": {
        "id": "nMQg4Y7ZzvQD",
        "outputId": "1770a77e-fb0f-4c32-93f5-80fd13e0ce07",
        "colab": {
          "base_uri": "https://localhost:8080/"
        }
      },
      "source": [
        "# Determining the no. of tags/ instances of the <a> tags\n",
        "# ---\n",
        "#\n",
        "len(results)"
      ],
      "execution_count": null,
      "outputs": [
        {
          "output_type": "execute_result",
          "data": {
            "text/plain": [
              "55"
            ]
          },
          "metadata": {
            "tags": []
          },
          "execution_count": 10
        }
      ]
    },
    {
      "cell_type": "code",
      "metadata": {
        "id": "uUuuPYi32lEw",
        "outputId": "e6ebe250-9659-448f-bc4b-b267bc098940",
        "colab": {
          "base_uri": "https://localhost:8080/"
        }
      },
      "source": [
        "# To get the first text within our first tag we can perform our extraction as follows: \n",
        "# ---\n",
        "# \n",
        "\n",
        "# Method 1\n",
        "# ---\n",
        "#\n",
        "soup.find_all('a')[0].get_text()\n",
        "\n",
        "# or\n",
        "# soup.find_all('a')[0].text"
      ],
      "execution_count": null,
      "outputs": [
        {
          "output_type": "execute_result",
          "data": {
            "application/vnd.google.colaboratory.intrinsic+json": {
              "type": "string"
            },
            "text/plain": [
              "'Quotes to Scrape'"
            ]
          },
          "metadata": {
            "tags": []
          },
          "execution_count": 11
        }
      ]
    },
    {
      "cell_type": "code",
      "metadata": {
        "id": "TTgkcPJu8dct"
      },
      "source": [
        "# Method 2\n",
        "# ---\n",
        "# Uncomment the following code\n",
        "# ---\n",
        "#\n",
        "# soup.find('a').get_text()\n",
        "\n",
        "# or\n",
        "# soup.find_all('a')[0].text"
      ],
      "execution_count": null,
      "outputs": []
    },
    {
      "cell_type": "code",
      "metadata": {
        "id": "dxgT8sVCiI-T",
        "outputId": "89d0e11a-366b-4091-da2e-25c7d149313b",
        "colab": {
          "base_uri": "https://localhost:8080/"
        }
      },
      "source": [
        "# Checking the last item\n",
        "# ---\n",
        "# \n",
        "results[-1]"
      ],
      "execution_count": null,
      "outputs": [
        {
          "output_type": "execute_result",
          "data": {
            "text/plain": [
              "<a href=\"https://scrapinghub.com\">Scrapinghub</a>"
            ]
          },
          "metadata": {
            "tags": []
          },
          "execution_count": 13
        }
      ]
    },
    {
      "cell_type": "code",
      "metadata": {
        "id": "D0zKysupxjTw",
        "outputId": "5296268b-e8c3-4e8a-d2fd-222889fe2c3d",
        "colab": {
          "base_uri": "https://localhost:8080/"
        }
      },
      "source": [
        "# We can also specify the tag that we would like to retrive our text data from, \n",
        "# in this case getting the text from the tag with the following attributes:\n",
        "# ---\n",
        "# - class=\"tag\"\n",
        "# - href=\"/tag/change/page/1/\"\n",
        "# This tag would be:\n",
        "# - <a class=\"tag\" href=\"/tag/change/page/1/\">change</a>\n",
        "# ---\n",
        "# \n",
        "\n",
        "# We perform the following \n",
        "# ---\n",
        "#\n",
        "results = soup.find_all('a', attrs={'class':'tag', 'href': '/tag/change/page/1/'})[0].get_text()\n",
        "results\n",
        "\n",
        "# Method 2\n",
        "# ---\n",
        "# Uncomment the following lines\n",
        "# ---\n",
        "#\n",
        "# results = soup.find_all('a', {'class':'tag', 'href': '/tag/change/page/1/'})[0].get_text()\n",
        "# results"
      ],
      "execution_count": null,
      "outputs": [
        {
          "output_type": "execute_result",
          "data": {
            "application/vnd.google.colaboratory.intrinsic+json": {
              "type": "string"
            },
            "text/plain": [
              "'change'"
            ]
          },
          "metadata": {
            "tags": []
          },
          "execution_count": 14
        }
      ]
    },
    {
      "cell_type": "code",
      "metadata": {
        "id": "PRuruBChQc2y"
      },
      "source": [
        "# We can also get the values of the attributes by \n",
        "# \n"
      ],
      "execution_count": null,
      "outputs": []
    },
    {
      "cell_type": "code",
      "metadata": {
        "id": "85hT_Mkr9VZ2"
      },
      "source": [
        "# We then create empty lists that we will use to store\n",
        "# content fetched from the <a> tags\n",
        "# ---\n",
        "#\n",
        "link_content = []\n",
        "link_url = []\n",
        "\n",
        "# Getting all our <a> tags \n",
        "# ---\n",
        "#\n",
        "results = soup.find_all('a')\n",
        "\n",
        "# We the loop through these tags\n",
        "for result in results:\n",
        "   \n",
        "    # Getting our text from each tag\n",
        "    text = result.get_text()\n",
        "\n",
        "    # We concatenate our domain with href link that we scrape\n",
        "    # in order to form a full link\n",
        "    link = 'http://quotes.toscrape.com' + result.get('href')\n",
        "\n",
        "    # Then appending the text to our link_content list\n",
        "    link_content.append(text)\n",
        "\n",
        "    # Then appending the text to our link_url list\n",
        "    link_url.append(link)"
      ],
      "execution_count": null,
      "outputs": []
    },
    {
      "cell_type": "code",
      "metadata": {
        "id": "cPjwvCmGJMf8",
        "outputId": "ab8f795c-f30e-448b-c844-1d1471b7ff23",
        "colab": {
          "base_uri": "https://localhost:8080/"
        }
      },
      "source": [
        "# Previewing our link_content list by checking first 10 items\n",
        "# ---\n",
        "#\n",
        "link_content[0:10]"
      ],
      "execution_count": null,
      "outputs": [
        {
          "output_type": "execute_result",
          "data": {
            "text/plain": [
              "['Quotes to Scrape',\n",
              " 'Login',\n",
              " '(about)',\n",
              " 'change',\n",
              " 'deep-thoughts',\n",
              " 'thinking',\n",
              " 'world',\n",
              " '(about)',\n",
              " 'abilities',\n",
              " 'choices']"
            ]
          },
          "metadata": {
            "tags": []
          },
          "execution_count": 17
        }
      ]
    },
    {
      "cell_type": "code",
      "metadata": {
        "id": "a8KHAbzRNids",
        "outputId": "6c8be3be-860a-4075-f15f-e4e854fc8b84",
        "colab": {
          "base_uri": "https://localhost:8080/"
        }
      },
      "source": [
        "# Previewing our links_content list by checking first 10 items\n",
        "# ---\n",
        "#\n",
        "link_url[0:10]"
      ],
      "execution_count": null,
      "outputs": [
        {
          "output_type": "execute_result",
          "data": {
            "text/plain": [
              "['http://quotes.toscrape.com/',\n",
              " 'http://quotes.toscrape.com/login',\n",
              " 'http://quotes.toscrape.com/author/Albert-Einstein',\n",
              " 'http://quotes.toscrape.com/tag/change/page/1/',\n",
              " 'http://quotes.toscrape.com/tag/deep-thoughts/page/1/',\n",
              " 'http://quotes.toscrape.com/tag/thinking/page/1/',\n",
              " 'http://quotes.toscrape.com/tag/world/page/1/',\n",
              " 'http://quotes.toscrape.com/author/J-K-Rowling',\n",
              " 'http://quotes.toscrape.com/tag/abilities/page/1/',\n",
              " 'http://quotes.toscrape.com/tag/choices/page/1/']"
            ]
          },
          "metadata": {
            "tags": []
          },
          "execution_count": 18
        }
      ]
    },
    {
      "cell_type": "markdown",
      "metadata": {
        "id": "7ePXABAihaKn"
      },
      "source": [
        "#### Step 4: Saving our Data"
      ]
    },
    {
      "cell_type": "code",
      "metadata": {
        "id": "fsG9pQXk5f8y",
        "outputId": "43e9874d-0ddb-48e8-bf15-43432d9cd805",
        "colab": {
          "base_uri": "https://localhost:8080/"
        }
      },
      "source": [
        "# Finally, we save the scraped contents in a dataframe and preview our data as shown\n",
        "# ---\n",
        "#\n",
        "df = pd.DataFrame({\"link_content\": link_content, \"link_url\": link_url})\n",
        "df.head()"
      ],
      "execution_count": null,
      "outputs": [
        {
          "output_type": "execute_result",
          "data": {
            "text/html": [
              "<div>\n",
              "<style scoped>\n",
              "    .dataframe tbody tr th:only-of-type {\n",
              "        vertical-align: middle;\n",
              "    }\n",
              "\n",
              "    .dataframe tbody tr th {\n",
              "        vertical-align: top;\n",
              "    }\n",
              "\n",
              "    .dataframe thead th {\n",
              "        text-align: right;\n",
              "    }\n",
              "</style>\n",
              "<table border=\"1\" class=\"dataframe\">\n",
              "  <thead>\n",
              "    <tr style=\"text-align: right;\">\n",
              "      <th></th>\n",
              "      <th>link_content</th>\n",
              "      <th>link_url</th>\n",
              "    </tr>\n",
              "  </thead>\n",
              "  <tbody>\n",
              "    <tr>\n",
              "      <th>0</th>\n",
              "      <td>Quotes to Scrape</td>\n",
              "      <td>http://quotes.toscrape.com/</td>\n",
              "    </tr>\n",
              "    <tr>\n",
              "      <th>1</th>\n",
              "      <td>Login</td>\n",
              "      <td>http://quotes.toscrape.com/login</td>\n",
              "    </tr>\n",
              "    <tr>\n",
              "      <th>2</th>\n",
              "      <td>(about)</td>\n",
              "      <td>http://quotes.toscrape.com/author/Albert-Einstein</td>\n",
              "    </tr>\n",
              "    <tr>\n",
              "      <th>3</th>\n",
              "      <td>change</td>\n",
              "      <td>http://quotes.toscrape.com/tag/change/page/1/</td>\n",
              "    </tr>\n",
              "    <tr>\n",
              "      <th>4</th>\n",
              "      <td>deep-thoughts</td>\n",
              "      <td>http://quotes.toscrape.com/tag/deep-thoughts/p...</td>\n",
              "    </tr>\n",
              "  </tbody>\n",
              "</table>\n",
              "</div>"
            ],
            "text/plain": [
              "       link_content                                           link_url\n",
              "0  Quotes to Scrape                        http://quotes.toscrape.com/\n",
              "1             Login                   http://quotes.toscrape.com/login\n",
              "2           (about)  http://quotes.toscrape.com/author/Albert-Einstein\n",
              "3            change      http://quotes.toscrape.com/tag/change/page/1/\n",
              "4     deep-thoughts  http://quotes.toscrape.com/tag/deep-thoughts/p..."
            ]
          },
          "metadata": {
            "tags": []
          },
          "execution_count": 19
        }
      ]
    },
    {
      "cell_type": "markdown",
      "metadata": {
        "id": "ZbU2Duni1Mpa"
      },
      "source": [
        "### Example 2: Scraping for Tables"
      ]
    },
    {
      "cell_type": "code",
      "metadata": {
        "id": "uK1JMrZp1NvY"
      },
      "source": [
        "# Example 2\n",
        "# ---\n",
        "# Get a list of African cities from the given URL and store the city and respective population.\n",
        "# ---\n",
        "# Website URL = https://en.wikipedia.org/wiki/List_of_cities_in_Africa_by_population\n",
        "# ---\n",
        "# YOUR CODE GOES BELOW\n",
        "# "
      ],
      "execution_count": null,
      "outputs": []
    },
    {
      "cell_type": "markdown",
      "metadata": {
        "id": "Nebneur-hs5y"
      },
      "source": [
        "#### Step 1: Obtaining our Data"
      ]
    },
    {
      "cell_type": "code",
      "metadata": {
        "id": "hdA8szG4i8vd",
        "outputId": "dae4219f-f811-4410-ce84-e376fa60bf54",
        "colab": {
          "base_uri": "https://localhost:8080/"
        }
      },
      "source": [
        "# Fetching our data from wikipedia. A status of 200 mean success.\n",
        "# \n",
        "# ---\n",
        "#\n",
        "page = requests.get('https://en.wikipedia.org/wiki/List_of_cities_in_Africa_by_population')\n",
        "page "
      ],
      "execution_count": null,
      "outputs": [
        {
          "output_type": "execute_result",
          "data": {
            "text/plain": [
              "<Response [200]>"
            ]
          },
          "metadata": {
            "tags": []
          },
          "execution_count": 21
        }
      ]
    },
    {
      "cell_type": "markdown",
      "metadata": {
        "id": "arAJFImdiEWz"
      },
      "source": [
        "#### Step 2: Parsing"
      ]
    },
    {
      "cell_type": "code",
      "metadata": {
        "id": "ReHcLuMfi9L8"
      },
      "source": [
        "# Parsing our data using BeautifulSoup\n",
        "# ---\n",
        "#\n",
        "soup = BeautifulSoup(page.text, \"html.parser\")"
      ],
      "execution_count": null,
      "outputs": []
    },
    {
      "cell_type": "markdown",
      "metadata": {
        "id": "6WkJ1GhgqPUJ"
      },
      "source": [
        "Using the browser inspect feature, we identify our source table to have the following tag: \n",
        "\n",
        "`<table class=\"sortable wikitable jquery-tablesorter\">`"
      ]
    },
    {
      "cell_type": "markdown",
      "metadata": {
        "id": "0uTC_BJkiQ8b"
      },
      "source": [
        "#### Step 3: Extracting Required Elements"
      ]
    },
    {
      "cell_type": "code",
      "metadata": {
        "id": "RDJQnet4i_AT"
      },
      "source": [
        "# Using the browser inspect feature, we identify our source table to have the following tag: \n",
        "# ---\n",
        "# <table class=\"sortable wikitable\">\n",
        "# ---\n",
        "#\n",
        "right_table = soup.find('table', {'class': 'sortable wikitable'}) "
      ],
      "execution_count": null,
      "outputs": []
    },
    {
      "cell_type": "code",
      "metadata": {
        "id": "qx1Zev6zzrkt",
        "outputId": "b850a3e0-c338-462d-90a5-7216fa481f4f",
        "colab": {
          "base_uri": "https://localhost:8080/",
          "height": 1000
        }
      },
      "source": [
        "# And then preview it, still the purpose of confirmation\n",
        "#  \n",
        "print(right_table)"
      ],
      "execution_count": null,
      "outputs": [
        {
          "output_type": "stream",
          "text": [
            "<table class=\"sortable wikitable\">\n",
            "<tbody><tr>\n",
            "<th style=\"width:4\">Rank\n",
            "</th>\n",
            "<th style=\"width:60\">City\n",
            "</th>\n",
            "<th style=\"width:60\">Country\n",
            "</th>\n",
            "<th style=\"width:40\">Population\n",
            "</th>\n",
            "<th style=\"width:6\">Date of Estimate\n",
            "</th></tr>\n",
            "<tr>\n",
            "<td>1\n",
            "</td>\n",
            "<td><b><a href=\"/wiki/Lagos\" title=\"Lagos\">Lagos</a></b>\n",
            "</td>\n",
            "<td><span class=\"flagicon\"><img alt=\"\" class=\"thumbborder\" data-file-height=\"600\" data-file-width=\"1200\" decoding=\"async\" height=\"12\" src=\"//upload.wikimedia.org/wikipedia/commons/thumb/7/79/Flag_of_Nigeria.svg/23px-Flag_of_Nigeria.svg.png\" srcset=\"//upload.wikimedia.org/wikipedia/commons/thumb/7/79/Flag_of_Nigeria.svg/35px-Flag_of_Nigeria.svg.png 1.5x, //upload.wikimedia.org/wikipedia/commons/thumb/7/79/Flag_of_Nigeria.svg/46px-Flag_of_Nigeria.svg.png 2x\" width=\"23\"/> </span><a href=\"/wiki/Nigeria\" title=\"Nigeria\">Nigeria</a>\n",
            "</td>\n",
            "<td>21,320,000\n",
            "</td>\n",
            "<td>2019\n",
            "</td></tr>\n",
            "<tr>\n",
            "<td>2\n",
            "</td>\n",
            "<td><i><b><a href=\"/wiki/Kinshasa\" title=\"Kinshasa\">Kinshasa</a></b></i>\n",
            "</td>\n",
            "<td><span class=\"flagicon\"><img alt=\"\" class=\"thumbborder\" data-file-height=\"600\" data-file-width=\"800\" decoding=\"async\" height=\"15\" src=\"//upload.wikimedia.org/wikipedia/commons/thumb/6/6f/Flag_of_the_Democratic_Republic_of_the_Congo.svg/20px-Flag_of_the_Democratic_Republic_of_the_Congo.svg.png\" srcset=\"//upload.wikimedia.org/wikipedia/commons/thumb/6/6f/Flag_of_the_Democratic_Republic_of_the_Congo.svg/31px-Flag_of_the_Democratic_Republic_of_the_Congo.svg.png 1.5x, //upload.wikimedia.org/wikipedia/commons/thumb/6/6f/Flag_of_the_Democratic_Republic_of_the_Congo.svg/40px-Flag_of_the_Democratic_Republic_of_the_Congo.svg.png 2x\" width=\"20\"/> </span><a href=\"/wiki/Democratic_Republic_of_the_Congo\" title=\"Democratic Republic of the Congo\">Democratic Republic of the Congo</a>\n",
            "</td>\n",
            "<td>11,860,000\n",
            "</td>\n",
            "<td>2016\n",
            "</td></tr>\n",
            "<tr>\n",
            "<td>3\n",
            "</td>\n",
            "<td><i><b><a href=\"/wiki/Cairo\" title=\"Cairo\">Cairo</a></b></i>\n",
            "</td>\n",
            "<td><span class=\"flagicon\"><img alt=\"\" class=\"thumbborder\" data-file-height=\"600\" data-file-width=\"900\" decoding=\"async\" height=\"15\" src=\"//upload.wikimedia.org/wikipedia/commons/thumb/f/fe/Flag_of_Egypt.svg/23px-Flag_of_Egypt.svg.png\" srcset=\"//upload.wikimedia.org/wikipedia/commons/thumb/f/fe/Flag_of_Egypt.svg/35px-Flag_of_Egypt.svg.png 1.5x, //upload.wikimedia.org/wikipedia/commons/thumb/f/fe/Flag_of_Egypt.svg/45px-Flag_of_Egypt.svg.png 2x\" width=\"23\"/> </span><a href=\"/wiki/Egypt\" title=\"Egypt\">Egypt</a>\n",
            "</td>\n",
            "<td>9,500,000\n",
            "</td>\n",
            "<td>2018\n",
            "</td></tr>\n",
            "<tr>\n",
            "<td>4\n",
            "</td>\n",
            "<td><a href=\"/wiki/Giza\" title=\"Giza\">Giza</a>\n",
            "</td>\n",
            "<td><span class=\"flagicon\"><img alt=\"\" class=\"thumbborder\" data-file-height=\"600\" data-file-width=\"900\" decoding=\"async\" height=\"15\" src=\"//upload.wikimedia.org/wikipedia/commons/thumb/f/fe/Flag_of_Egypt.svg/23px-Flag_of_Egypt.svg.png\" srcset=\"//upload.wikimedia.org/wikipedia/commons/thumb/f/fe/Flag_of_Egypt.svg/35px-Flag_of_Egypt.svg.png 1.5x, //upload.wikimedia.org/wikipedia/commons/thumb/f/fe/Flag_of_Egypt.svg/45px-Flag_of_Egypt.svg.png 2x\" width=\"23\"/> </span><a href=\"/wiki/Egypt\" title=\"Egypt\">Egypt</a>\n",
            "</td>\n",
            "<td>8,800,000\n",
            "</td>\n",
            "<td>2018\n",
            "</td></tr>\n",
            "<tr>\n",
            "<td>5\n",
            "</td>\n",
            "<td><b><a href=\"/wiki/Johannesburg\" title=\"Johannesburg\">Johannesburg</a></b>\n",
            "</td>\n",
            "<td><span class=\"flagicon\"><img alt=\"\" class=\"thumbborder\" data-file-height=\"600\" data-file-width=\"900\" decoding=\"async\" height=\"15\" src=\"//upload.wikimedia.org/wikipedia/commons/thumb/a/af/Flag_of_South_Africa.svg/23px-Flag_of_South_Africa.svg.png\" srcset=\"//upload.wikimedia.org/wikipedia/commons/thumb/a/af/Flag_of_South_Africa.svg/35px-Flag_of_South_Africa.svg.png 1.5x, //upload.wikimedia.org/wikipedia/commons/thumb/a/af/Flag_of_South_Africa.svg/45px-Flag_of_South_Africa.svg.png 2x\" width=\"23\"/> </span><a href=\"/wiki/South_Africa\" title=\"South Africa\">South Africa</a>\n",
            "</td>\n",
            "<td>5,640,000\n",
            "</td>\n",
            "<td>2019\n",
            "</td></tr>\n",
            "<tr>\n",
            "<td>6\n",
            "</td>\n",
            "<td><b><a href=\"/wiki/Dar_es_Salaam\" title=\"Dar es Salaam\">Dar es Salaam</a></b>\n",
            "</td>\n",
            "<td><span class=\"flagicon\"><img alt=\"\" class=\"thumbborder\" data-file-height=\"600\" data-file-width=\"900\" decoding=\"async\" height=\"15\" src=\"//upload.wikimedia.org/wikipedia/commons/thumb/3/38/Flag_of_Tanzania.svg/23px-Flag_of_Tanzania.svg.png\" srcset=\"//upload.wikimedia.org/wikipedia/commons/thumb/3/38/Flag_of_Tanzania.svg/35px-Flag_of_Tanzania.svg.png 1.5x, //upload.wikimedia.org/wikipedia/commons/thumb/3/38/Flag_of_Tanzania.svg/45px-Flag_of_Tanzania.svg.png 2x\" width=\"23\"/> </span><a href=\"/wiki/Tanzania\" title=\"Tanzania\">Tanzania</a>\n",
            "</td>\n",
            "<td>5,550,000\n",
            "</td>\n",
            "<td>2016\n",
            "</td></tr>\n",
            "<tr>\n",
            "<td>7\n",
            "</td>\n",
            "<td><a href=\"/wiki/Alexandria\" title=\"Alexandria\">Alexandria</a>\n",
            "</td>\n",
            "<td><span class=\"flagicon\"><img alt=\"\" class=\"thumbborder\" data-file-height=\"600\" data-file-width=\"900\" decoding=\"async\" height=\"15\" src=\"//upload.wikimedia.org/wikipedia/commons/thumb/f/fe/Flag_of_Egypt.svg/23px-Flag_of_Egypt.svg.png\" srcset=\"//upload.wikimedia.org/wikipedia/commons/thumb/f/fe/Flag_of_Egypt.svg/35px-Flag_of_Egypt.svg.png 1.5x, //upload.wikimedia.org/wikipedia/commons/thumb/f/fe/Flag_of_Egypt.svg/45px-Flag_of_Egypt.svg.png 2x\" width=\"23\"/> </span><a href=\"/wiki/Egypt\" title=\"Egypt\">Egypt</a>\n",
            "</td>\n",
            "<td>5,200,000\n",
            "</td>\n",
            "<td>2018\n",
            "</td></tr>\n",
            "<tr>\n",
            "<td>8\n",
            "</td>\n",
            "<td><b><a href=\"/wiki/Abidjan\" title=\"Abidjan\">Abidjan</a></b>\n",
            "</td>\n",
            "<td><span class=\"flagicon\"><img alt=\"\" class=\"thumbborder\" data-file-height=\"600\" data-file-width=\"900\" decoding=\"async\" height=\"15\" src=\"//upload.wikimedia.org/wikipedia/commons/thumb/f/fe/Flag_of_C%C3%B4te_d%27Ivoire.svg/23px-Flag_of_C%C3%B4te_d%27Ivoire.svg.png\" srcset=\"//upload.wikimedia.org/wikipedia/commons/thumb/f/fe/Flag_of_C%C3%B4te_d%27Ivoire.svg/35px-Flag_of_C%C3%B4te_d%27Ivoire.svg.png 1.5x, //upload.wikimedia.org/wikipedia/commons/thumb/f/fe/Flag_of_C%C3%B4te_d%27Ivoire.svg/45px-Flag_of_C%C3%B4te_d%27Ivoire.svg.png 2x\" width=\"23\"/> </span><a href=\"/wiki/Ivory_Coast\" title=\"Ivory Coast\">Cote d'Ivoire</a>\n",
            "</td>\n",
            "<td>4,980,000\n",
            "</td>\n",
            "<td>2016\n",
            "</td></tr>\n",
            "<tr>\n",
            "<td>9\n",
            "</td>\n",
            "<td><b><a href=\"/wiki/Nairobi\" title=\"Nairobi\">Nairobi</a></b>\n",
            "</td>\n",
            "<td><span class=\"flagicon\"><img alt=\"\" class=\"thumbborder\" data-file-height=\"600\" data-file-width=\"900\" decoding=\"async\" height=\"15\" src=\"//upload.wikimedia.org/wikipedia/commons/thumb/4/49/Flag_of_Kenya.svg/23px-Flag_of_Kenya.svg.png\" srcset=\"//upload.wikimedia.org/wikipedia/commons/thumb/4/49/Flag_of_Kenya.svg/35px-Flag_of_Kenya.svg.png 1.5x, //upload.wikimedia.org/wikipedia/commons/thumb/4/49/Flag_of_Kenya.svg/45px-Flag_of_Kenya.svg.png 2x\" width=\"23\"/> </span><a href=\"/wiki/Kenya\" title=\"Kenya\">Kenya</a>\n",
            "</td>\n",
            "<td>4,720,000\n",
            "</td>\n",
            "<td>2016\n",
            "</td></tr>\n",
            "<tr>\n",
            "<td>10\n",
            "</td>\n",
            "<td><b><a href=\"/wiki/Casablanca\" title=\"Casablanca\">Casablanca</a></b>\n",
            "</td>\n",
            "<td><span class=\"flagicon\"><img alt=\"\" class=\"thumbborder\" data-file-height=\"600\" data-file-width=\"900\" decoding=\"async\" height=\"15\" src=\"//upload.wikimedia.org/wikipedia/commons/thumb/2/2c/Flag_of_Morocco.svg/23px-Flag_of_Morocco.svg.png\" srcset=\"//upload.wikimedia.org/wikipedia/commons/thumb/2/2c/Flag_of_Morocco.svg/35px-Flag_of_Morocco.svg.png 1.5x, //upload.wikimedia.org/wikipedia/commons/thumb/2/2c/Flag_of_Morocco.svg/45px-Flag_of_Morocco.svg.png 2x\" width=\"23\"/> </span><a href=\"/wiki/Morocco\" title=\"Morocco\">Morocco</a>\n",
            "</td>\n",
            "<td>4,370,000\n",
            "</td>\n",
            "<td>2014\n",
            "</td></tr>\n",
            "<tr>\n",
            "<td>11\n",
            "</td>\n",
            "<td><i><b><a href=\"/wiki/Accra\" title=\"Accra\">Accra</a></b></i>\n",
            "</td>\n",
            "<td><span class=\"flagicon\"><img alt=\"\" class=\"thumbborder\" data-file-height=\"600\" data-file-width=\"900\" decoding=\"async\" height=\"15\" src=\"//upload.wikimedia.org/wikipedia/commons/thumb/1/19/Flag_of_Ghana.svg/23px-Flag_of_Ghana.svg.png\" srcset=\"//upload.wikimedia.org/wikipedia/commons/thumb/1/19/Flag_of_Ghana.svg/35px-Flag_of_Ghana.svg.png 1.5x, //upload.wikimedia.org/wikipedia/commons/thumb/1/19/Flag_of_Ghana.svg/45px-Flag_of_Ghana.svg.png 2x\" width=\"23\"/> </span><a href=\"/wiki/Ghana\" title=\"Ghana\">Ghana</a>\n",
            "</td>\n",
            "<td>4,200,000\n",
            "</td>\n",
            "<td>2020\n",
            "</td></tr>\n",
            "<tr>\n",
            "<td>12\n",
            "</td>\n",
            "<td><i><a href=\"/wiki/Cape_Town\" title=\"Cape Town\">Cape Town</a></i>\n",
            "</td>\n",
            "<td><span class=\"flagicon\"><img alt=\"\" class=\"thumbborder\" data-file-height=\"600\" data-file-width=\"900\" decoding=\"async\" height=\"15\" src=\"//upload.wikimedia.org/wikipedia/commons/thumb/a/af/Flag_of_South_Africa.svg/23px-Flag_of_South_Africa.svg.png\" srcset=\"//upload.wikimedia.org/wikipedia/commons/thumb/a/af/Flag_of_South_Africa.svg/35px-Flag_of_South_Africa.svg.png 1.5x, //upload.wikimedia.org/wikipedia/commons/thumb/a/af/Flag_of_South_Africa.svg/45px-Flag_of_South_Africa.svg.png 2x\" width=\"23\"/> </span><a href=\"/wiki/South_Africa\" title=\"South Africa\">South Africa</a>\n",
            "</td>\n",
            "<td>3,740,000\n",
            "</td>\n",
            "<td>2011\n",
            "</td></tr>\n",
            "<tr>\n",
            "<td>13\n",
            "</td>\n",
            "<td><i><b><a href=\"/wiki/Algiers\" title=\"Algiers\">Algiers</a></b></i>\n",
            "</td>\n",
            "<td><span class=\"flagicon\"><img alt=\"\" class=\"thumbborder\" data-file-height=\"600\" data-file-width=\"900\" decoding=\"async\" height=\"15\" src=\"//upload.wikimedia.org/wikipedia/commons/thumb/7/77/Flag_of_Algeria.svg/23px-Flag_of_Algeria.svg.png\" srcset=\"//upload.wikimedia.org/wikipedia/commons/thumb/7/77/Flag_of_Algeria.svg/35px-Flag_of_Algeria.svg.png 1.5x, //upload.wikimedia.org/wikipedia/commons/thumb/7/77/Flag_of_Algeria.svg/45px-Flag_of_Algeria.svg.png 2x\" width=\"23\"/> </span><a href=\"/wiki/Algeria\" title=\"Algeria\">Algeria</a>\n",
            "</td>\n",
            "<td>3,420,000\n",
            "</td>\n",
            "<td>2011\n",
            "</td></tr>\n",
            "<tr>\n",
            "<td>14\n",
            "</td>\n",
            "<td><a href=\"/wiki/Kumasi\" title=\"Kumasi\">Kumasi</a>\n",
            "</td>\n",
            "<td><span class=\"flagicon\"><img alt=\"\" class=\"thumbborder\" data-file-height=\"600\" data-file-width=\"900\" decoding=\"async\" height=\"15\" src=\"//upload.wikimedia.org/wikipedia/commons/thumb/1/19/Flag_of_Ghana.svg/23px-Flag_of_Ghana.svg.png\" srcset=\"//upload.wikimedia.org/wikipedia/commons/thumb/1/19/Flag_of_Ghana.svg/35px-Flag_of_Ghana.svg.png 1.5x, //upload.wikimedia.org/wikipedia/commons/thumb/1/19/Flag_of_Ghana.svg/45px-Flag_of_Ghana.svg.png 2x\" width=\"23\"/> </span><a href=\"/wiki/Ghana\" title=\"Ghana\">Ghana</a>\n",
            "</td>\n",
            "<td>3,206,000\n",
            "</td>\n",
            "<td>2019\n",
            "</td></tr>\n",
            "<tr>\n",
            "<td>15\n",
            "</td>\n",
            "<td><i><b><a href=\"/wiki/Addis_Ababa\" title=\"Addis Ababa\">Addis Ababa</a></b></i>\n",
            "</td>\n",
            "<td><span class=\"flagicon\"><img alt=\"\" class=\"thumbborder\" data-file-height=\"600\" data-file-width=\"1200\" decoding=\"async\" height=\"12\" src=\"//upload.wikimedia.org/wikipedia/commons/thumb/7/71/Flag_of_Ethiopia.svg/23px-Flag_of_Ethiopia.svg.png\" srcset=\"//upload.wikimedia.org/wikipedia/commons/thumb/7/71/Flag_of_Ethiopia.svg/35px-Flag_of_Ethiopia.svg.png 1.5x, //upload.wikimedia.org/wikipedia/commons/thumb/7/71/Flag_of_Ethiopia.svg/46px-Flag_of_Ethiopia.svg.png 2x\" width=\"23\"/> </span><a href=\"/wiki/Ethiopia\" title=\"Ethiopia\">Ethiopia</a>\n",
            "</td>\n",
            "<td>3,040,000\n",
            "</td>\n",
            "<td>2012\n",
            "</td></tr>\n",
            "<tr>\n",
            "<td>16\n",
            "</td>\n",
            "<td><a href=\"/wiki/Kano\" title=\"Kano\">Kano</a>\n",
            "</td>\n",
            "<td><span class=\"flagicon\"><img alt=\"\" class=\"thumbborder\" data-file-height=\"600\" data-file-width=\"1200\" decoding=\"async\" height=\"12\" src=\"//upload.wikimedia.org/wikipedia/commons/thumb/7/79/Flag_of_Nigeria.svg/23px-Flag_of_Nigeria.svg.png\" srcset=\"//upload.wikimedia.org/wikipedia/commons/thumb/7/79/Flag_of_Nigeria.svg/35px-Flag_of_Nigeria.svg.png 1.5x, //upload.wikimedia.org/wikipedia/commons/thumb/7/79/Flag_of_Nigeria.svg/46px-Flag_of_Nigeria.svg.png 2x\" width=\"23\"/> </span><a href=\"/wiki/Nigeria\" title=\"Nigeria\">Nigeria</a>\n",
            "</td>\n",
            "<td>2,830,000\n",
            "</td>\n",
            "<td>2006\n",
            "</td></tr>\n",
            "<tr>\n",
            "<td>17\n",
            "</td>\n",
            "<td><i><b><a href=\"/wiki/Luanda\" title=\"Luanda\">Luanda</a></b></i>\n",
            "</td>\n",
            "<td><span class=\"flagicon\"><img alt=\"\" class=\"thumbborder\" data-file-height=\"600\" data-file-width=\"900\" decoding=\"async\" height=\"15\" src=\"//upload.wikimedia.org/wikipedia/commons/thumb/9/9d/Flag_of_Angola.svg/23px-Flag_of_Angola.svg.png\" srcset=\"//upload.wikimedia.org/wikipedia/commons/thumb/9/9d/Flag_of_Angola.svg/35px-Flag_of_Angola.svg.png 1.5x, //upload.wikimedia.org/wikipedia/commons/thumb/9/9d/Flag_of_Angola.svg/45px-Flag_of_Angola.svg.png 2x\" width=\"23\"/> </span><a href=\"/wiki/Angola\" title=\"Angola\">Angola</a>\n",
            "</td>\n",
            "<td>2,570,000\n",
            "</td>\n",
            "<td>2019\n",
            "</td></tr>\n",
            "<tr>\n",
            "<td>18\n",
            "</td>\n",
            "<td><a href=\"/wiki/Ibadan\" title=\"Ibadan\">Ibadan</a>\n",
            "</td>\n",
            "<td><span class=\"flagicon\"><img alt=\"\" class=\"thumbborder\" data-file-height=\"600\" data-file-width=\"1200\" decoding=\"async\" height=\"12\" src=\"//upload.wikimedia.org/wikipedia/commons/thumb/7/79/Flag_of_Nigeria.svg/23px-Flag_of_Nigeria.svg.png\" srcset=\"//upload.wikimedia.org/wikipedia/commons/thumb/7/79/Flag_of_Nigeria.svg/35px-Flag_of_Nigeria.svg.png 1.5x, //upload.wikimedia.org/wikipedia/commons/thumb/7/79/Flag_of_Nigeria.svg/46px-Flag_of_Nigeria.svg.png 2x\" width=\"23\"/> </span><a href=\"/wiki/Nigeria\" title=\"Nigeria\">Nigeria</a>\n",
            "</td>\n",
            "<td>2,560,000\n",
            "</td>\n",
            "<td>2006\n",
            "</td></tr>\n",
            "<tr>\n",
            "<td>19\n",
            "</td>\n",
            "<td><b><a href=\"/wiki/Douala\" title=\"Douala\">Douala</a></b>\n",
            "</td>\n",
            "<td><span class=\"flagicon\"><img alt=\"\" class=\"thumbborder\" data-file-height=\"600\" data-file-width=\"900\" decoding=\"async\" height=\"15\" src=\"//upload.wikimedia.org/wikipedia/commons/thumb/4/4f/Flag_of_Cameroon.svg/23px-Flag_of_Cameroon.svg.png\" srcset=\"//upload.wikimedia.org/wikipedia/commons/thumb/4/4f/Flag_of_Cameroon.svg/35px-Flag_of_Cameroon.svg.png 1.5x, //upload.wikimedia.org/wikipedia/commons/thumb/4/4f/Flag_of_Cameroon.svg/45px-Flag_of_Cameroon.svg.png 2x\" width=\"23\"/> </span><a href=\"/wiki/Cameroon\" title=\"Cameroon\">Cameroon</a>\n",
            "</td>\n",
            "<td>1,906,962\n",
            "</td>\n",
            "<td>2005\n",
            "</td></tr>\n",
            "<tr>\n",
            "<td>20\n",
            "</td>\n",
            "<td><b><a href=\"/wiki/Omdurman\" title=\"Omdurman\">Omdurman</a></b>\n",
            "</td>\n",
            "<td><span class=\"flagicon\"><img alt=\"\" class=\"thumbborder\" data-file-height=\"600\" data-file-width=\"1200\" decoding=\"async\" height=\"12\" src=\"//upload.wikimedia.org/wikipedia/commons/thumb/0/01/Flag_of_Sudan.svg/23px-Flag_of_Sudan.svg.png\" srcset=\"//upload.wikimedia.org/wikipedia/commons/thumb/0/01/Flag_of_Sudan.svg/35px-Flag_of_Sudan.svg.png 1.5x, //upload.wikimedia.org/wikipedia/commons/thumb/0/01/Flag_of_Sudan.svg/46px-Flag_of_Sudan.svg.png 2x\" width=\"23\"/> </span><a href=\"/wiki/Sudan\" title=\"Sudan\">Sudan</a>\n",
            "</td>\n",
            "<td>1,849,659\n",
            "</td>\n",
            "<td>2008\n",
            "</td></tr>\n",
            "<tr>\n",
            "<td>21\n",
            "</td>\n",
            "<td><i><a href=\"/wiki/Yaound%C3%A9\" title=\"Yaoundé\">Yaoundé</a></i>\n",
            "</td>\n",
            "<td><span class=\"flagicon\"><img alt=\"\" class=\"thumbborder\" data-file-height=\"600\" data-file-width=\"900\" decoding=\"async\" height=\"15\" src=\"//upload.wikimedia.org/wikipedia/commons/thumb/4/4f/Flag_of_Cameroon.svg/23px-Flag_of_Cameroon.svg.png\" srcset=\"//upload.wikimedia.org/wikipedia/commons/thumb/4/4f/Flag_of_Cameroon.svg/35px-Flag_of_Cameroon.svg.png 1.5x, //upload.wikimedia.org/wikipedia/commons/thumb/4/4f/Flag_of_Cameroon.svg/45px-Flag_of_Cameroon.svg.png 2x\" width=\"23\"/> </span><a href=\"/wiki/Cameroon\" title=\"Cameroon\">Cameroon</a>\n",
            "</td>\n",
            "<td>1,817,524\n",
            "</td>\n",
            "<td>2005\n",
            "</td></tr>\n",
            "<tr>\n",
            "<td>22\n",
            "</td>\n",
            "<td><i><b><a href=\"/wiki/Bamako\" title=\"Bamako\">Bamako</a></b></i>\n",
            "</td>\n",
            "<td><span class=\"flagicon\"><img alt=\"\" class=\"thumbborder\" data-file-height=\"600\" data-file-width=\"900\" decoding=\"async\" height=\"15\" src=\"//upload.wikimedia.org/wikipedia/commons/thumb/9/92/Flag_of_Mali.svg/23px-Flag_of_Mali.svg.png\" srcset=\"//upload.wikimedia.org/wikipedia/commons/thumb/9/92/Flag_of_Mali.svg/35px-Flag_of_Mali.svg.png 1.5x, //upload.wikimedia.org/wikipedia/commons/thumb/9/92/Flag_of_Mali.svg/45px-Flag_of_Mali.svg.png 2x\" width=\"23\"/> </span><a href=\"/wiki/Mali\" title=\"Mali\">Mali</a>\n",
            "</td>\n",
            "<td>1,816,366\n",
            "</td>\n",
            "<td>2009\n",
            "</td></tr>\n",
            "<tr>\n",
            "<td>23\n",
            "</td>\n",
            "<td><i><b><a href=\"/wiki/Lusaka\" title=\"Lusaka\">Lusaka</a></b></i>\n",
            "</td>\n",
            "<td><span class=\"flagicon\"><img alt=\"\" class=\"thumbborder\" data-file-height=\"1400\" data-file-width=\"2100\" decoding=\"async\" height=\"15\" src=\"//upload.wikimedia.org/wikipedia/commons/thumb/0/06/Flag_of_Zambia.svg/23px-Flag_of_Zambia.svg.png\" srcset=\"//upload.wikimedia.org/wikipedia/commons/thumb/0/06/Flag_of_Zambia.svg/35px-Flag_of_Zambia.svg.png 1.5x, //upload.wikimedia.org/wikipedia/commons/thumb/0/06/Flag_of_Zambia.svg/45px-Flag_of_Zambia.svg.png 2x\" width=\"23\"/> </span><a href=\"/wiki/Zambia\" title=\"Zambia\">Zambia</a>\n",
            "</td>\n",
            "<td>1,747,152\n",
            "</td>\n",
            "<td>2010\n",
            "</td></tr>\n",
            "<tr>\n",
            "<td>24\n",
            "</td>\n",
            "<td><i><a href=\"/wiki/Pretoria\" title=\"Pretoria\">Pretoria</a></i>\n",
            "</td>\n",
            "<td><span class=\"flagicon\"><img alt=\"\" class=\"thumbborder\" data-file-height=\"600\" data-file-width=\"900\" decoding=\"async\" height=\"15\" src=\"//upload.wikimedia.org/wikipedia/commons/thumb/a/af/Flag_of_South_Africa.svg/23px-Flag_of_South_Africa.svg.png\" srcset=\"//upload.wikimedia.org/wikipedia/commons/thumb/a/af/Flag_of_South_Africa.svg/35px-Flag_of_South_Africa.svg.png 1.5x, //upload.wikimedia.org/wikipedia/commons/thumb/a/af/Flag_of_South_Africa.svg/45px-Flag_of_South_Africa.svg.png 2x\" width=\"23\"/> </span><a href=\"/wiki/South_Africa\" title=\"South Africa\">South Africa</a>\n",
            "</td>\n",
            "<td>1,736,336\n",
            "</td>\n",
            "<td>2011\n",
            "</td></tr>\n",
            "<tr>\n",
            "<td>25\n",
            "</td>\n",
            "<td><i><b><a href=\"/wiki/Conakry\" title=\"Conakry\">Conakry</a></b></i>\n",
            "</td>\n",
            "<td><span class=\"flagicon\"><img alt=\"\" class=\"thumbborder\" data-file-height=\"600\" data-file-width=\"900\" decoding=\"async\" height=\"15\" src=\"//upload.wikimedia.org/wikipedia/commons/thumb/e/ed/Flag_of_Guinea.svg/23px-Flag_of_Guinea.svg.png\" srcset=\"//upload.wikimedia.org/wikipedia/commons/thumb/e/ed/Flag_of_Guinea.svg/35px-Flag_of_Guinea.svg.png 1.5x, //upload.wikimedia.org/wikipedia/commons/thumb/e/ed/Flag_of_Guinea.svg/45px-Flag_of_Guinea.svg.png 2x\" width=\"23\"/> </span><a href=\"/wiki/Guinea\" title=\"Guinea\">Guinea</a>\n",
            "</td>\n",
            "<td>1,660,973\n",
            "</td>\n",
            "<td>2014\n",
            "</td></tr>\n",
            "<tr>\n",
            "<td>26\n",
            "</td>\n",
            "<td><i><b><a href=\"/wiki/Mogadishu\" title=\"Mogadishu\">Mogadishu</a></b></i>\n",
            "</td>\n",
            "<td><span class=\"flagicon\"><img alt=\"\" class=\"thumbborder\" data-file-height=\"600\" data-file-width=\"900\" decoding=\"async\" height=\"15\" src=\"//upload.wikimedia.org/wikipedia/commons/thumb/a/a0/Flag_of_Somalia.svg/23px-Flag_of_Somalia.svg.png\" srcset=\"//upload.wikimedia.org/wikipedia/commons/thumb/a/a0/Flag_of_Somalia.svg/35px-Flag_of_Somalia.svg.png 1.5x, //upload.wikimedia.org/wikipedia/commons/thumb/a/a0/Flag_of_Somalia.svg/45px-Flag_of_Somalia.svg.png 2x\" width=\"23\"/> </span><a href=\"/wiki/Somalia\" title=\"Somalia\">Somalia</a>\n",
            "</td>\n",
            "<td>1,650,227\n",
            "</td>\n",
            "<td>2014\n",
            "</td></tr>\n",
            "<tr>\n",
            "<td>27\n",
            "</td>\n",
            "<td><i><b><a href=\"/wiki/Kampala\" title=\"Kampala\">Kampala</a></b></i>\n",
            "</td>\n",
            "<td><span class=\"flagicon\"><img alt=\"\" class=\"thumbborder\" data-file-height=\"600\" data-file-width=\"900\" decoding=\"async\" height=\"15\" src=\"//upload.wikimedia.org/wikipedia/commons/thumb/4/4e/Flag_of_Uganda.svg/23px-Flag_of_Uganda.svg.png\" srcset=\"//upload.wikimedia.org/wikipedia/commons/thumb/4/4e/Flag_of_Uganda.svg/35px-Flag_of_Uganda.svg.png 1.5x, //upload.wikimedia.org/wikipedia/commons/thumb/4/4e/Flag_of_Uganda.svg/45px-Flag_of_Uganda.svg.png 2x\" width=\"23\"/> </span><a href=\"/wiki/Uganda\" title=\"Uganda\">Uganda</a>\n",
            "</td>\n",
            "<td>1,650,800\n",
            "</td>\n",
            "<td>2019\n",
            "</td></tr>\n",
            "<tr>\n",
            "<td>28\n",
            "</td>\n",
            "<td><a href=\"/wiki/Mombasa\" title=\"Mombasa\">Mombasa</a>\n",
            "</td>\n",
            "<td><span class=\"flagicon\"><img alt=\"\" class=\"thumbborder\" data-file-height=\"600\" data-file-width=\"900\" decoding=\"async\" height=\"15\" src=\"//upload.wikimedia.org/wikipedia/commons/thumb/4/49/Flag_of_Kenya.svg/23px-Flag_of_Kenya.svg.png\" srcset=\"//upload.wikimedia.org/wikipedia/commons/thumb/4/49/Flag_of_Kenya.svg/35px-Flag_of_Kenya.svg.png 1.5x, //upload.wikimedia.org/wikipedia/commons/thumb/4/49/Flag_of_Kenya.svg/45px-Flag_of_Kenya.svg.png 2x\" width=\"23\"/> </span><a href=\"/wiki/Kenya\" title=\"Kenya\">Kenya</a>\n",
            "</td>\n",
            "<td>1,500,000\n",
            "</td>\n",
            "<td>2018\n",
            "</td></tr>\n",
            "<tr>\n",
            "<td>29\n",
            "</td>\n",
            "<td><i><b><a href=\"/wiki/Harare\" title=\"Harare\">Harare</a></b></i>\n",
            "</td>\n",
            "<td><span class=\"flagicon\"><img alt=\"\" class=\"thumbborder\" data-file-height=\"630\" data-file-width=\"1260\" decoding=\"async\" height=\"12\" src=\"//upload.wikimedia.org/wikipedia/commons/thumb/6/6a/Flag_of_Zimbabwe.svg/23px-Flag_of_Zimbabwe.svg.png\" srcset=\"//upload.wikimedia.org/wikipedia/commons/thumb/6/6a/Flag_of_Zimbabwe.svg/35px-Flag_of_Zimbabwe.svg.png 1.5x, //upload.wikimedia.org/wikipedia/commons/thumb/6/6a/Flag_of_Zimbabwe.svg/46px-Flag_of_Zimbabwe.svg.png 2x\" width=\"23\"/> </span><a href=\"/wiki/Zimbabwe\" title=\"Zimbabwe\">Zimbabwe</a>\n",
            "</td>\n",
            "<td>1,485,231\n",
            "</td>\n",
            "<td>2012\n",
            "</td></tr>\n",
            "<tr>\n",
            "<td>30\n",
            "</td>\n",
            "<td><i><b><a href=\"/wiki/Lom%C3%A9\" title=\"Lomé\">Lomé</a></b></i>\n",
            "</td>\n",
            "<td><span class=\"flagicon\"><img alt=\"\" class=\"thumbborder\" data-file-height=\"500\" data-file-width=\"809\" decoding=\"async\" height=\"14\" src=\"//upload.wikimedia.org/wikipedia/commons/thumb/6/68/Flag_of_Togo.svg/23px-Flag_of_Togo.svg.png\" srcset=\"//upload.wikimedia.org/wikipedia/commons/thumb/6/68/Flag_of_Togo.svg/35px-Flag_of_Togo.svg.png 1.5x, //upload.wikimedia.org/wikipedia/commons/thumb/6/68/Flag_of_Togo.svg/46px-Flag_of_Togo.svg.png 2x\" width=\"23\"/> </span><a href=\"/wiki/Togo\" title=\"Togo\">Togo</a>\n",
            "</td>\n",
            "<td>1,477,658\n",
            "</td>\n",
            "<td>2010\n",
            "</td></tr>\n",
            "<tr>\n",
            "<td>31\n",
            "</td>\n",
            "<td><i><b><a href=\"/wiki/Ouagadougou\" title=\"Ouagadougou\">Ouagadougou</a></b></i>\n",
            "</td>\n",
            "<td><span class=\"flagicon\"><img alt=\"\" class=\"thumbborder\" data-file-height=\"600\" data-file-width=\"900\" decoding=\"async\" height=\"15\" src=\"//upload.wikimedia.org/wikipedia/commons/thumb/3/31/Flag_of_Burkina_Faso.svg/23px-Flag_of_Burkina_Faso.svg.png\" srcset=\"//upload.wikimedia.org/wikipedia/commons/thumb/3/31/Flag_of_Burkina_Faso.svg/35px-Flag_of_Burkina_Faso.svg.png 1.5x, //upload.wikimedia.org/wikipedia/commons/thumb/3/31/Flag_of_Burkina_Faso.svg/45px-Flag_of_Burkina_Faso.svg.png 2x\" width=\"23\"/> </span><a href=\"/wiki/Burkina_Faso\" title=\"Burkina Faso\">Burkina Faso</a>\n",
            "</td>\n",
            "<td>1,475,223\n",
            "</td>\n",
            "<td>2006\n",
            "</td></tr>\n",
            "<tr>\n",
            "<td>32\n",
            "</td>\n",
            "<td><i><a href=\"/wiki/Khartoum\" title=\"Khartoum\">Khartoum</a></i>\n",
            "</td>\n",
            "<td><span class=\"flagicon\"><img alt=\"\" class=\"thumbborder\" data-file-height=\"600\" data-file-width=\"1200\" decoding=\"async\" height=\"12\" src=\"//upload.wikimedia.org/wikipedia/commons/thumb/0/01/Flag_of_Sudan.svg/23px-Flag_of_Sudan.svg.png\" srcset=\"//upload.wikimedia.org/wikipedia/commons/thumb/0/01/Flag_of_Sudan.svg/35px-Flag_of_Sudan.svg.png 1.5x, //upload.wikimedia.org/wikipedia/commons/thumb/0/01/Flag_of_Sudan.svg/46px-Flag_of_Sudan.svg.png 2x\" width=\"23\"/> </span><a href=\"/wiki/Sudan\" title=\"Sudan\">Sudan</a>\n",
            "</td>\n",
            "<td>1,410,858\n",
            "</td>\n",
            "<td>2008\n",
            "</td></tr>\n",
            "<tr>\n",
            "<td>33\n",
            "</td>\n",
            "<td><i><b><a href=\"/wiki/Brazzaville\" title=\"Brazzaville\">Brazzaville</a></b></i>\n",
            "</td>\n",
            "<td><span class=\"flagicon\"><img alt=\"\" class=\"thumbborder\" data-file-height=\"600\" data-file-width=\"900\" decoding=\"async\" height=\"15\" src=\"//upload.wikimedia.org/wikipedia/commons/thumb/9/92/Flag_of_the_Republic_of_the_Congo.svg/23px-Flag_of_the_Republic_of_the_Congo.svg.png\" srcset=\"//upload.wikimedia.org/wikipedia/commons/thumb/9/92/Flag_of_the_Republic_of_the_Congo.svg/35px-Flag_of_the_Republic_of_the_Congo.svg.png 1.5x, //upload.wikimedia.org/wikipedia/commons/thumb/9/92/Flag_of_the_Republic_of_the_Congo.svg/45px-Flag_of_the_Republic_of_the_Congo.svg.png 2x\" width=\"23\"/> </span><a href=\"/wiki/Republic_of_the_Congo\" title=\"Republic of the Congo\">Republic of the Congo</a>\n",
            "</td>\n",
            "<td>1,373,382\n",
            "</td>\n",
            "<td>2007\n",
            "</td></tr>\n",
            "<tr>\n",
            "<td>34\n",
            "</td>\n",
            "<td><i><b><a href=\"/wiki/Antananarivo\" title=\"Antananarivo\">Antananarivo</a></b></i>\n",
            "</td>\n",
            "<td><span class=\"flagicon\"><img alt=\"\" class=\"thumbborder\" data-file-height=\"600\" data-file-width=\"900\" decoding=\"async\" height=\"15\" src=\"//upload.wikimedia.org/wikipedia/commons/thumb/b/bc/Flag_of_Madagascar.svg/23px-Flag_of_Madagascar.svg.png\" srcset=\"//upload.wikimedia.org/wikipedia/commons/thumb/b/bc/Flag_of_Madagascar.svg/35px-Flag_of_Madagascar.svg.png 1.5x, //upload.wikimedia.org/wikipedia/commons/thumb/b/bc/Flag_of_Madagascar.svg/45px-Flag_of_Madagascar.svg.png 2x\" width=\"23\"/> </span><a href=\"/wiki/Madagascar\" title=\"Madagascar\">Madagascar</a>\n",
            "</td>\n",
            "<td>1,334,300\n",
            "</td>\n",
            "<td>2014\n",
            "</td></tr>\n",
            "<tr>\n",
            "<td>35\n",
            "</td>\n",
            "<td><a href=\"/wiki/Lubumbashi\" title=\"Lubumbashi\">Lubumbashi</a>\n",
            "</td>\n",
            "<td><span class=\"flagicon\"><img alt=\"\" class=\"thumbborder\" data-file-height=\"600\" data-file-width=\"800\" decoding=\"async\" height=\"15\" src=\"//upload.wikimedia.org/wikipedia/commons/thumb/6/6f/Flag_of_the_Democratic_Republic_of_the_Congo.svg/20px-Flag_of_the_Democratic_Republic_of_the_Congo.svg.png\" srcset=\"//upload.wikimedia.org/wikipedia/commons/thumb/6/6f/Flag_of_the_Democratic_Republic_of_the_Congo.svg/31px-Flag_of_the_Democratic_Republic_of_the_Congo.svg.png 1.5x, //upload.wikimedia.org/wikipedia/commons/thumb/6/6f/Flag_of_the_Democratic_Republic_of_the_Congo.svg/40px-Flag_of_the_Democratic_Republic_of_the_Congo.svg.png 2x\" width=\"20\"/> </span><a href=\"/wiki/Democratic_Republic_of_the_Congo\" title=\"Democratic Republic of the Congo\">Democratic Republic of the Congo</a>\n",
            "</td>\n",
            "<td>1,283,380\n",
            "</td>\n",
            "<td>2004\n",
            "</td></tr>\n",
            "<tr>\n",
            "<td>36\n",
            "</td>\n",
            "<td><a href=\"/wiki/Kisumu\" title=\"Kisumu\">Kisumu</a>\n",
            "</td>\n",
            "<td><span class=\"flagicon\"><img alt=\"\" class=\"thumbborder\" data-file-height=\"600\" data-file-width=\"900\" decoding=\"async\" height=\"15\" src=\"//upload.wikimedia.org/wikipedia/commons/thumb/4/49/Flag_of_Kenya.svg/23px-Flag_of_Kenya.svg.png\" srcset=\"//upload.wikimedia.org/wikipedia/commons/thumb/4/49/Flag_of_Kenya.svg/35px-Flag_of_Kenya.svg.png 1.5x, //upload.wikimedia.org/wikipedia/commons/thumb/4/49/Flag_of_Kenya.svg/45px-Flag_of_Kenya.svg.png 2x\" width=\"23\"/> </span><a href=\"/wiki/Kenya\" title=\"Kenya\">Kenya</a>\n",
            "</td>\n",
            "<td>1,268,826\n",
            "</td>\n",
            "<td>2018\n",
            "</td></tr>\n",
            "<tr>\n",
            "<td>37\n",
            "</td>\n",
            "<td><a href=\"/wiki/Mbuji-Mayi\" title=\"Mbuji-Mayi\">Mbuji-Mayi</a>\n",
            "</td>\n",
            "<td><span class=\"flagicon\"><img alt=\"\" class=\"thumbborder\" data-file-height=\"600\" data-file-width=\"800\" decoding=\"async\" height=\"15\" src=\"//upload.wikimedia.org/wikipedia/commons/thumb/6/6f/Flag_of_the_Democratic_Republic_of_the_Congo.svg/20px-Flag_of_the_Democratic_Republic_of_the_Congo.svg.png\" srcset=\"//upload.wikimedia.org/wikipedia/commons/thumb/6/6f/Flag_of_the_Democratic_Republic_of_the_Congo.svg/31px-Flag_of_the_Democratic_Republic_of_the_Congo.svg.png 1.5x, //upload.wikimedia.org/wikipedia/commons/thumb/6/6f/Flag_of_the_Democratic_Republic_of_the_Congo.svg/40px-Flag_of_the_Democratic_Republic_of_the_Congo.svg.png 2x\" width=\"20\"/> </span><a href=\"/wiki/Democratic_Republic_of_the_Congo\" title=\"Democratic Republic of the Congo\">Democratic Republic of the Congo</a>\n",
            "</td>\n",
            "<td>1,213,726\n",
            "</td>\n",
            "<td>2004\n",
            "</td></tr>\n",
            "<tr>\n",
            "<td>38\n",
            "</td>\n",
            "<td><a class=\"mw-redirect\" href=\"/wiki/Shubra_el-Kheima\" title=\"Shubra el-Kheima\">Shubra el-Kheima</a>\n",
            "</td>\n",
            "<td><span class=\"flagicon\"><img alt=\"\" class=\"thumbborder\" data-file-height=\"600\" data-file-width=\"900\" decoding=\"async\" height=\"15\" src=\"//upload.wikimedia.org/wikipedia/commons/thumb/f/fe/Flag_of_Egypt.svg/23px-Flag_of_Egypt.svg.png\" srcset=\"//upload.wikimedia.org/wikipedia/commons/thumb/f/fe/Flag_of_Egypt.svg/35px-Flag_of_Egypt.svg.png 1.5x, //upload.wikimedia.org/wikipedia/commons/thumb/f/fe/Flag_of_Egypt.svg/45px-Flag_of_Egypt.svg.png 2x\" width=\"23\"/> </span><a href=\"/wiki/Egypt\" title=\"Egypt\">Egypt</a>\n",
            "</td>\n",
            "<td>1,187,747\n",
            "</td>\n",
            "<td>2018\n",
            "</td></tr>\n",
            "<tr>\n",
            "<td>39\n",
            "</td>\n",
            "<td><i><b><a href=\"/wiki/Dakar\" title=\"Dakar\">Dakar</a></b></i>\n",
            "</td>\n",
            "<td><span class=\"flagicon\"><img alt=\"\" class=\"thumbborder\" data-file-height=\"600\" data-file-width=\"900\" decoding=\"async\" height=\"15\" src=\"//upload.wikimedia.org/wikipedia/commons/thumb/f/fd/Flag_of_Senegal.svg/23px-Flag_of_Senegal.svg.png\" srcset=\"//upload.wikimedia.org/wikipedia/commons/thumb/f/fd/Flag_of_Senegal.svg/35px-Flag_of_Senegal.svg.png 1.5x, //upload.wikimedia.org/wikipedia/commons/thumb/f/fd/Flag_of_Senegal.svg/45px-Flag_of_Senegal.svg.png 2x\" width=\"23\"/> </span><a href=\"/wiki/Senegal\" title=\"Senegal\">Senegal</a>\n",
            "</td>\n",
            "<td>1,150,000\n",
            "</td>\n",
            "<td>2013\n",
            "</td></tr>\n",
            "<tr>\n",
            "<td>40\n",
            "</td>\n",
            "<td><a href=\"/wiki/Benin_City\" title=\"Benin City\">Benin City</a>\n",
            "</td>\n",
            "<td><span class=\"flagicon\"><img alt=\"\" class=\"thumbborder\" data-file-height=\"600\" data-file-width=\"1200\" decoding=\"async\" height=\"12\" src=\"//upload.wikimedia.org/wikipedia/commons/thumb/7/79/Flag_of_Nigeria.svg/23px-Flag_of_Nigeria.svg.png\" srcset=\"//upload.wikimedia.org/wikipedia/commons/thumb/7/79/Flag_of_Nigeria.svg/35px-Flag_of_Nigeria.svg.png 1.5x, //upload.wikimedia.org/wikipedia/commons/thumb/7/79/Flag_of_Nigeria.svg/46px-Flag_of_Nigeria.svg.png 2x\" width=\"23\"/> </span><a href=\"/wiki/Nigeria\" title=\"Nigeria\">Nigeria</a>\n",
            "</td>\n",
            "<td>1,147,188\n",
            "</td>\n",
            "<td>2006\n",
            "</td></tr>\n",
            "<tr>\n",
            "<td>41\n",
            "</td>\n",
            "<td><a href=\"/wiki/Fez,_Morocco\" title=\"Fez, Morocco\">Fez</a>\n",
            "</td>\n",
            "<td><span class=\"flagicon\"><img alt=\"\" class=\"thumbborder\" data-file-height=\"600\" data-file-width=\"900\" decoding=\"async\" height=\"15\" src=\"//upload.wikimedia.org/wikipedia/commons/thumb/2/2c/Flag_of_Morocco.svg/23px-Flag_of_Morocco.svg.png\" srcset=\"//upload.wikimedia.org/wikipedia/commons/thumb/2/2c/Flag_of_Morocco.svg/35px-Flag_of_Morocco.svg.png 1.5x, //upload.wikimedia.org/wikipedia/commons/thumb/2/2c/Flag_of_Morocco.svg/45px-Flag_of_Morocco.svg.png 2x\" width=\"23\"/> </span><a href=\"/wiki/Morocco\" title=\"Morocco\">Morocco</a>\n",
            "</td>\n",
            "<td>1,112,072\n",
            "</td>\n",
            "<td>2014\n",
            "</td></tr>\n",
            "<tr>\n",
            "<td>42\n",
            "</td>\n",
            "<td><i><b><a href=\"/wiki/Bujumbura\" title=\"Bujumbura\">Bujumbura</a></b></i>\n",
            "</td>\n",
            "<td><span class=\"flagicon\"><img alt=\"\" class=\"thumbborder\" data-file-height=\"600\" data-file-width=\"1000\" decoding=\"async\" height=\"14\" src=\"//upload.wikimedia.org/wikipedia/commons/thumb/5/50/Flag_of_Burundi.svg/23px-Flag_of_Burundi.svg.png\" srcset=\"//upload.wikimedia.org/wikipedia/commons/thumb/5/50/Flag_of_Burundi.svg/35px-Flag_of_Burundi.svg.png 1.5x, //upload.wikimedia.org/wikipedia/commons/thumb/5/50/Flag_of_Burundi.svg/46px-Flag_of_Burundi.svg.png 2x\" width=\"23\"/> </span><a href=\"/wiki/Burundi\" title=\"Burundi\">Burundi</a>\n",
            "</td>\n",
            "<td>1,112,057\n",
            "</td>\n",
            "<td>2019\n",
            "</td></tr>\n",
            "<tr>\n",
            "<td>43\n",
            "</td>\n",
            "<td><i><b><a href=\"/wiki/Freetown\" title=\"Freetown\">Freetown</a></b></i>\n",
            "</td>\n",
            "<td><span class=\"flagicon\"><img alt=\"\" class=\"thumbborder\" data-file-height=\"600\" data-file-width=\"900\" decoding=\"async\" height=\"15\" src=\"//upload.wikimedia.org/wikipedia/commons/thumb/1/17/Flag_of_Sierra_Leone.svg/23px-Flag_of_Sierra_Leone.svg.png\" srcset=\"//upload.wikimedia.org/wikipedia/commons/thumb/1/17/Flag_of_Sierra_Leone.svg/35px-Flag_of_Sierra_Leone.svg.png 1.5x, //upload.wikimedia.org/wikipedia/commons/thumb/1/17/Flag_of_Sierra_Leone.svg/45px-Flag_of_Sierra_Leone.svg.png 2x\" width=\"23\"/> </span><a href=\"/wiki/Sierra_Leone\" title=\"Sierra Leone\">Sierra Leone</a>\n",
            "</td>\n",
            "<td>1,055,964\n",
            "</td>\n",
            "<td>2015\n",
            "</td></tr>\n",
            "<tr>\n",
            "<td>44\n",
            "</td>\n",
            "<td><i><b><a href=\"/wiki/Maputo\" title=\"Maputo\">Maputo</a></b></i>\n",
            "</td>\n",
            "<td><span class=\"flagicon\"><img alt=\"\" class=\"thumbborder\" data-file-height=\"600\" data-file-width=\"900\" decoding=\"async\" height=\"15\" src=\"//upload.wikimedia.org/wikipedia/commons/thumb/d/d0/Flag_of_Mozambique.svg/23px-Flag_of_Mozambique.svg.png\" srcset=\"//upload.wikimedia.org/wikipedia/commons/thumb/d/d0/Flag_of_Mozambique.svg/35px-Flag_of_Mozambique.svg.png 1.5x, //upload.wikimedia.org/wikipedia/commons/thumb/d/d0/Flag_of_Mozambique.svg/45px-Flag_of_Mozambique.svg.png 2x\" width=\"23\"/> </span><a href=\"/wiki/Mozambique\" title=\"Mozambique\">Mozambique</a>\n",
            "</td>\n",
            "<td>1,032,197\n",
            "</td>\n",
            "<td>2017\n",
            "</td></tr>\n",
            "<tr>\n",
            "<td>45\n",
            "</td>\n",
            "<td><i><b><a href=\"/wiki/Monrovia\" title=\"Monrovia\">Monrovia</a></b></i>\n",
            "</td>\n",
            "<td><span class=\"flagicon\"><img alt=\"\" class=\"thumbborder\" data-file-height=\"600\" data-file-width=\"1140\" decoding=\"async\" height=\"12\" src=\"//upload.wikimedia.org/wikipedia/commons/thumb/b/b8/Flag_of_Liberia.svg/23px-Flag_of_Liberia.svg.png\" srcset=\"//upload.wikimedia.org/wikipedia/commons/thumb/b/b8/Flag_of_Liberia.svg/35px-Flag_of_Liberia.svg.png 1.5x, //upload.wikimedia.org/wikipedia/commons/thumb/b/b8/Flag_of_Liberia.svg/46px-Flag_of_Liberia.svg.png 2x\" width=\"23\"/> </span><a href=\"/wiki/Liberia\" title=\"Liberia\">Liberia</a>\n",
            "</td>\n",
            "<td>1,021,762\n",
            "</td>\n",
            "<td>2008\n",
            "</td></tr>\n",
            "<tr>\n",
            "<td>46\n",
            "</td>\n",
            "<td><a href=\"/wiki/Khartoum_North\" title=\"Khartoum North\">Khartoum North</a>\n",
            "</td>\n",
            "<td><span class=\"flagicon\"><img alt=\"\" class=\"thumbborder\" data-file-height=\"600\" data-file-width=\"1200\" decoding=\"async\" height=\"12\" src=\"//upload.wikimedia.org/wikipedia/commons/thumb/0/01/Flag_of_Sudan.svg/23px-Flag_of_Sudan.svg.png\" srcset=\"//upload.wikimedia.org/wikipedia/commons/thumb/0/01/Flag_of_Sudan.svg/35px-Flag_of_Sudan.svg.png 1.5x, //upload.wikimedia.org/wikipedia/commons/thumb/0/01/Flag_of_Sudan.svg/46px-Flag_of_Sudan.svg.png 2x\" width=\"23\"/> </span><a href=\"/wiki/Sudan\" title=\"Sudan\">Sudan</a>\n",
            "</td>\n",
            "<td>1,012,211\n",
            "</td>\n",
            "<td>2008\n",
            "</td></tr>\n",
            "<tr>\n",
            "<td>47\n",
            "</td>\n",
            "<td><a href=\"/wiki/Port_Harcourt\" title=\"Port Harcourt\">Port Harcourt</a>\n",
            "</td>\n",
            "<td><span class=\"flagicon\"><img alt=\"\" class=\"thumbborder\" data-file-height=\"600\" data-file-width=\"1200\" decoding=\"async\" height=\"12\" src=\"//upload.wikimedia.org/wikipedia/commons/thumb/7/79/Flag_of_Nigeria.svg/23px-Flag_of_Nigeria.svg.png\" srcset=\"//upload.wikimedia.org/wikipedia/commons/thumb/7/79/Flag_of_Nigeria.svg/35px-Flag_of_Nigeria.svg.png 1.5x, //upload.wikimedia.org/wikipedia/commons/thumb/7/79/Flag_of_Nigeria.svg/46px-Flag_of_Nigeria.svg.png 2x\" width=\"23\"/> </span><a href=\"/wiki/Nigeria\" title=\"Nigeria\">Nigeria</a>\n",
            "</td>\n",
            "<td>1,005,904\n",
            "</td>\n",
            "<td>2006\n",
            "</td></tr>\n",
            "<tr>\n",
            "<td>48\n",
            "</td>\n",
            "<td><i><b><a href=\"/wiki/Lilongwe\" title=\"Lilongwe\">Lilongwe</a></b></i>\n",
            "</td>\n",
            "<td><span class=\"flagicon\"><img alt=\"\" class=\"thumbborder\" data-file-height=\"600\" data-file-width=\"900\" decoding=\"async\" height=\"15\" src=\"//upload.wikimedia.org/wikipedia/commons/thumb/d/d1/Flag_of_Malawi.svg/23px-Flag_of_Malawi.svg.png\" srcset=\"//upload.wikimedia.org/wikipedia/commons/thumb/d/d1/Flag_of_Malawi.svg/35px-Flag_of_Malawi.svg.png 1.5x, //upload.wikimedia.org/wikipedia/commons/thumb/d/d1/Flag_of_Malawi.svg/45px-Flag_of_Malawi.svg.png 2x\" width=\"23\"/> </span><a href=\"/wiki/Malawi\" title=\"Malawi\">Malawi</a>\n",
            "</td>\n",
            "<td>989,318\n",
            "</td>\n",
            "<td>2018\n",
            "</td></tr>\n",
            "<tr>\n",
            "<td>49\n",
            "</td>\n",
            "<td><i><b><a href=\"/wiki/Niamey\" title=\"Niamey\">Niamey</a></b></i>\n",
            "</td>\n",
            "<td><span class=\"flagicon\"><img alt=\"\" class=\"thumbborder\" data-file-height=\"600\" data-file-width=\"700\" decoding=\"async\" height=\"15\" src=\"//upload.wikimedia.org/wikipedia/commons/thumb/f/f4/Flag_of_Niger.svg/18px-Flag_of_Niger.svg.png\" srcset=\"//upload.wikimedia.org/wikipedia/commons/thumb/f/f4/Flag_of_Niger.svg/27px-Flag_of_Niger.svg.png 1.5x, //upload.wikimedia.org/wikipedia/commons/thumb/f/f4/Flag_of_Niger.svg/35px-Flag_of_Niger.svg.png 2x\" width=\"18\"/> </span><a href=\"/wiki/Niger\" title=\"Niger\">Niger</a>\n",
            "</td>\n",
            "<td>978,029\n",
            "</td>\n",
            "<td>2012\n",
            "</td></tr>\n",
            "<tr>\n",
            "<td>50\n",
            "</td>\n",
            "<td><i><b><a href=\"/wiki/Nouakchott\" title=\"Nouakchott\">Nouakchott</a></b></i>\n",
            "</td>\n",
            "<td><span class=\"flagicon\"><img alt=\"\" class=\"thumbborder\" data-file-height=\"600\" data-file-width=\"900\" decoding=\"async\" height=\"15\" src=\"//upload.wikimedia.org/wikipedia/commons/thumb/4/43/Flag_of_Mauritania.svg/23px-Flag_of_Mauritania.svg.png\" srcset=\"//upload.wikimedia.org/wikipedia/commons/thumb/4/43/Flag_of_Mauritania.svg/35px-Flag_of_Mauritania.svg.png 1.5x, //upload.wikimedia.org/wikipedia/commons/thumb/4/43/Flag_of_Mauritania.svg/45px-Flag_of_Mauritania.svg.png 2x\" width=\"23\"/> </span><a href=\"/wiki/Mauritania\" title=\"Mauritania\">Mauritania</a>\n",
            "</td>\n",
            "<td>958,399\n",
            "</td>\n",
            "<td>2013\n",
            "</td></tr>\n",
            "<tr>\n",
            "<td>51\n",
            "</td>\n",
            "<td><i><b><a href=\"/wiki/N%27Djamena\" title=\"N'Djamena\">N'Djamena</a></b></i>\n",
            "</td>\n",
            "<td><span class=\"flagicon\"><img alt=\"\" class=\"thumbborder\" data-file-height=\"600\" data-file-width=\"900\" decoding=\"async\" height=\"15\" src=\"//upload.wikimedia.org/wikipedia/commons/thumb/4/4b/Flag_of_Chad.svg/23px-Flag_of_Chad.svg.png\" srcset=\"//upload.wikimedia.org/wikipedia/commons/thumb/4/4b/Flag_of_Chad.svg/35px-Flag_of_Chad.svg.png 1.5x, //upload.wikimedia.org/wikipedia/commons/thumb/4/4b/Flag_of_Chad.svg/45px-Flag_of_Chad.svg.png 2x\" width=\"23\"/> </span><a href=\"/wiki/Chad\" title=\"Chad\">Chad</a>\n",
            "</td>\n",
            "<td>951,418\n",
            "</td>\n",
            "<td>2009\n",
            "</td></tr>\n",
            "<tr>\n",
            "<td>52\n",
            "</td>\n",
            "<td><a href=\"/wiki/Tangier\" title=\"Tangier\">Tangier</a>\n",
            "</td>\n",
            "<td><span class=\"flagicon\"><img alt=\"\" class=\"thumbborder\" data-file-height=\"600\" data-file-width=\"900\" decoding=\"async\" height=\"15\" src=\"//upload.wikimedia.org/wikipedia/commons/thumb/2/2c/Flag_of_Morocco.svg/23px-Flag_of_Morocco.svg.png\" srcset=\"//upload.wikimedia.org/wikipedia/commons/thumb/2/2c/Flag_of_Morocco.svg/35px-Flag_of_Morocco.svg.png 1.5x, //upload.wikimedia.org/wikipedia/commons/thumb/2/2c/Flag_of_Morocco.svg/45px-Flag_of_Morocco.svg.png 2x\" width=\"23\"/> </span><a href=\"/wiki/Morocco\" title=\"Morocco\">Morocco</a>\n",
            "</td>\n",
            "<td>947,952\n",
            "</td>\n",
            "<td>2014\n",
            "</td></tr>\n",
            "<tr>\n",
            "<td>53\n",
            "</td>\n",
            "<td><i><b><a href=\"/wiki/Tripoli\" title=\"Tripoli\">Tripoli</a></b></i> <sup class=\"reference\" id=\"cite_ref-1\"><a href=\"#cite_note-1\">[1]</a></sup>\n",
            "</td>\n",
            "<td><span class=\"flagicon\"><img alt=\"\" class=\"thumbborder\" data-file-height=\"480\" data-file-width=\"960\" decoding=\"async\" height=\"12\" src=\"//upload.wikimedia.org/wikipedia/commons/thumb/0/05/Flag_of_Libya.svg/23px-Flag_of_Libya.svg.png\" srcset=\"//upload.wikimedia.org/wikipedia/commons/thumb/0/05/Flag_of_Libya.svg/35px-Flag_of_Libya.svg.png 1.5x, //upload.wikimedia.org/wikipedia/commons/thumb/0/05/Flag_of_Libya.svg/46px-Flag_of_Libya.svg.png 2x\" width=\"23\"/> </span><a href=\"/wiki/Libya\" title=\"Libya\">Libya</a>\n",
            "</td>\n",
            "<td>940,523\n",
            "</td>\n",
            "<td>2012\n",
            "</td></tr>\n",
            "<tr>\n",
            "<td>54\n",
            "</td>\n",
            "<td><a href=\"/wiki/Marrakesh\" title=\"Marrakesh\">Marrakesh</a>\n",
            "</td>\n",
            "<td><span class=\"flagicon\"><img alt=\"\" class=\"thumbborder\" data-file-height=\"600\" data-file-width=\"900\" decoding=\"async\" height=\"15\" src=\"//upload.wikimedia.org/wikipedia/commons/thumb/2/2c/Flag_of_Morocco.svg/23px-Flag_of_Morocco.svg.png\" srcset=\"//upload.wikimedia.org/wikipedia/commons/thumb/2/2c/Flag_of_Morocco.svg/35px-Flag_of_Morocco.svg.png 1.5x, //upload.wikimedia.org/wikipedia/commons/thumb/2/2c/Flag_of_Morocco.svg/45px-Flag_of_Morocco.svg.png 2x\" width=\"23\"/> </span><a href=\"/wiki/Morocco\" title=\"Morocco\">Morocco</a>\n",
            "</td>\n",
            "<td>928,850\n",
            "</td>\n",
            "<td>2014\n",
            "</td></tr>\n",
            "<tr>\n",
            "<td>55\n",
            "</td>\n",
            "<td><a href=\"/wiki/Sal%C3%A9\" title=\"Salé\">Salé</a>\n",
            "</td>\n",
            "<td><span class=\"flagicon\"><img alt=\"\" class=\"thumbborder\" data-file-height=\"600\" data-file-width=\"900\" decoding=\"async\" height=\"15\" src=\"//upload.wikimedia.org/wikipedia/commons/thumb/2/2c/Flag_of_Morocco.svg/23px-Flag_of_Morocco.svg.png\" srcset=\"//upload.wikimedia.org/wikipedia/commons/thumb/2/2c/Flag_of_Morocco.svg/35px-Flag_of_Morocco.svg.png 1.5x, //upload.wikimedia.org/wikipedia/commons/thumb/2/2c/Flag_of_Morocco.svg/45px-Flag_of_Morocco.svg.png 2x\" width=\"23\"/> </span><a href=\"/wiki/Morocco\" title=\"Morocco\">Morocco</a>\n",
            "</td>\n",
            "<td>890,403\n",
            "</td>\n",
            "<td>2014\n",
            "</td></tr>\n",
            "<tr>\n",
            "<td>56\n",
            "</td>\n",
            "<td><a href=\"/wiki/Port_Elizabeth\" title=\"Port Elizabeth\">Port Elizabeth</a>\n",
            "</td>\n",
            "<td><span class=\"flagicon\"><img alt=\"\" class=\"thumbborder\" data-file-height=\"600\" data-file-width=\"900\" decoding=\"async\" height=\"15\" src=\"//upload.wikimedia.org/wikipedia/commons/thumb/a/af/Flag_of_South_Africa.svg/23px-Flag_of_South_Africa.svg.png\" srcset=\"//upload.wikimedia.org/wikipedia/commons/thumb/a/af/Flag_of_South_Africa.svg/35px-Flag_of_South_Africa.svg.png 1.5x, //upload.wikimedia.org/wikipedia/commons/thumb/a/af/Flag_of_South_Africa.svg/45px-Flag_of_South_Africa.svg.png 2x\" width=\"23\"/> </span><a href=\"/wiki/South_Africa\" title=\"South Africa\">South Africa</a>\n",
            "</td>\n",
            "<td>876,436\n",
            "</td>\n",
            "<td>2011\n",
            "</td></tr>\n",
            "<tr>\n",
            "<td>57\n",
            "</td>\n",
            "<td><i><b><a href=\"/wiki/Kigali\" title=\"Kigali\">Kigali</a></b></i>\n",
            "</td>\n",
            "<td><span class=\"flagicon\"><img alt=\"\" class=\"thumbborder\" data-file-height=\"720\" data-file-width=\"1080\" decoding=\"async\" height=\"15\" src=\"//upload.wikimedia.org/wikipedia/commons/thumb/1/17/Flag_of_Rwanda.svg/23px-Flag_of_Rwanda.svg.png\" srcset=\"//upload.wikimedia.org/wikipedia/commons/thumb/1/17/Flag_of_Rwanda.svg/35px-Flag_of_Rwanda.svg.png 1.5x, //upload.wikimedia.org/wikipedia/commons/thumb/1/17/Flag_of_Rwanda.svg/45px-Flag_of_Rwanda.svg.png 2x\" width=\"23\"/> </span><a href=\"/wiki/Rwanda\" title=\"Rwanda\">Rwanda</a>\n",
            "</td>\n",
            "<td>1,132,000\n",
            "</td>\n",
            "<td>2020\n",
            "</td></tr>\n",
            "<tr>\n",
            "<td>58\n",
            "</td>\n",
            "<td><a href=\"/wiki/Jos\" title=\"Jos\">Jos</a>\n",
            "</td>\n",
            "<td><span class=\"flagicon\"><img alt=\"\" class=\"thumbborder\" data-file-height=\"600\" data-file-width=\"1200\" decoding=\"async\" height=\"12\" src=\"//upload.wikimedia.org/wikipedia/commons/thumb/7/79/Flag_of_Nigeria.svg/23px-Flag_of_Nigeria.svg.png\" srcset=\"//upload.wikimedia.org/wikipedia/commons/thumb/7/79/Flag_of_Nigeria.svg/35px-Flag_of_Nigeria.svg.png 1.5x, //upload.wikimedia.org/wikipedia/commons/thumb/7/79/Flag_of_Nigeria.svg/46px-Flag_of_Nigeria.svg.png 2x\" width=\"23\"/> </span><a href=\"/wiki/Nigeria\" title=\"Nigeria\">Nigeria</a>\n",
            "</td>\n",
            "<td>821,608\n",
            "</td>\n",
            "<td>2006\n",
            "</td></tr>\n",
            "<tr>\n",
            "<td>59\n",
            "</td>\n",
            "<td><a href=\"/wiki/Oran\" title=\"Oran\">Oran</a>\n",
            "</td>\n",
            "<td><span class=\"flagicon\"><img alt=\"\" class=\"thumbborder\" data-file-height=\"600\" data-file-width=\"900\" decoding=\"async\" height=\"15\" src=\"//upload.wikimedia.org/wikipedia/commons/thumb/7/77/Flag_of_Algeria.svg/23px-Flag_of_Algeria.svg.png\" srcset=\"//upload.wikimedia.org/wikipedia/commons/thumb/7/77/Flag_of_Algeria.svg/35px-Flag_of_Algeria.svg.png 1.5x, //upload.wikimedia.org/wikipedia/commons/thumb/7/77/Flag_of_Algeria.svg/45px-Flag_of_Algeria.svg.png 2x\" width=\"23\"/> </span><a href=\"/wiki/Algeria\" title=\"Algeria\">Algeria</a>\n",
            "</td>\n",
            "<td>803,329\n",
            "</td>\n",
            "<td>2008\n",
            "</td></tr>\n",
            "<tr>\n",
            "<td>60\n",
            "</td>\n",
            "<td><a href=\"/wiki/Blantyre\" title=\"Blantyre\">Blantyre</a>\n",
            "</td>\n",
            "<td><span class=\"flagicon\"><img alt=\"\" class=\"thumbborder\" data-file-height=\"600\" data-file-width=\"900\" decoding=\"async\" height=\"15\" src=\"//upload.wikimedia.org/wikipedia/commons/thumb/d/d1/Flag_of_Malawi.svg/23px-Flag_of_Malawi.svg.png\" srcset=\"//upload.wikimedia.org/wikipedia/commons/thumb/d/d1/Flag_of_Malawi.svg/35px-Flag_of_Malawi.svg.png 1.5x, //upload.wikimedia.org/wikipedia/commons/thumb/d/d1/Flag_of_Malawi.svg/45px-Flag_of_Malawi.svg.png 2x\" width=\"23\"/> </span><a href=\"/wiki/Malawi\" title=\"Malawi\">Malawi</a>\n",
            "</td>\n",
            "<td>800,264\n",
            "</td>\n",
            "<td>2018\n",
            "</td></tr>\n",
            "<tr>\n",
            "<td>61\n",
            "</td>\n",
            "<td><a href=\"/wiki/Ilorin\" title=\"Ilorin\">Ilorin</a>\n",
            "</td>\n",
            "<td><span class=\"flagicon\"><img alt=\"\" class=\"thumbborder\" data-file-height=\"600\" data-file-width=\"1200\" decoding=\"async\" height=\"12\" src=\"//upload.wikimedia.org/wikipedia/commons/thumb/7/79/Flag_of_Nigeria.svg/23px-Flag_of_Nigeria.svg.png\" srcset=\"//upload.wikimedia.org/wikipedia/commons/thumb/7/79/Flag_of_Nigeria.svg/35px-Flag_of_Nigeria.svg.png 1.5x, //upload.wikimedia.org/wikipedia/commons/thumb/7/79/Flag_of_Nigeria.svg/46px-Flag_of_Nigeria.svg.png 2x\" width=\"23\"/> </span><a href=\"/wiki/Nigeria\" title=\"Nigeria\">Nigeria</a>\n",
            "</td>\n",
            "<td>777,667\n",
            "</td>\n",
            "<td>2006\n",
            "</td></tr>\n",
            "<tr>\n",
            "<td>62\n",
            "</td>\n",
            "<td><i><a href=\"/wiki/Abuja\" title=\"Abuja\">Abuja</a></i>\n",
            "</td>\n",
            "<td><span class=\"flagicon\"><img alt=\"\" class=\"thumbborder\" data-file-height=\"600\" data-file-width=\"1200\" decoding=\"async\" height=\"12\" src=\"//upload.wikimedia.org/wikipedia/commons/thumb/7/79/Flag_of_Nigeria.svg/23px-Flag_of_Nigeria.svg.png\" srcset=\"//upload.wikimedia.org/wikipedia/commons/thumb/7/79/Flag_of_Nigeria.svg/35px-Flag_of_Nigeria.svg.png 1.5x, //upload.wikimedia.org/wikipedia/commons/thumb/7/79/Flag_of_Nigeria.svg/46px-Flag_of_Nigeria.svg.png 2x\" width=\"23\"/> </span><a href=\"/wiki/Nigeria\" title=\"Nigeria\">Nigeria</a>\n",
            "</td>\n",
            "<td>776,298\n",
            "</td>\n",
            "<td>2006\n",
            "</td></tr>\n",
            "<tr>\n",
            "<td>63\n",
            "</td>\n",
            "<td><i><b><a href=\"/wiki/Asmara\" title=\"Asmara\">Asmara</a></b></i>\n",
            "</td>\n",
            "<td><span class=\"flagicon\"><img alt=\"\" class=\"thumbborder\" data-file-height=\"500\" data-file-width=\"1000\" decoding=\"async\" height=\"12\" src=\"//upload.wikimedia.org/wikipedia/commons/thumb/2/29/Flag_of_Eritrea.svg/23px-Flag_of_Eritrea.svg.png\" srcset=\"//upload.wikimedia.org/wikipedia/commons/thumb/2/29/Flag_of_Eritrea.svg/35px-Flag_of_Eritrea.svg.png 1.5x, //upload.wikimedia.org/wikipedia/commons/thumb/2/29/Flag_of_Eritrea.svg/46px-Flag_of_Eritrea.svg.png 2x\" width=\"23\"/> </span><a href=\"/wiki/Eritrea\" title=\"Eritrea\">Eritrea</a>\n",
            "</td>\n",
            "<td>775,000\n",
            "</td>\n",
            "<td>2014\n",
            "</td></tr>\n",
            "<tr>\n",
            "<td>64\n",
            "</td>\n",
            "<td><a href=\"/wiki/Port_Said\" title=\"Port Said\">Port Said</a>\n",
            "</td>\n",
            "<td><span class=\"flagicon\"><img alt=\"\" class=\"thumbborder\" data-file-height=\"600\" data-file-width=\"900\" decoding=\"async\" height=\"15\" src=\"//upload.wikimedia.org/wikipedia/commons/thumb/f/fe/Flag_of_Egypt.svg/23px-Flag_of_Egypt.svg.png\" srcset=\"//upload.wikimedia.org/wikipedia/commons/thumb/f/fe/Flag_of_Egypt.svg/35px-Flag_of_Egypt.svg.png 1.5x, //upload.wikimedia.org/wikipedia/commons/thumb/f/fe/Flag_of_Egypt.svg/45px-Flag_of_Egypt.svg.png 2x\" width=\"23\"/> </span><a href=\"/wiki/Egypt\" title=\"Egypt\">Egypt</a>\n",
            "</td>\n",
            "<td>760,152\n",
            "</td>\n",
            "<td>2018\n",
            "</td></tr>\n",
            "<tr>\n",
            "<td>65\n",
            "</td>\n",
            "<td><a href=\"/wiki/Kaduna\" title=\"Kaduna\">Kaduna</a>\n",
            "</td>\n",
            "<td><span class=\"flagicon\"><img alt=\"\" class=\"thumbborder\" data-file-height=\"600\" data-file-width=\"1200\" decoding=\"async\" height=\"12\" src=\"//upload.wikimedia.org/wikipedia/commons/thumb/7/79/Flag_of_Nigeria.svg/23px-Flag_of_Nigeria.svg.png\" srcset=\"//upload.wikimedia.org/wikipedia/commons/thumb/7/79/Flag_of_Nigeria.svg/35px-Flag_of_Nigeria.svg.png 1.5x, //upload.wikimedia.org/wikipedia/commons/thumb/7/79/Flag_of_Nigeria.svg/46px-Flag_of_Nigeria.svg.png 2x\" width=\"23\"/> </span><a href=\"/wiki/Nigeria\" title=\"Nigeria\">Nigeria</a>\n",
            "</td>\n",
            "<td>760,084\n",
            "</td>\n",
            "<td>2006\n",
            "</td></tr>\n",
            "<tr>\n",
            "<td>66\n",
            "</td>\n",
            "<td><a href=\"/wiki/Touba\" title=\"Touba\">Touba</a>\n",
            "</td>\n",
            "<td><span class=\"flagicon\"><img alt=\"\" class=\"thumbborder\" data-file-height=\"600\" data-file-width=\"900\" decoding=\"async\" height=\"15\" src=\"//upload.wikimedia.org/wikipedia/commons/thumb/f/fd/Flag_of_Senegal.svg/23px-Flag_of_Senegal.svg.png\" srcset=\"//upload.wikimedia.org/wikipedia/commons/thumb/f/fd/Flag_of_Senegal.svg/35px-Flag_of_Senegal.svg.png 1.5x, //upload.wikimedia.org/wikipedia/commons/thumb/f/fd/Flag_of_Senegal.svg/45px-Flag_of_Senegal.svg.png 2x\" width=\"23\"/> </span><a href=\"/wiki/Senegal\" title=\"Senegal\">Senegal</a>\n",
            "</td>\n",
            "<td>753,315\n",
            "</td>\n",
            "<td>2013\n",
            "</td></tr>\n",
            "<tr>\n",
            "<td>67\n",
            "</td>\n",
            "<td><a href=\"/wiki/Hargeisa\" title=\"Hargeisa\">Hargeisa</a>\n",
            "</td>\n",
            "<td><span class=\"flagicon\"><img alt=\"\" class=\"thumbborder\" data-file-height=\"600\" data-file-width=\"1200\" decoding=\"async\" height=\"12\" src=\"//upload.wikimedia.org/wikipedia/commons/thumb/4/4d/Flag_of_Somaliland.svg/23px-Flag_of_Somaliland.svg.png\" srcset=\"//upload.wikimedia.org/wikipedia/commons/thumb/4/4d/Flag_of_Somaliland.svg/35px-Flag_of_Somaliland.svg.png 1.5x, //upload.wikimedia.org/wikipedia/commons/thumb/4/4d/Flag_of_Somaliland.svg/46px-Flag_of_Somaliland.svg.png 2x\" width=\"23\"/> </span><a href=\"/wiki/Somaliland\" title=\"Somaliland\">Somaliland</a>\n",
            "</td>\n",
            "<td>741,000\n",
            "</td>\n",
            "<td>2014\n",
            "</td></tr>\n",
            "<tr>\n",
            "<td>68\n",
            "</td>\n",
            "<td><a href=\"/wiki/Suez\" title=\"Suez\">Suez</a>\n",
            "</td>\n",
            "<td><span class=\"flagicon\"><img alt=\"\" class=\"thumbborder\" data-file-height=\"600\" data-file-width=\"900\" decoding=\"async\" height=\"15\" src=\"//upload.wikimedia.org/wikipedia/commons/thumb/f/fe/Flag_of_Egypt.svg/23px-Flag_of_Egypt.svg.png\" srcset=\"//upload.wikimedia.org/wikipedia/commons/thumb/f/fe/Flag_of_Egypt.svg/35px-Flag_of_Egypt.svg.png 1.5x, //upload.wikimedia.org/wikipedia/commons/thumb/f/fe/Flag_of_Egypt.svg/45px-Flag_of_Egypt.svg.png 2x\" width=\"23\"/> </span><a href=\"/wiki/Egypt\" title=\"Egypt\">Egypt</a>\n",
            "</td>\n",
            "<td>740,874\n",
            "</td>\n",
            "<td>2018\n",
            "</td></tr>\n",
            "<tr>\n",
            "<td>69\n",
            "</td>\n",
            "<td><a href=\"/wiki/Soshanguve\" title=\"Soshanguve\">Soshanguve</a>\n",
            "</td>\n",
            "<td><span class=\"flagicon\"><img alt=\"\" class=\"thumbborder\" data-file-height=\"600\" data-file-width=\"900\" decoding=\"async\" height=\"15\" src=\"//upload.wikimedia.org/wikipedia/commons/thumb/a/af/Flag_of_South_Africa.svg/23px-Flag_of_South_Africa.svg.png\" srcset=\"//upload.wikimedia.org/wikipedia/commons/thumb/a/af/Flag_of_South_Africa.svg/35px-Flag_of_South_Africa.svg.png 1.5x, //upload.wikimedia.org/wikipedia/commons/thumb/a/af/Flag_of_South_Africa.svg/45px-Flag_of_South_Africa.svg.png 2x\" width=\"23\"/> </span><a href=\"/wiki/South_Africa\" title=\"South Africa\">South Africa</a>\n",
            "</td>\n",
            "<td>728,063\n",
            "</td>\n",
            "<td>2011\n",
            "</td></tr>\n",
            "<tr>\n",
            "<td>70\n",
            "</td>\n",
            "<td><a href=\"/wiki/Enugu\" title=\"Enugu\">Enugu</a>\n",
            "</td>\n",
            "<td><span class=\"flagicon\"><img alt=\"\" class=\"thumbborder\" data-file-height=\"600\" data-file-width=\"1200\" decoding=\"async\" height=\"12\" src=\"//upload.wikimedia.org/wikipedia/commons/thumb/7/79/Flag_of_Nigeria.svg/23px-Flag_of_Nigeria.svg.png\" srcset=\"//upload.wikimedia.org/wikipedia/commons/thumb/7/79/Flag_of_Nigeria.svg/35px-Flag_of_Nigeria.svg.png 1.5x, //upload.wikimedia.org/wikipedia/commons/thumb/7/79/Flag_of_Nigeria.svg/46px-Flag_of_Nigeria.svg.png 2x\" width=\"23\"/> </span><a href=\"/wiki/Nigeria\" title=\"Nigeria\">Nigeria</a>\n",
            "</td>\n",
            "<td>722,664\n",
            "</td>\n",
            "<td>2006\n",
            "</td></tr>\n",
            "<tr>\n",
            "<td>71\n",
            "</td>\n",
            "<td><a href=\"/wiki/Kananga\" title=\"Kananga\">Kananga</a>\n",
            "</td>\n",
            "<td><span class=\"flagicon\"><img alt=\"\" class=\"thumbborder\" data-file-height=\"600\" data-file-width=\"800\" decoding=\"async\" height=\"15\" src=\"//upload.wikimedia.org/wikipedia/commons/thumb/6/6f/Flag_of_the_Democratic_Republic_of_the_Congo.svg/20px-Flag_of_the_Democratic_Republic_of_the_Congo.svg.png\" srcset=\"//upload.wikimedia.org/wikipedia/commons/thumb/6/6f/Flag_of_the_Democratic_Republic_of_the_Congo.svg/31px-Flag_of_the_Democratic_Republic_of_the_Congo.svg.png 1.5x, //upload.wikimedia.org/wikipedia/commons/thumb/6/6f/Flag_of_the_Democratic_Republic_of_the_Congo.svg/40px-Flag_of_the_Democratic_Republic_of_the_Congo.svg.png 2x\" width=\"20\"/> </span><a href=\"/wiki/Democratic_Republic_of_the_Congo\" title=\"Democratic Republic of the Congo\">Democratic Republic of the Congo</a>\n",
            "</td>\n",
            "<td>720,362\n",
            "</td>\n",
            "<td>2004\n",
            "</td></tr>\n",
            "<tr>\n",
            "<td>72\n",
            "</td>\n",
            "<td><a href=\"/wiki/Pointe-Noire\" title=\"Pointe-Noire\">Pointe-Noire</a>\n",
            "</td>\n",
            "<td><span class=\"flagicon\"><img alt=\"\" class=\"thumbborder\" data-file-height=\"600\" data-file-width=\"900\" decoding=\"async\" height=\"15\" src=\"//upload.wikimedia.org/wikipedia/commons/thumb/9/92/Flag_of_the_Republic_of_the_Congo.svg/23px-Flag_of_the_Republic_of_the_Congo.svg.png\" srcset=\"//upload.wikimedia.org/wikipedia/commons/thumb/9/92/Flag_of_the_Republic_of_the_Congo.svg/35px-Flag_of_the_Republic_of_the_Congo.svg.png 1.5x, //upload.wikimedia.org/wikipedia/commons/thumb/9/92/Flag_of_the_Republic_of_the_Congo.svg/45px-Flag_of_the_Republic_of_the_Congo.svg.png 2x\" width=\"23\"/> </span><a href=\"/wiki/Republic_of_the_Congo\" title=\"Republic of the Congo\">Republic of the Congo</a>\n",
            "</td>\n",
            "<td>715,334\n",
            "</td>\n",
            "<td>2007\n",
            "</td></tr>\n",
            "<tr>\n",
            "<td>73\n",
            "</td>\n",
            "<td><a href=\"/wiki/Mwanza\" title=\"Mwanza\">Mwanza</a>\n",
            "</td>\n",
            "<td><span class=\"flagicon\"><img alt=\"\" class=\"thumbborder\" data-file-height=\"600\" data-file-width=\"900\" decoding=\"async\" height=\"15\" src=\"//upload.wikimedia.org/wikipedia/commons/thumb/3/38/Flag_of_Tanzania.svg/23px-Flag_of_Tanzania.svg.png\" srcset=\"//upload.wikimedia.org/wikipedia/commons/thumb/3/38/Flag_of_Tanzania.svg/35px-Flag_of_Tanzania.svg.png 1.5x, //upload.wikimedia.org/wikipedia/commons/thumb/3/38/Flag_of_Tanzania.svg/45px-Flag_of_Tanzania.svg.png 2x\" width=\"23\"/> </span><a href=\"/wiki/Tanzania\" title=\"Tanzania\">Tanzania</a>\n",
            "</td>\n",
            "<td>706,453\n",
            "</td>\n",
            "<td>2012\n",
            "</td></tr>\n",
            "<tr>\n",
            "<td>74\n",
            "</td>\n",
            "<td><i><b><a href=\"/wiki/Libreville\" title=\"Libreville\">Libreville</a></b></i>\n",
            "</td>\n",
            "<td><span class=\"flagicon\"><img alt=\"\" class=\"thumbborder\" data-file-height=\"750\" data-file-width=\"1000\" decoding=\"async\" height=\"15\" src=\"//upload.wikimedia.org/wikipedia/commons/thumb/0/04/Flag_of_Gabon.svg/20px-Flag_of_Gabon.svg.png\" srcset=\"//upload.wikimedia.org/wikipedia/commons/thumb/0/04/Flag_of_Gabon.svg/31px-Flag_of_Gabon.svg.png 1.5x, //upload.wikimedia.org/wikipedia/commons/thumb/0/04/Flag_of_Gabon.svg/40px-Flag_of_Gabon.svg.png 2x\" width=\"20\"/> </span><a href=\"/wiki/Gabon\" title=\"Gabon\">Gabon</a>\n",
            "</td>\n",
            "<td>703,940\n",
            "</td>\n",
            "<td>2013\n",
            "</td></tr>\n",
            "<tr>\n",
            "<td>75\n",
            "</td>\n",
            "<td><a href=\"/wiki/Zaria\" title=\"Zaria\">Zaria</a>\n",
            "</td>\n",
            "<td><span class=\"flagicon\"><img alt=\"\" class=\"thumbborder\" data-file-height=\"600\" data-file-width=\"1200\" decoding=\"async\" height=\"12\" src=\"//upload.wikimedia.org/wikipedia/commons/thumb/7/79/Flag_of_Nigeria.svg/23px-Flag_of_Nigeria.svg.png\" srcset=\"//upload.wikimedia.org/wikipedia/commons/thumb/7/79/Flag_of_Nigeria.svg/35px-Flag_of_Nigeria.svg.png 1.5x, //upload.wikimedia.org/wikipedia/commons/thumb/7/79/Flag_of_Nigeria.svg/46px-Flag_of_Nigeria.svg.png 2x\" width=\"23\"/> </span><a href=\"/wiki/Nigeria\" title=\"Nigeria\">Nigeria</a>\n",
            "</td>\n",
            "<td>695,089\n",
            "</td>\n",
            "<td>2006\n",
            "</td></tr>\n",
            "<tr>\n",
            "<td>76\n",
            "</td>\n",
            "<td><a href=\"/wiki/Kisangani\" title=\"Kisangani\">Kisangani</a>\n",
            "</td>\n",
            "<td><span class=\"flagicon\"><img alt=\"\" class=\"thumbborder\" data-file-height=\"600\" data-file-width=\"800\" decoding=\"async\" height=\"15\" src=\"//upload.wikimedia.org/wikipedia/commons/thumb/6/6f/Flag_of_the_Democratic_Republic_of_the_Congo.svg/20px-Flag_of_the_Democratic_Republic_of_the_Congo.svg.png\" srcset=\"//upload.wikimedia.org/wikipedia/commons/thumb/6/6f/Flag_of_the_Democratic_Republic_of_the_Congo.svg/31px-Flag_of_the_Democratic_Republic_of_the_Congo.svg.png 1.5x, //upload.wikimedia.org/wikipedia/commons/thumb/6/6f/Flag_of_the_Democratic_Republic_of_the_Congo.svg/40px-Flag_of_the_Democratic_Republic_of_the_Congo.svg.png 2x\" width=\"20\"/> </span><a href=\"/wiki/Democratic_Republic_of_the_Congo\" title=\"Democratic Republic of the Congo\">Democratic Republic of the Congo</a>\n",
            "</td>\n",
            "<td>682,599\n",
            "</td>\n",
            "<td>2004\n",
            "</td></tr>\n",
            "<tr>\n",
            "<td>77\n",
            "</td>\n",
            "<td><b><a href=\"/wiki/Cotonou\" title=\"Cotonou\">Cotonou</a></b>\n",
            "</td>\n",
            "<td><span class=\"flagicon\"><img alt=\"\" class=\"thumbborder\" data-file-height=\"600\" data-file-width=\"900\" decoding=\"async\" height=\"15\" src=\"//upload.wikimedia.org/wikipedia/commons/thumb/0/0a/Flag_of_Benin.svg/23px-Flag_of_Benin.svg.png\" srcset=\"//upload.wikimedia.org/wikipedia/commons/thumb/0/0a/Flag_of_Benin.svg/35px-Flag_of_Benin.svg.png 1.5x, //upload.wikimedia.org/wikipedia/commons/thumb/0/0a/Flag_of_Benin.svg/45px-Flag_of_Benin.svg.png 2x\" width=\"23\"/> </span><a href=\"/wiki/Benin\" title=\"Benin\">Benin</a>\n",
            "</td>\n",
            "<td>679,012\n",
            "</td>\n",
            "<td>2013\n",
            "</td></tr>\n",
            "<tr>\n",
            "<td>78\n",
            "</td>\n",
            "<td><a href=\"/wiki/Nampula\" title=\"Nampula\">Nampula</a>\n",
            "</td>\n",
            "<td><span class=\"flagicon\"><img alt=\"\" class=\"thumbborder\" data-file-height=\"600\" data-file-width=\"900\" decoding=\"async\" height=\"15\" src=\"//upload.wikimedia.org/wikipedia/commons/thumb/d/d0/Flag_of_Mozambique.svg/23px-Flag_of_Mozambique.svg.png\" srcset=\"//upload.wikimedia.org/wikipedia/commons/thumb/d/d0/Flag_of_Mozambique.svg/35px-Flag_of_Mozambique.svg.png 1.5x, //upload.wikimedia.org/wikipedia/commons/thumb/d/d0/Flag_of_Mozambique.svg/45px-Flag_of_Mozambique.svg.png 2x\" width=\"23\"/> </span><a href=\"/wiki/Mozambique\" title=\"Mozambique\">Mozambique</a>\n",
            "</td>\n",
            "<td>663,212\n",
            "</td>\n",
            "<td>2017\n",
            "</td></tr>\n",
            "<tr>\n",
            "<td>79\n",
            "</td>\n",
            "<td><a href=\"/wiki/Bulawayo\" title=\"Bulawayo\">Bulawayo</a>\n",
            "</td>\n",
            "<td><span class=\"flagicon\"><img alt=\"\" class=\"thumbborder\" data-file-height=\"630\" data-file-width=\"1260\" decoding=\"async\" height=\"12\" src=\"//upload.wikimedia.org/wikipedia/commons/thumb/6/6a/Flag_of_Zimbabwe.svg/23px-Flag_of_Zimbabwe.svg.png\" srcset=\"//upload.wikimedia.org/wikipedia/commons/thumb/6/6a/Flag_of_Zimbabwe.svg/35px-Flag_of_Zimbabwe.svg.png 1.5x, //upload.wikimedia.org/wikipedia/commons/thumb/6/6a/Flag_of_Zimbabwe.svg/46px-Flag_of_Zimbabwe.svg.png 2x\" width=\"23\"/> </span><a href=\"/wiki/Zimbabwe\" title=\"Zimbabwe\">Zimbabwe</a>\n",
            "</td>\n",
            "<td>653,337\n",
            "</td>\n",
            "<td>2012\n",
            "</td></tr>\n",
            "<tr>\n",
            "<td>80\n",
            "</td>\n",
            "<td><i><b><a href=\"/wiki/Tunis\" title=\"Tunis\">Tunis</a></b></i>\n",
            "</td>\n",
            "<td><span class=\"flagicon\"><img alt=\"\" class=\"thumbborder\" data-file-height=\"800\" data-file-width=\"1200\" decoding=\"async\" height=\"15\" src=\"//upload.wikimedia.org/wikipedia/commons/thumb/c/ce/Flag_of_Tunisia.svg/23px-Flag_of_Tunisia.svg.png\" srcset=\"//upload.wikimedia.org/wikipedia/commons/thumb/c/ce/Flag_of_Tunisia.svg/35px-Flag_of_Tunisia.svg.png 1.5x, //upload.wikimedia.org/wikipedia/commons/thumb/c/ce/Flag_of_Tunisia.svg/45px-Flag_of_Tunisia.svg.png 2x\" width=\"23\"/> </span><a href=\"/wiki/Tunisia\" title=\"Tunisia\">Tunisia</a>\n",
            "</td>\n",
            "<td>638,845\n",
            "</td>\n",
            "<td>2014\n",
            "</td></tr>\n",
            "<tr>\n",
            "<td>81\n",
            "</td>\n",
            "<td><i><b><a href=\"/wiki/Bangui\" title=\"Bangui\">Bangui</a></b></i>\n",
            "</td>\n",
            "<td><span class=\"flagicon\"><img alt=\"\" class=\"thumbborder\" data-file-height=\"600\" data-file-width=\"900\" decoding=\"async\" height=\"15\" src=\"//upload.wikimedia.org/wikipedia/commons/thumb/6/6f/Flag_of_the_Central_African_Republic.svg/23px-Flag_of_the_Central_African_Republic.svg.png\" srcset=\"//upload.wikimedia.org/wikipedia/commons/thumb/6/6f/Flag_of_the_Central_African_Republic.svg/35px-Flag_of_the_Central_African_Republic.svg.png 1.5x, //upload.wikimedia.org/wikipedia/commons/thumb/6/6f/Flag_of_the_Central_African_Republic.svg/45px-Flag_of_the_Central_African_Republic.svg.png 2x\" width=\"23\"/> </span><a href=\"/wiki/Central_African_Republic\" title=\"Central African Republic\">Central African Republic</a>\n",
            "</td>\n",
            "<td>622,771\n",
            "</td>\n",
            "<td>2003\n",
            "</td></tr>\n",
            "<tr>\n",
            "<td>82\n",
            "</td>\n",
            "<td><a href=\"/wiki/Evaton\" title=\"Evaton\">Evaton</a>\n",
            "</td>\n",
            "<td><span class=\"flagicon\"><img alt=\"\" class=\"thumbborder\" data-file-height=\"600\" data-file-width=\"900\" decoding=\"async\" height=\"15\" src=\"//upload.wikimedia.org/wikipedia/commons/thumb/a/af/Flag_of_South_Africa.svg/23px-Flag_of_South_Africa.svg.png\" srcset=\"//upload.wikimedia.org/wikipedia/commons/thumb/a/af/Flag_of_South_Africa.svg/35px-Flag_of_South_Africa.svg.png 1.5x, //upload.wikimedia.org/wikipedia/commons/thumb/a/af/Flag_of_South_Africa.svg/45px-Flag_of_South_Africa.svg.png 2x\" width=\"23\"/> </span><a href=\"/wiki/South_Africa\" title=\"South Africa\">South Africa</a>\n",
            "</td>\n",
            "<td>605,504\n",
            "</td>\n",
            "<td>2011\n",
            "</td></tr>\n",
            "<tr>\n",
            "<td>83\n",
            "</td>\n",
            "<td><a href=\"/wiki/Durban\" title=\"Durban\">Durban</a>\n",
            "</td>\n",
            "<td><span class=\"flagicon\"><img alt=\"\" class=\"thumbborder\" data-file-height=\"600\" data-file-width=\"900\" decoding=\"async\" height=\"15\" src=\"//upload.wikimedia.org/wikipedia/commons/thumb/a/af/Flag_of_South_Africa.svg/23px-Flag_of_South_Africa.svg.png\" srcset=\"//upload.wikimedia.org/wikipedia/commons/thumb/a/af/Flag_of_South_Africa.svg/35px-Flag_of_South_Africa.svg.png 1.5x, //upload.wikimedia.org/wikipedia/commons/thumb/a/af/Flag_of_South_Africa.svg/45px-Flag_of_South_Africa.svg.png 2x\" width=\"23\"/> </span><a href=\"/wiki/South_Africa\" title=\"South Africa\">South Africa</a>\n",
            "</td>\n",
            "<td>595,061\n",
            "</td>\n",
            "<td>2011\n",
            "</td></tr>\n",
            "<tr>\n",
            "<td>84\n",
            "</td>\n",
            "<td><a href=\"/wiki/Beira,_Mozambique\" title=\"Beira, Mozambique\">Beira</a>\n",
            "</td>\n",
            "<td><span class=\"flagicon\"><img alt=\"\" class=\"thumbborder\" data-file-height=\"600\" data-file-width=\"900\" decoding=\"async\" height=\"15\" src=\"//upload.wikimedia.org/wikipedia/commons/thumb/d/d0/Flag_of_Mozambique.svg/23px-Flag_of_Mozambique.svg.png\" srcset=\"//upload.wikimedia.org/wikipedia/commons/thumb/d/d0/Flag_of_Mozambique.svg/35px-Flag_of_Mozambique.svg.png 1.5x, //upload.wikimedia.org/wikipedia/commons/thumb/d/d0/Flag_of_Mozambique.svg/45px-Flag_of_Mozambique.svg.png 2x\" width=\"23\"/> </span><a href=\"/wiki/Mozambique\" title=\"Mozambique\">Mozambique</a>\n",
            "</td>\n",
            "<td>592,090\n",
            "</td>\n",
            "<td>2017\n",
            "</td></tr>\n",
            "<tr>\n",
            "<td>85\n",
            "</td>\n",
            "<td><i><a href=\"/wiki/Rabat\" title=\"Rabat\">Rabat</a></i>\n",
            "</td>\n",
            "<td><span class=\"flagicon\"><img alt=\"\" class=\"thumbborder\" data-file-height=\"600\" data-file-width=\"900\" decoding=\"async\" height=\"15\" src=\"//upload.wikimedia.org/wikipedia/commons/thumb/2/2c/Flag_of_Morocco.svg/23px-Flag_of_Morocco.svg.png\" srcset=\"//upload.wikimedia.org/wikipedia/commons/thumb/2/2c/Flag_of_Morocco.svg/35px-Flag_of_Morocco.svg.png 1.5x, //upload.wikimedia.org/wikipedia/commons/thumb/2/2c/Flag_of_Morocco.svg/45px-Flag_of_Morocco.svg.png 2x\" width=\"23\"/> </span><a href=\"/wiki/Morocco\" title=\"Morocco\">Morocco</a>\n",
            "</td>\n",
            "<td>577,827\n",
            "</td>\n",
            "<td>2014\n",
            "</td></tr>\n",
            "<tr>\n",
            "<td>86\n",
            "</td>\n",
            "<td><a href=\"/wiki/Kolwezi\" title=\"Kolwezi\">Kolwezi</a>\n",
            "</td>\n",
            "<td><span class=\"flagicon\"><img alt=\"\" class=\"thumbborder\" data-file-height=\"600\" data-file-width=\"800\" decoding=\"async\" height=\"15\" src=\"//upload.wikimedia.org/wikipedia/commons/thumb/6/6f/Flag_of_the_Democratic_Republic_of_the_Congo.svg/20px-Flag_of_the_Democratic_Republic_of_the_Congo.svg.png\" srcset=\"//upload.wikimedia.org/wikipedia/commons/thumb/6/6f/Flag_of_the_Democratic_Republic_of_the_Congo.svg/31px-Flag_of_the_Democratic_Republic_of_the_Congo.svg.png 1.5x, //upload.wikimedia.org/wikipedia/commons/thumb/6/6f/Flag_of_the_Democratic_Republic_of_the_Congo.svg/40px-Flag_of_the_Democratic_Republic_of_the_Congo.svg.png 2x\" width=\"20\"/> </span><a href=\"/wiki/Democratic_Republic_of_the_Congo\" title=\"Democratic Republic of the Congo\">Democratic Republic of the Congo</a>\n",
            "</td>\n",
            "<td>572,942\n",
            "</td>\n",
            "<td>2015\n",
            "</td></tr>\n",
            "<tr>\n",
            "<td>88\n",
            "</td>\n",
            "<td><a class=\"mw-redirect\" href=\"/wiki/El_Mansoura\" title=\"El Mansoura\">El Mansoura</a>\n",
            "</td>\n",
            "<td><span class=\"flagicon\"><img alt=\"\" class=\"thumbborder\" data-file-height=\"600\" data-file-width=\"900\" decoding=\"async\" height=\"15\" src=\"//upload.wikimedia.org/wikipedia/commons/thumb/f/fe/Flag_of_Egypt.svg/23px-Flag_of_Egypt.svg.png\" srcset=\"//upload.wikimedia.org/wikipedia/commons/thumb/f/fe/Flag_of_Egypt.svg/35px-Flag_of_Egypt.svg.png 1.5x, //upload.wikimedia.org/wikipedia/commons/thumb/f/fe/Flag_of_Egypt.svg/45px-Flag_of_Egypt.svg.png 2x\" width=\"23\"/> </span><a href=\"/wiki/Egypt\" title=\"Egypt\">Egypt</a>\n",
            "</td>\n",
            "<td>570,271\n",
            "</td>\n",
            "<td>2018\n",
            "</td></tr>\n",
            "<tr>\n",
            "<td>88\n",
            "</td>\n",
            "<td><a href=\"/wiki/Benghazi\" title=\"Benghazi\">Benghazi</a> <sup class=\"reference\" id=\"cite_ref-2\"><a href=\"#cite_note-2\">[2]</a></sup>\n",
            "</td>\n",
            "<td><span class=\"flagicon\"><img alt=\"\" class=\"thumbborder\" data-file-height=\"480\" data-file-width=\"960\" decoding=\"async\" height=\"12\" src=\"//upload.wikimedia.org/wikipedia/commons/thumb/0/05/Flag_of_Libya.svg/23px-Flag_of_Libya.svg.png\" srcset=\"//upload.wikimedia.org/wikipedia/commons/thumb/0/05/Flag_of_Libya.svg/35px-Flag_of_Libya.svg.png 1.5x, //upload.wikimedia.org/wikipedia/commons/thumb/0/05/Flag_of_Libya.svg/46px-Flag_of_Libya.svg.png 2x\" width=\"23\"/> </span><a href=\"/wiki/Libya\" title=\"Libya\">Libya</a>\n",
            "</td>\n",
            "<td>562,067\n",
            "</td>\n",
            "<td>2012\n",
            "</td></tr>\n",
            "<tr>\n",
            "<td>89\n",
            "</td>\n",
            "<td><a href=\"/wiki/Warri\" title=\"Warri\">Warri</a>\n",
            "</td>\n",
            "<td><span class=\"flagicon\"><img alt=\"\" class=\"thumbborder\" data-file-height=\"600\" data-file-width=\"1200\" decoding=\"async\" height=\"12\" src=\"//upload.wikimedia.org/wikipedia/commons/thumb/7/79/Flag_of_Nigeria.svg/23px-Flag_of_Nigeria.svg.png\" srcset=\"//upload.wikimedia.org/wikipedia/commons/thumb/7/79/Flag_of_Nigeria.svg/35px-Flag_of_Nigeria.svg.png 1.5x, //upload.wikimedia.org/wikipedia/commons/thumb/7/79/Flag_of_Nigeria.svg/46px-Flag_of_Nigeria.svg.png 2x\" width=\"23\"/> </span><a href=\"/wiki/Nigeria\" title=\"Nigeria\">Nigeria</a>\n",
            "</td>\n",
            "<td>557,398\n",
            "</td>\n",
            "<td>2006\n",
            "</td></tr>\n",
            "<tr>\n",
            "<td>90\n",
            "</td>\n",
            "<td><a href=\"/wiki/El_Mahalla_El_Kubra\" title=\"El Mahalla El Kubra\">El Mahalla el-Kubra</a>\n",
            "</td>\n",
            "<td><span class=\"flagicon\"><img alt=\"\" class=\"thumbborder\" data-file-height=\"600\" data-file-width=\"900\" decoding=\"async\" height=\"15\" src=\"//upload.wikimedia.org/wikipedia/commons/thumb/f/fe/Flag_of_Egypt.svg/23px-Flag_of_Egypt.svg.png\" srcset=\"//upload.wikimedia.org/wikipedia/commons/thumb/f/fe/Flag_of_Egypt.svg/35px-Flag_of_Egypt.svg.png 1.5x, //upload.wikimedia.org/wikipedia/commons/thumb/f/fe/Flag_of_Egypt.svg/45px-Flag_of_Egypt.svg.png 2x\" width=\"23\"/> </span><a href=\"/wiki/Egypt\" title=\"Egypt\">Egypt</a>\n",
            "</td>\n",
            "<td>543,271\n",
            "</td>\n",
            "<td>2018\n",
            "</td></tr>\n",
            "<tr>\n",
            "<td>91\n",
            "</td>\n",
            "<td><a href=\"/wiki/Maiduguri\" title=\"Maiduguri\">Maiduguri</a>\n",
            "</td>\n",
            "<td><span class=\"flagicon\"><img alt=\"\" class=\"thumbborder\" data-file-height=\"600\" data-file-width=\"1200\" decoding=\"async\" height=\"12\" src=\"//upload.wikimedia.org/wikipedia/commons/thumb/7/79/Flag_of_Nigeria.svg/23px-Flag_of_Nigeria.svg.png\" srcset=\"//upload.wikimedia.org/wikipedia/commons/thumb/7/79/Flag_of_Nigeria.svg/35px-Flag_of_Nigeria.svg.png 1.5x, //upload.wikimedia.org/wikipedia/commons/thumb/7/79/Flag_of_Nigeria.svg/46px-Flag_of_Nigeria.svg.png 2x\" width=\"23\"/> </span><a href=\"/wiki/Nigeria\" title=\"Nigeria\">Nigeria</a>\n",
            "</td>\n",
            "<td>543,016\n",
            "</td>\n",
            "<td>2006\n",
            "</td></tr>\n",
            "<tr>\n",
            "<td>92\n",
            "</td>\n",
            "<td><a href=\"/wiki/Bouak%C3%A9\" title=\"Bouaké\">Bouaké</a>\n",
            "</td>\n",
            "<td><span class=\"flagicon\"><img alt=\"\" class=\"thumbborder\" data-file-height=\"600\" data-file-width=\"900\" decoding=\"async\" height=\"15\" src=\"//upload.wikimedia.org/wikipedia/commons/thumb/f/fe/Flag_of_C%C3%B4te_d%27Ivoire.svg/23px-Flag_of_C%C3%B4te_d%27Ivoire.svg.png\" srcset=\"//upload.wikimedia.org/wikipedia/commons/thumb/f/fe/Flag_of_C%C3%B4te_d%27Ivoire.svg/35px-Flag_of_C%C3%B4te_d%27Ivoire.svg.png 1.5x, //upload.wikimedia.org/wikipedia/commons/thumb/f/fe/Flag_of_C%C3%B4te_d%27Ivoire.svg/45px-Flag_of_C%C3%B4te_d%27Ivoire.svg.png 2x\" width=\"23\"/> </span><a href=\"/wiki/Ivory_Coast\" title=\"Ivory Coast\">Cote d'Ivoire</a>\n",
            "</td>\n",
            "<td>536,719\n",
            "</td>\n",
            "<td>2014\n",
            "</td></tr>\n",
            "<tr>\n",
            "<td>93\n",
            "</td>\n",
            "<td><a href=\"/wiki/Ikorodu\" title=\"Ikorodu\">Ikorodu</a>\n",
            "</td>\n",
            "<td><span class=\"flagicon\"><img alt=\"\" class=\"thumbborder\" data-file-height=\"600\" data-file-width=\"1200\" decoding=\"async\" height=\"12\" src=\"//upload.wikimedia.org/wikipedia/commons/thumb/7/79/Flag_of_Nigeria.svg/23px-Flag_of_Nigeria.svg.png\" srcset=\"//upload.wikimedia.org/wikipedia/commons/thumb/7/79/Flag_of_Nigeria.svg/35px-Flag_of_Nigeria.svg.png 1.5x, //upload.wikimedia.org/wikipedia/commons/thumb/7/79/Flag_of_Nigeria.svg/46px-Flag_of_Nigeria.svg.png 2x\" width=\"23\"/> </span><a href=\"/wiki/Nigeria\" title=\"Nigeria\">Nigeria</a>\n",
            "</td>\n",
            "<td>535,619\n",
            "</td>\n",
            "<td>2006\n",
            "</td></tr>\n",
            "<tr>\n",
            "<td>94\n",
            "</td>\n",
            "<td><a href=\"/wiki/Aba,_Abia\" title=\"Aba, Abia\">Aba</a>\n",
            "</td>\n",
            "<td><span class=\"flagicon\"><img alt=\"\" class=\"thumbborder\" data-file-height=\"600\" data-file-width=\"1200\" decoding=\"async\" height=\"12\" src=\"//upload.wikimedia.org/wikipedia/commons/thumb/7/79/Flag_of_Nigeria.svg/23px-Flag_of_Nigeria.svg.png\" srcset=\"//upload.wikimedia.org/wikipedia/commons/thumb/7/79/Flag_of_Nigeria.svg/35px-Flag_of_Nigeria.svg.png 1.5x, //upload.wikimedia.org/wikipedia/commons/thumb/7/79/Flag_of_Nigeria.svg/46px-Flag_of_Nigeria.svg.png 2x\" width=\"23\"/> </span><a href=\"/wiki/Nigeria\" title=\"Nigeria\">Nigeria</a>\n",
            "</td>\n",
            "<td>534,265\n",
            "</td>\n",
            "<td>2006\n",
            "</td></tr>\n",
            "<tr>\n",
            "<td>95\n",
            "</td>\n",
            "<td><a href=\"/wiki/Tanta\" title=\"Tanta\">Tanta</a>\n",
            "</td>\n",
            "<td><span class=\"flagicon\"><img alt=\"\" class=\"thumbborder\" data-file-height=\"600\" data-file-width=\"900\" decoding=\"async\" height=\"15\" src=\"//upload.wikimedia.org/wikipedia/commons/thumb/f/fe/Flag_of_Egypt.svg/23px-Flag_of_Egypt.svg.png\" srcset=\"//upload.wikimedia.org/wikipedia/commons/thumb/f/fe/Flag_of_Egypt.svg/35px-Flag_of_Egypt.svg.png 1.5x, //upload.wikimedia.org/wikipedia/commons/thumb/f/fe/Flag_of_Egypt.svg/45px-Flag_of_Egypt.svg.png 2x\" width=\"23\"/> </span><a href=\"/wiki/Egypt\" title=\"Egypt\">Egypt</a>\n",
            "</td>\n",
            "<td>528,670\n",
            "</td>\n",
            "<td>2018\n",
            "</td></tr>\n",
            "<tr>\n",
            "<td>96\n",
            "</td>\n",
            "<td><a href=\"/wiki/Meknes\" title=\"Meknes\">Meknes</a>\n",
            "</td>\n",
            "<td><span class=\"flagicon\"><img alt=\"\" class=\"thumbborder\" data-file-height=\"600\" data-file-width=\"900\" decoding=\"async\" height=\"15\" src=\"//upload.wikimedia.org/wikipedia/commons/thumb/2/2c/Flag_of_Morocco.svg/23px-Flag_of_Morocco.svg.png\" srcset=\"//upload.wikimedia.org/wikipedia/commons/thumb/2/2c/Flag_of_Morocco.svg/35px-Flag_of_Morocco.svg.png 1.5x, //upload.wikimedia.org/wikipedia/commons/thumb/2/2c/Flag_of_Morocco.svg/45px-Flag_of_Morocco.svg.png 2x\" width=\"23\"/> </span><a href=\"/wiki/Morocco\" title=\"Morocco\">Morocco</a>\n",
            "</td>\n",
            "<td>520,428\n",
            "</td>\n",
            "<td>2014\n",
            "</td></tr>\n",
            "<tr>\n",
            "<td>97\n",
            "</td>\n",
            "<td><a class=\"mw-redirect\" href=\"/wiki/Ife\" title=\"Ife\">Ife</a>\n",
            "</td>\n",
            "<td><span class=\"flagicon\"><img alt=\"\" class=\"thumbborder\" data-file-height=\"600\" data-file-width=\"1200\" decoding=\"async\" height=\"12\" src=\"//upload.wikimedia.org/wikipedia/commons/thumb/7/79/Flag_of_Nigeria.svg/23px-Flag_of_Nigeria.svg.png\" srcset=\"//upload.wikimedia.org/wikipedia/commons/thumb/7/79/Flag_of_Nigeria.svg/35px-Flag_of_Nigeria.svg.png 1.5x, //upload.wikimedia.org/wikipedia/commons/thumb/7/79/Flag_of_Nigeria.svg/46px-Flag_of_Nigeria.svg.png 2x\" width=\"23\"/> </span><a href=\"/wiki/Nigeria\" title=\"Nigeria\">Nigeria</a>\n",
            "</td>\n",
            "<td>509,035\n",
            "</td>\n",
            "<td>2006\n",
            "</td></tr>\n",
            "<tr>\n",
            "<td>98\n",
            "</td>\n",
            "<td><a href=\"/wiki/Zanzibar_City\" title=\"Zanzibar City\">Zanzibar City</a>\n",
            "</td>\n",
            "<td><span class=\"flagicon\"><img alt=\"\" class=\"thumbborder\" data-file-height=\"600\" data-file-width=\"900\" decoding=\"async\" height=\"15\" src=\"//upload.wikimedia.org/wikipedia/commons/thumb/3/38/Flag_of_Tanzania.svg/23px-Flag_of_Tanzania.svg.png\" srcset=\"//upload.wikimedia.org/wikipedia/commons/thumb/3/38/Flag_of_Tanzania.svg/35px-Flag_of_Tanzania.svg.png 1.5x, //upload.wikimedia.org/wikipedia/commons/thumb/3/38/Flag_of_Tanzania.svg/45px-Flag_of_Tanzania.svg.png 2x\" width=\"23\"/> </span><a href=\"/wiki/Tanzania\" title=\"Tanzania\">Tanzania</a>\n",
            "</td>\n",
            "<td>501,459\n",
            "</td>\n",
            "<td>2012\n",
            "</td></tr>\n",
            "<tr>\n",
            "<td>99\n",
            "</td>\n",
            "<td><a href=\"/wiki/Kitwe\" title=\"Kitwe\">Kitwe</a>\n",
            "</td>\n",
            "<td><span class=\"flagicon\"><img alt=\"\" class=\"thumbborder\" data-file-height=\"1400\" data-file-width=\"2100\" decoding=\"async\" height=\"15\" src=\"//upload.wikimedia.org/wikipedia/commons/thumb/0/06/Flag_of_Zambia.svg/23px-Flag_of_Zambia.svg.png\" srcset=\"//upload.wikimedia.org/wikipedia/commons/thumb/0/06/Flag_of_Zambia.svg/35px-Flag_of_Zambia.svg.png 1.5x, //upload.wikimedia.org/wikipedia/commons/thumb/0/06/Flag_of_Zambia.svg/45px-Flag_of_Zambia.svg.png 2x\" width=\"23\"/> </span><a href=\"/wiki/Zambia\" title=\"Zambia\">Zambia</a>\n",
            "</td>\n",
            "<td>501,360\n",
            "</td>\n",
            "<td>2010\n",
            "</td></tr>\n",
            "<tr>\n",
            "<td>100\n",
            "</td>\n",
            "<td><a href=\"/wiki/Nansana\" title=\"Nansana\">Nansana</a>\n",
            "</td>\n",
            "<td><span class=\"flagicon\"><img alt=\"\" class=\"thumbborder\" data-file-height=\"600\" data-file-width=\"900\" decoding=\"async\" height=\"15\" src=\"//upload.wikimedia.org/wikipedia/commons/thumb/4/4e/Flag_of_Uganda.svg/23px-Flag_of_Uganda.svg.png\" srcset=\"//upload.wikimedia.org/wikipedia/commons/thumb/4/4e/Flag_of_Uganda.svg/35px-Flag_of_Uganda.svg.png 1.5x, //upload.wikimedia.org/wikipedia/commons/thumb/4/4e/Flag_of_Uganda.svg/45px-Flag_of_Uganda.svg.png 2x\" width=\"23\"/> </span><a href=\"/wiki/Uganda\" title=\"Uganda\">Uganda</a>\n",
            "</td>\n",
            "<td>499,900\n",
            "</td>\n",
            "<td>2019\n",
            "</td></tr></tbody></table>\n"
          ],
          "name": "stdout"
        }
      ]
    },
    {
      "cell_type": "code",
      "metadata": {
        "id": "l4FGeV2R0O-0"
      },
      "source": [
        "# Getting the table body rows\n",
        "# ---\n",
        "#\n",
        "rows = right_table.find_all('tr')"
      ],
      "execution_count": null,
      "outputs": []
    },
    {
      "cell_type": "code",
      "metadata": {
        "id": "fpe8c9JArfax"
      },
      "source": [
        "# Getting the required text data from our table body rows\n",
        "# ---\n",
        "#\n",
        "rank = []\n",
        "cities = []\n",
        "countries = []\n",
        "population = [] \n",
        "\n",
        "for row in rows:\n",
        "    cells = row.find_all('td') \n",
        "\n",
        "    # We check to make sure there's no empty cell\n",
        "    if len(cells) > 1:\n",
        "        rank.append(cells[0].text.strip())\n",
        "        cities.append(cells[1].text.strip())\n",
        "        countries.append(cells[2].text.strip())\n",
        "        population.append(cells[3].text.strip()) "
      ],
      "execution_count": null,
      "outputs": []
    },
    {
      "cell_type": "code",
      "metadata": {
        "id": "ggvWm4t6s8YS",
        "outputId": "37361ab6-a1f9-44ee-aa64-96de19e596e3",
        "colab": {
          "base_uri": "https://localhost:8080/",
          "height": 85
        }
      },
      "source": [
        "# Previewing our lists\n",
        "# ---\n",
        "# \n",
        "print(rank[0:5])\n",
        "print(cities[0:5])\n",
        "print(countries[0:5])\n",
        "print(population[0:5]) "
      ],
      "execution_count": null,
      "outputs": [
        {
          "output_type": "stream",
          "text": [
            "['1', '2', '3', '4', '5']\n",
            "['Lagos', 'Kinshasa', 'Cairo', 'Giza', 'Johannesburg']\n",
            "['Nigeria', 'Democratic Republic of the Congo', 'Egypt', 'Egypt', 'South Africa']\n",
            "['21,320,000', '11,860,000', '9,500,000', '8,800,000', '5,640,000']\n"
          ],
          "name": "stdout"
        }
      ]
    },
    {
      "cell_type": "markdown",
      "metadata": {
        "id": "jJzejSpZiVzd"
      },
      "source": [
        "#### Step 4: Saving our Data"
      ]
    },
    {
      "cell_type": "code",
      "metadata": {
        "id": "Q9MGH55lr_9Z",
        "outputId": "5fff8a29-3c87-440b-8c59-6350f5f5e189",
        "colab": {
          "base_uri": "https://localhost:8080/",
          "height": 359
        }
      },
      "source": [
        "# Saving the scraped data to a dataframe\n",
        "# ---\n",
        "# \n",
        "countries_df = pd.DataFrame({\"rank\": rank, \"city\": cities, \"country\": countries, \"population\": population})\n",
        "countries_df.sample(10)"
      ],
      "execution_count": null,
      "outputs": [
        {
          "output_type": "execute_result",
          "data": {
            "text/html": [
              "<div>\n",
              "<style scoped>\n",
              "    .dataframe tbody tr th:only-of-type {\n",
              "        vertical-align: middle;\n",
              "    }\n",
              "\n",
              "    .dataframe tbody tr th {\n",
              "        vertical-align: top;\n",
              "    }\n",
              "\n",
              "    .dataframe thead th {\n",
              "        text-align: right;\n",
              "    }\n",
              "</style>\n",
              "<table border=\"1\" class=\"dataframe\">\n",
              "  <thead>\n",
              "    <tr style=\"text-align: right;\">\n",
              "      <th></th>\n",
              "      <th>rank</th>\n",
              "      <th>city</th>\n",
              "      <th>country</th>\n",
              "      <th>population</th>\n",
              "    </tr>\n",
              "  </thead>\n",
              "  <tbody>\n",
              "    <tr>\n",
              "      <th>64</th>\n",
              "      <td>65</td>\n",
              "      <td>Kaduna</td>\n",
              "      <td>Nigeria</td>\n",
              "      <td>760,084</td>\n",
              "    </tr>\n",
              "    <tr>\n",
              "      <th>0</th>\n",
              "      <td>1</td>\n",
              "      <td>Lagos</td>\n",
              "      <td>Nigeria</td>\n",
              "      <td>21,320,000</td>\n",
              "    </tr>\n",
              "    <tr>\n",
              "      <th>55</th>\n",
              "      <td>56</td>\n",
              "      <td>Port Elizabeth</td>\n",
              "      <td>South Africa</td>\n",
              "      <td>876,436</td>\n",
              "    </tr>\n",
              "    <tr>\n",
              "      <th>92</th>\n",
              "      <td>93</td>\n",
              "      <td>Ikorodu</td>\n",
              "      <td>Nigeria</td>\n",
              "      <td>535,619</td>\n",
              "    </tr>\n",
              "    <tr>\n",
              "      <th>29</th>\n",
              "      <td>30</td>\n",
              "      <td>Lomé</td>\n",
              "      <td>Togo</td>\n",
              "      <td>1,477,658</td>\n",
              "    </tr>\n",
              "    <tr>\n",
              "      <th>88</th>\n",
              "      <td>89</td>\n",
              "      <td>Warri</td>\n",
              "      <td>Nigeria</td>\n",
              "      <td>557,398</td>\n",
              "    </tr>\n",
              "    <tr>\n",
              "      <th>71</th>\n",
              "      <td>72</td>\n",
              "      <td>Pointe-Noire</td>\n",
              "      <td>Republic of the Congo</td>\n",
              "      <td>715,334</td>\n",
              "    </tr>\n",
              "    <tr>\n",
              "      <th>26</th>\n",
              "      <td>27</td>\n",
              "      <td>Kampala</td>\n",
              "      <td>Uganda</td>\n",
              "      <td>1,650,800</td>\n",
              "    </tr>\n",
              "    <tr>\n",
              "      <th>28</th>\n",
              "      <td>29</td>\n",
              "      <td>Harare</td>\n",
              "      <td>Zimbabwe</td>\n",
              "      <td>1,485,231</td>\n",
              "    </tr>\n",
              "    <tr>\n",
              "      <th>85</th>\n",
              "      <td>86</td>\n",
              "      <td>Kolwezi</td>\n",
              "      <td>Democratic Republic of the Congo</td>\n",
              "      <td>572,942</td>\n",
              "    </tr>\n",
              "  </tbody>\n",
              "</table>\n",
              "</div>"
            ],
            "text/plain": [
              "   rank            city                           country  population\n",
              "64   65          Kaduna                           Nigeria     760,084\n",
              "0     1           Lagos                           Nigeria  21,320,000\n",
              "55   56  Port Elizabeth                      South Africa     876,436\n",
              "92   93         Ikorodu                           Nigeria     535,619\n",
              "29   30            Lomé                              Togo   1,477,658\n",
              "88   89           Warri                           Nigeria     557,398\n",
              "71   72    Pointe-Noire             Republic of the Congo     715,334\n",
              "26   27         Kampala                            Uganda   1,650,800\n",
              "28   29          Harare                          Zimbabwe   1,485,231\n",
              "85   86         Kolwezi  Democratic Republic of the Congo     572,942"
            ]
          },
          "metadata": {
            "tags": []
          },
          "execution_count": 29
        }
      ]
    },
    {
      "cell_type": "markdown",
      "metadata": {
        "id": "o0y799UR92Jw"
      },
      "source": [
        "### Example 3: Scraping for Articles"
      ]
    },
    {
      "cell_type": "code",
      "metadata": {
        "id": "2K1nVaV093cf"
      },
      "source": [
        "# Example 3 \n",
        "# ---\n",
        "# Scrape the given article from the the DailyPost Nigeria\n",
        "# ---\n",
        "# Website URL = https://dailypost.ng/2020/09/29/danbatta-inaugurates-evaluation-committee-for-2020-research-proposals/\n",
        "# ---\n",
        "# YOUR CODE GOES BELOW\n",
        "# "
      ],
      "execution_count": null,
      "outputs": []
    },
    {
      "cell_type": "markdown",
      "metadata": {
        "id": "HZQIODXZiyCA"
      },
      "source": [
        "#### Step 1: Obtaining our Data"
      ]
    },
    {
      "cell_type": "code",
      "metadata": {
        "id": "Z5V-Fkg0-J7J",
        "outputId": "121729b6-a016-4534-ea66-706a573397e8",
        "colab": {
          "base_uri": "https://localhost:8080/",
          "height": 34
        }
      },
      "source": [
        "page = requests.get('https://dailypost.ng/2020/09/29/danbatta-inaugurates-evaluation-committee-for-2020-research-proposals/')\n",
        "page"
      ],
      "execution_count": null,
      "outputs": [
        {
          "output_type": "execute_result",
          "data": {
            "text/plain": [
              "<Response [200]>"
            ]
          },
          "metadata": {
            "tags": []
          },
          "execution_count": 31
        }
      ]
    },
    {
      "cell_type": "markdown",
      "metadata": {
        "id": "Gg8vrk-wi8nh"
      },
      "source": [
        "#### Step 2: Parsing"
      ]
    },
    {
      "cell_type": "code",
      "metadata": {
        "id": "F0Z2cktp-o_-"
      },
      "source": [
        "soup = BeautifulSoup(page.text, \"html.parser\")"
      ],
      "execution_count": null,
      "outputs": []
    },
    {
      "cell_type": "markdown",
      "metadata": {
        "id": "n5d2hfPxjGOU"
      },
      "source": [
        "#### Step 3: Extracting Required Elements"
      ]
    },
    {
      "cell_type": "code",
      "metadata": {
        "id": "PSm7BAbF-s26",
        "outputId": "30e91544-5787-4f83-af46-96eaae516635",
        "colab": {
          "base_uri": "https://localhost:8080/"
        }
      },
      "source": [
        "# Getting our heading content\n",
        "# ---\n",
        "# This is our tag:\n",
        "# <h1 class=\"mvp-post-title left entry-title\" itemprop=\"headline\">\n",
        "# ---\n",
        "#\n",
        "article_heading = soup.find('h1', {'class': 'mvp-post-title left entry-title'}).get_text()\n",
        "article_heading"
      ],
      "execution_count": null,
      "outputs": [
        {
          "output_type": "execute_result",
          "data": {
            "application/vnd.google.colaboratory.intrinsic+json": {
              "type": "string"
            },
            "text/plain": [
              "'Danbatta inaugurates Evaluation Committee for 2020 research proposals'"
            ]
          },
          "metadata": {
            "tags": []
          },
          "execution_count": 33
        }
      ]
    },
    {
      "cell_type": "code",
      "metadata": {
        "id": "hM-mdLc1_l9f",
        "outputId": "b5708474-807e-4710-b048-be349860704f",
        "colab": {
          "base_uri": "https://localhost:8080/"
        }
      },
      "source": [
        "# Getting our article content\n",
        "# ---\n",
        "# Target tags: \n",
        "# All <p> tags contained in <div id=\"mvp-content-main\">\n",
        "# ---\n",
        "#\n",
        "article = soup.find('div', {'id': 'mvp-content-main'})\n",
        "article"
      ],
      "execution_count": null,
      "outputs": [
        {
          "output_type": "execute_result",
          "data": {
            "text/plain": [
              "<div class=\"left relative\" id=\"mvp-content-main\">\n",
              "<div class=\"code-block code-block-center code-block-5\">\n",
              "<div align=\"center\">\n",
              "<amp-ad class=\"i-amphtml-layout-fixed i-amphtml-layout-size-defined\" data-multi-size=\"300x250,320x100,320x50,300x100,300x50\" data-multi-size-validation=\"false\" data-slot=\"/14001636/DP_Leaderboard_1\" height=\"250\" i-amphtml-layout=\"fixed\" id=\"i-amp-1\" style=\"width:320px;height:250px;\" type=\"doubleclick\" width=\"320\">\n",
              "</amp-ad>\n",
              "</div></div>\n",
              "<div class=\"code-block code-block-center code-block-4\">\n",
              "<div align=\"center\">\n",
              "<!-- AMP AdSlot 1 for Ad Unit 'DP_Leaderboard_1' ### Size: 728x90,320x50,320x100 -->\n",
              "<amp-ad class=\"i-amphtml-layout-fixed i-amphtml-layout-size-defined\" data-slot=\"/14001636/DP_Leaderboard_1\" height=\"90\" i-amphtml-layout=\"fixed\" id=\"amp-aslot-1\" style=\"width:728px;height:90px;\" type=\"doubleclick\" width=\"728\">\n",
              "</amp-ad>\n",
              "</div>\n",
              "<!-- End --></div>\n",
              "<p>The Executive Vice Chairman and Chief Executive of the Nigerian Communications Commission, Prof. Umar Garba Danbatta, has inaugurated a 15-member Evaluation Committee for the assessment of the 2020 Telecommunications based research from Academics in the Nigerian tertiary institutions.</p>\n",
              "<p>The Committee, chaired by Prof. Mu’azu Bashir, a Professor of Computer and Control Engineering and Head of Computer Engineering Department at Ahmadu Bello University, Zaria was inaugurated at the Commission’s Head Office in Abuja on Wednesday, September 24, 2020.</p>\n",
              "<div class=\"code-block code-block-center code-block-2\">\n",
              "<div align=\"center\">\n",
              "<amp-ad class=\"i-amphtml-layout-fixed i-amphtml-layout-size-defined\" data-multi-size=\"300x250,320x50,320x100,300x100,300x50\" data-multi-size-validation=\"false\" data-slot=\"/14001636/DP_InsidePost_MPU_1\" height=\"250\" i-amphtml-layout=\"fixed\" id=\"i-amp-2\" style=\"width:320px;height:250px;\" type=\"doubleclick\" width=\"320\">\n",
              "</amp-ad>\n",
              "</div></div>\n",
              "<p>Speaking during the inauguration, Danbatta said that the initiative speaks to the Commission’s commitment towards encouraging the development of indigenous innovative solutions that impact not only the Telecom industry/ICT sector positively but also the nation as a whole.</p>\n",
              "<p>“We want to continuously support research projects that can lead to the development of new products and services in the industry as the key enabler of the nation’s digital economy. We are all aware of the appreciable contributions of the Nigerian Telecommunication sector to the growth of our Gross Domestic Product (GDP) over the years, which peaked at 14.53 per cent in second quarter of 2020,” he said.</p>\n",
              "<div class=\"code-block code-block-center code-block-2\">\n",
              "<div align=\"center\">\n",
              "<amp-ad class=\"i-amphtml-layout-fixed i-amphtml-layout-size-defined\" data-multi-size=\"300x250,320x50,320x100,300x100,300x50\" data-multi-size-validation=\"false\" data-slot=\"/14001636/DP_InsidePost_MPU_1\" height=\"250\" i-amphtml-layout=\"fixed\" id=\"i-amp-3\" style=\"width:320px;height:250px;\" type=\"doubleclick\" width=\"320\">\n",
              "</amp-ad>\n",
              "</div></div>\n",
              "<p>Danbatta stated that the commission understands that funding Research and Development (R&amp;D) is fundamental to ensuring that the needs of consumers are properly anticipated and met while enabling sustainable economic growth, adding that the Digital Economy-based Research Innovations project underlines the importance of funding R&amp;D.</p>\n",
              "<p>According to the EVC, for the year 2020, the request for proposals was tailored to providing innovations and solving challenges in five emerging areas of technology. These include innovative clean energy technology; 5G deployment in Nigeria; Internet of Things (IoT), low power Wide Area Network (WAN) technology; advanced methods of Quality of Service (QoS) and Quality of Experience (QoE) management and test mechanism as well as monitoring and localisation of drones.</p>\n",
              "<div class=\"amp-wp-a48e09f\" data-amp-original-style=\"clear:both; margin-top:0em; margin-bottom:1em;\"><a class=\"uea5bd2c66dfe54fb5525a150680d734b\" href=\"https://dailypost.ng/2020/09/30/nigerias-covid-19-cases-hit-58647/\" target=\"_self\"><!-- INLINE RELATED POSTS 1/1 //--><div class=\"amp-wp-6212941\" data-amp-original-style=\"padding-left:1em; padding-right:1em;\"><span class=\"ctaText\">NEWS:</span>  <span class=\"postTitle\">Nigeria’s COVID-19 cases hit 58,647</span></div></a></div><div class=\"code-block code-block-center code-block-2\">\n",
              "<div align=\"center\">\n",
              "<amp-ad class=\"i-amphtml-layout-fixed i-amphtml-layout-size-defined\" data-multi-size=\"300x250,320x50,320x100,300x100,300x50\" data-multi-size-validation=\"false\" data-slot=\"/14001636/DP_InsidePost_MPU_1\" height=\"250\" i-amphtml-layout=\"fixed\" id=\"i-amp-4\" style=\"width:320px;height:250px;\" type=\"doubleclick\" width=\"320\">\n",
              "</amp-ad>\n",
              "</div></div>\n",
              "<p>While emphasising the importance of the telecommunication/ICT industry to innovative developments and transformations within the economy, Danbatta tasked members of the Committee to thoroughly evaluate all submissions in order to sieve, identify and select the best from the proposals submitted.</p>\n",
              "<p>“Members of this Committee have been carefully selected from the Academia, related government institutions and the industry based on their pedigree. I have no doubt in my mind that you will carry out the assignment to the highest acceptable standards,” the EVC said.</p>\n",
              "<div class=\"code-block code-block-center code-block-2\">\n",
              "<div align=\"center\">\n",
              "<amp-ad class=\"i-amphtml-layout-fixed i-amphtml-layout-size-defined\" data-multi-size=\"300x250,320x50,320x100,300x100,300x50\" data-multi-size-validation=\"false\" data-slot=\"/14001636/DP_InsidePost_MPU_1\" height=\"250\" i-amphtml-layout=\"fixed\" id=\"i-amp-5\" style=\"width:320px;height:250px;\" type=\"doubleclick\" width=\"320\">\n",
              "</amp-ad>\n",
              "</div></div>\n",
              "<p>The Committee is expected to carry out the assignment and submit its report within four (4) weeks from the day of inauguration.</p>\n",
              "<nav class=\"jp-relatedposts-i2\" data-layout=\"list\"><div class=\"jp-related-posts-i2__row\" data-post-count=\"3\"><ul aria-labelledby=\"related-posts-item-5f74eff4265dc-label\" class=\"jp-related-posts-i2__post\" id=\"related-posts-item-5f74eff4265dc\" role=\"menuitem\"><li class=\"jp-related-posts-i2__post-link\"><a href=\"https://dailypost.ng/2020/03/12/senate-hails-nccs-achievements-in-service-delivery-bridging-access-gaps/\" id=\"related-posts-item-5f74eff4265dc-label\">Senate hails NCC's achievements in service delivery, bridging access gaps</a></li></ul><ul aria-labelledby=\"related-posts-item-5f74eff4265fd-label\" class=\"jp-related-posts-i2__post\" id=\"related-posts-item-5f74eff4265fd\" role=\"menuitem\"><li class=\"jp-related-posts-i2__post-link\"><a href=\"https://dailypost.ng/2020/07/22/senate-confirms-dambattas-appointment-as-ncc-evc-ceo/\" id=\"related-posts-item-5f74eff4265fd-label\">Senate confirms Danbatta's appointment as NCC EVC/CEO</a></li></ul><ul aria-labelledby=\"related-posts-item-5f74eff426616-label\" class=\"jp-related-posts-i2__post\" id=\"related-posts-item-5f74eff426616\" role=\"menuitem\"><li class=\"jp-related-posts-i2__post-link\"><a href=\"https://dailypost.ng/2020/07/08/new-department-emerges-at-ncc/\" id=\"related-posts-item-5f74eff426616-label\">New department emerges at NCC</a></li></ul></div><div class=\"jp-related-posts-i2__row\" data-post-count=\"3\"><ul aria-labelledby=\"related-posts-item-5f74eff42662f-label\" class=\"jp-related-posts-i2__post\" id=\"related-posts-item-5f74eff42662f\" role=\"menuitem\"><li class=\"jp-related-posts-i2__post-link\"><a href=\"https://dailypost.ng/2020/08/28/covid-19-virtual-hackathon-ncc-set-to-award-n9m-research-grant-to-startups/\" id=\"related-posts-item-5f74eff42662f-label\">COVID-19 virtual hackathon: NCC set to award N9m research grant to startups</a></li></ul><ul aria-labelledby=\"related-posts-item-5f74eff426645-label\" class=\"jp-related-posts-i2__post\" id=\"related-posts-item-5f74eff426645\" role=\"menuitem\"><li class=\"jp-related-posts-i2__post-link\"><a href=\"https://dailypost.ng/2020/08/02/danbatta-others-pour-encomiums-as-sonny-aragba-akpore-bows-out-of-ncc/\" id=\"related-posts-item-5f74eff426645-label\">Danbatta, others pour encomiums as Sonny Aragba-Akpore bows out of NCC</a></li></ul><ul aria-labelledby=\"related-posts-item-5f74eff42665c-label\" class=\"jp-related-posts-i2__post\" id=\"related-posts-item-5f74eff42665c\" role=\"menuitem\"><li class=\"jp-related-posts-i2__post-link\"><a href=\"https://dailypost.ng/2020/08/19/ncc-boss-danbatta-receives-distinguished-award-from-atcon/\" id=\"related-posts-item-5f74eff42665c-label\">NCC boss, Danbatta receives Distinguished Award from ATCON</a></li></ul></div></nav><div class=\"code-block code-block-center code-block-14\">\n",
              "<div>\n",
              "<amp-social-share class=\"i-amphtml-layout-fixed i-amphtml-layout-size-defined\" data-param-app_id=\"181005951975036\" i-amphtml-layout=\"fixed\" style=\"width:60px;height:44px;\" type=\"facebook\"></amp-social-share>\n",
              "<amp-social-share class=\"i-amphtml-layout-fixed i-amphtml-layout-size-defined\" i-amphtml-layout=\"fixed\" style=\"width:60px;height:44px;\" type=\"twitter\"></amp-social-share>\n",
              "<amp-social-share class=\"i-amphtml-layout-fixed i-amphtml-layout-size-defined\" i-amphtml-layout=\"fixed\" style=\"width:60px;height:44px;\" type=\"whatsapp\"></amp-social-share>\n",
              "<amp-social-share class=\"i-amphtml-layout-fixed i-amphtml-layout-size-defined\" i-amphtml-layout=\"fixed\" style=\"width:60px;height:44px;\" type=\"email\"></amp-social-share>\n",
              "</div></div>\n",
              "<!-- AI CONTENT END 1 -->\n",
              "</div>"
            ]
          },
          "metadata": {
            "tags": []
          },
          "execution_count": 34
        }
      ]
    },
    {
      "cell_type": "code",
      "metadata": {
        "id": "e0ue57km-xvW",
        "outputId": "eebedfc1-787e-428f-ac1c-79a841821c56",
        "colab": {
          "base_uri": "https://localhost:8080/"
        }
      },
      "source": [
        "# Lets find all the p tags that contain the article text \n",
        "# ---\n",
        "#\n",
        "p_tags = article.find_all('p')\n",
        "\n",
        "# We then strip all the surrounding whitespace.\n",
        "# ---\n",
        "#\n",
        "p_tags_text = [tag.get_text().strip() for tag in p_tags]\n",
        "p_tags_text"
      ],
      "execution_count": null,
      "outputs": [
        {
          "output_type": "execute_result",
          "data": {
            "text/plain": [
              "['The Executive Vice Chairman and Chief Executive of the Nigerian Communications Commission, Prof. Umar Garba Danbatta, has inaugurated a 15-member Evaluation Committee for the assessment of the 2020 Telecommunications based research from Academics in the Nigerian tertiary institutions.',\n",
              " 'The Committee, chaired by Prof. Mu’azu Bashir, a Professor of Computer and Control Engineering and Head of Computer Engineering Department at Ahmadu Bello University, Zaria was inaugurated at the Commission’s Head Office in Abuja on Wednesday, September 24, 2020.',\n",
              " 'Speaking during the inauguration, Danbatta said that the initiative speaks to the Commission’s commitment towards encouraging the development of indigenous innovative solutions that impact not only the Telecom industry/ICT sector positively but also the nation as a whole.',\n",
              " '“We want to continuously support research projects that can lead to the development of new products and services in the industry as the key enabler of the nation’s digital economy. We are all aware of the appreciable contributions of the Nigerian Telecommunication sector to the growth of our Gross Domestic Product (GDP) over the years, which peaked at 14.53 per cent in second quarter of 2020,” he said.',\n",
              " 'Danbatta stated that the commission understands that funding Research and Development (R&D) is fundamental to ensuring that the needs of consumers are properly anticipated and met while enabling sustainable economic growth, adding that the Digital Economy-based Research Innovations project underlines the importance of funding R&D.',\n",
              " 'According to the EVC, for the year 2020, the request for proposals was tailored to providing innovations and solving challenges in five emerging areas of technology. These include innovative clean energy technology; 5G deployment in Nigeria; Internet of Things (IoT), low power Wide Area Network (WAN) technology; advanced methods of Quality of Service (QoS) and Quality of Experience (QoE) management and test mechanism as well as monitoring and localisation of drones.',\n",
              " 'While emphasising the importance of the telecommunication/ICT industry to innovative developments and transformations within the economy, Danbatta tasked members of the Committee to thoroughly evaluate all submissions in order to sieve, identify and select the best from the proposals submitted.',\n",
              " '“Members of this Committee have been carefully selected from the Academia, related government institutions and the industry based on their pedigree. I have no doubt in my mind that you will carry out the assignment to the highest acceptable standards,” the EVC said.',\n",
              " 'The Committee is expected to carry out the assignment and submit its report within four (4) weeks from the day of inauguration.']"
            ]
          },
          "metadata": {
            "tags": []
          },
          "execution_count": 35
        }
      ]
    },
    {
      "cell_type": "markdown",
      "metadata": {
        "id": "JtvwuY7fkpvu"
      },
      "source": [
        "#### Step 4: Saving our Data"
      ]
    },
    {
      "cell_type": "code",
      "metadata": {
        "id": "EYL_x-8DLobP",
        "outputId": "7e31f4a1-4f8e-48d8-b4f3-dbfa165caa11",
        "colab": {
          "base_uri": "https://localhost:8080/",
          "height": 171
        }
      },
      "source": [
        "# Combine list items into string.\n",
        "article = ' '.join(p_tags_text)\n",
        "article"
      ],
      "execution_count": null,
      "outputs": [
        {
          "output_type": "execute_result",
          "data": {
            "application/vnd.google.colaboratory.intrinsic+json": {
              "type": "string"
            },
            "text/plain": [
              "'The Executive Vice Chairman and Chief Executive of the Nigerian Communications Commission, Prof. Umar Garba Danbatta, has inaugurated a 15-member Evaluation Committee for the assessment of the 2020 Telecommunications based research from Academics in the Nigerian tertiary institutions. The Committee, chaired by Prof. Mu’azu Bashir, a Professor of Computer and Control Engineering and Head of Computer Engineering Department at Ahmadu Bello University, Zaria was inaugurated at the Commission’s Head Office in Abuja on Wednesday, September 24, 2020. Speaking during the inauguration, Danbatta said that the initiative speaks to the Commission’s commitment towards encouraging the development of indigenous innovative solutions that impact not only the Telecom industry/ICT sector positively but also the nation as a whole. “We want to continuously support research projects that can lead to the development of new products and services in the industry as the key enabler of the nation’s digital economy. We are all aware of the appreciable contributions of the Nigerian Telecommunication sector to the growth of our Gross Domestic Product (GDP) over the years, which peaked at 14.53 per cent in second quarter of 2020,” he said. Danbatta stated that the commission understands that funding Research and Development (R&D) is fundamental to ensuring that the needs of consumers are properly anticipated and met while enabling sustainable economic growth, adding that the Digital Economy-based Research Innovations project underlines the importance of funding R&D. According to the EVC, for the year 2020, the request for proposals was tailored to providing innovations and solving challenges in five emerging areas of technology. These include innovative clean energy technology; 5G deployment in Nigeria; Internet of Things (IoT), low power Wide Area Network (WAN) technology; advanced methods of Quality of Service (QoS) and Quality of Experience (QoE) management and test mechanism as well as monitoring and localisation of drones. While emphasising the importance of the telecommunication/ICT industry to innovative developments and transformations within the economy, Danbatta tasked members of the Committee to thoroughly evaluate all submissions in order to sieve, identify and select the best from the proposals submitted. “Members of this Committee have been carefully selected from the Academia, related government institutions and the industry based on their pedigree. I have no doubt in my mind that you will carry out the assignment to the highest acceptable standards,” the EVC said. The Committee is expected to carry out the assignment and submit its report within four (4) weeks from the day of inauguration.'"
            ]
          },
          "metadata": {
            "tags": []
          },
          "execution_count": 36
        }
      ]
    },
    {
      "cell_type": "markdown",
      "metadata": {
        "id": "vp29Fixd1QKO"
      },
      "source": [
        "## <font color='#2F4F4F'>Challenges</font>"
      ]
    },
    {
      "cell_type": "markdown",
      "metadata": {
        "id": "GEGKK7vs1bGg"
      },
      "source": [
        "### <font color=\"green\">Challenge 1</font>"
      ]
    },
    {
      "cell_type": "code",
      "metadata": {
        "id": "PYMstcSrUPOc"
      },
      "source": [
        "# Challenge 1\n",
        "# ---\n",
        "# Write a Python program to extract h2 tags content from the Y Combinator website.\n",
        "# --- \n",
        "# Website URL = https://www.ycombinator.com/about/\n",
        "# ---\n",
        "# YOUR CODE GOES BELOW\n",
        "# "
      ],
      "execution_count": null,
      "outputs": []
    },
    {
      "cell_type": "code",
      "metadata": {
        "id": "ftGnyK8TnX8z",
        "outputId": "61840cb8-837a-44e5-a5fd-067df45e9c97",
        "colab": {
          "base_uri": "https://localhost:8080/",
          "height": 204
        }
      },
      "source": [
        "# Solution\n",
        "# ---\n",
        "\n",
        "# 1. Obtaining our Data\n",
        "# ---\n",
        "#\n",
        "page = requests.get('https://www.ycombinator.com/about/') \n",
        "\n",
        "# 2. Parsing\n",
        "# ---\n",
        "#\n",
        "soup = BeautifulSoup(page.text, \"html.parser\")\n",
        "\n",
        "# 3. Extracting Required Elements\n",
        "# ---\n",
        "#\n",
        "results = soup.find_all('h2') \n",
        "h2_content = [] \n",
        "for result in results:\n",
        "    text = result.get_text()\n",
        "    h2_content.append(text)\n",
        "\n",
        "# 4. Saving our Data\n",
        "# ---\n",
        "#\n",
        "df = pd.DataFrame({\"h2_content\": h2_content})\n",
        "df.head()"
      ],
      "execution_count": null,
      "outputs": [
        {
          "output_type": "execute_result",
          "data": {
            "text/html": [
              "<div>\n",
              "<style scoped>\n",
              "    .dataframe tbody tr th:only-of-type {\n",
              "        vertical-align: middle;\n",
              "    }\n",
              "\n",
              "    .dataframe tbody tr th {\n",
              "        vertical-align: top;\n",
              "    }\n",
              "\n",
              "    .dataframe thead th {\n",
              "        text-align: right;\n",
              "    }\n",
              "</style>\n",
              "<table border=\"1\" class=\"dataframe\">\n",
              "  <thead>\n",
              "    <tr style=\"text-align: right;\">\n",
              "      <th></th>\n",
              "      <th>h2_content</th>\n",
              "    </tr>\n",
              "  </thead>\n",
              "  <tbody>\n",
              "    <tr>\n",
              "      <th>0</th>\n",
              "      <td>Y Combinator provides seed funding for startup...</td>\n",
              "    </tr>\n",
              "    <tr>\n",
              "      <th>1</th>\n",
              "      <td>We make small investments in return for small ...</td>\n",
              "    </tr>\n",
              "    <tr>\n",
              "      <th>2</th>\n",
              "      <td>Twice a year, we invest a small amount of mone...</td>\n",
              "    </tr>\n",
              "    <tr>\n",
              "      <th>3</th>\n",
              "      <td>We think founders are most productive when the...</td>\n",
              "    </tr>\n",
              "    <tr>\n",
              "      <th>4</th>\n",
              "      <td>Hacker News</td>\n",
              "    </tr>\n",
              "  </tbody>\n",
              "</table>\n",
              "</div>"
            ],
            "text/plain": [
              "                                          h2_content\n",
              "0  Y Combinator provides seed funding for startup...\n",
              "1  We make small investments in return for small ...\n",
              "2  Twice a year, we invest a small amount of mone...\n",
              "3  We think founders are most productive when the...\n",
              "4                                        Hacker News"
            ]
          },
          "metadata": {
            "tags": []
          },
          "execution_count": 37
        }
      ]
    },
    {
      "cell_type": "markdown",
      "metadata": {
        "id": "1NqEBbTU1h3Z"
      },
      "source": [
        "### <font color=\"green\">Challenge 2</font>"
      ]
    },
    {
      "cell_type": "code",
      "metadata": {
        "id": "5V04MM1XS3C-"
      },
      "source": [
        "# Challenge 2\n",
        "# ---\n",
        "# Write a Python program that will get the first 10 products (not sponsored) on the following e-commerce website.\n",
        "# Return product title and price (USD).\n",
        "# ---\n",
        "# Hint: Retrieve data from the attributes.\n",
        "# --- \n",
        "# Website URL = https://www.jumia.co.ke/space-heaters-accessories/\n",
        "# ---\n",
        "# YOUR CODE GOES BELOW\n",
        "# "
      ],
      "execution_count": null,
      "outputs": []
    },
    {
      "cell_type": "code",
      "metadata": {
        "id": "zmlBu2Jun5uH",
        "outputId": "2b6111c5-c427-4fa1-fa0c-903357d0b713",
        "colab": {
          "base_uri": "https://localhost:8080/",
          "height": 363
        }
      },
      "source": [
        "# Solution\n",
        "# ---\n",
        "# \n",
        "\n",
        "# 1. Obtaining our Data\n",
        "# ---\n",
        "#\n",
        "page = requests.get('https://www.jumia.co.ke/space-heaters-accessories/') \n",
        "\n",
        "# 2. Parsing\n",
        "# ---\n",
        "#\n",
        "soup = BeautifulSoup(page.text, \"html.parser\")\n",
        "\n",
        "# 3. Extracting Required Elements\n",
        "# ---\n",
        "# \n",
        "results = soup.find_all('a', {'class': 'core'}) \n",
        "\n",
        "# We don't need the last 8 elements\n",
        "results = results[:-8]\n",
        "\n",
        "product_title = []\n",
        "product_price = []\n",
        "\n",
        "# We the loop through these tags\n",
        "for result in results:\n",
        "    title = result.get('data-name') \n",
        "    price = result.get('data-price')\n",
        " \n",
        "    product_title.append(title) \n",
        "    product_price.append(price) \n",
        "\n",
        "# 4. Saving our Data\n",
        "# ---\n",
        "#\n",
        "product_df = pd.DataFrame({\"product_title\": product_title, \"product_price\": product_price})\n",
        "product_df.sample(10)"
      ],
      "execution_count": null,
      "outputs": [
        {
          "output_type": "execute_result",
          "data": {
            "text/html": [
              "\n",
              "  <div id=\"df-931f8e3f-c616-46a7-9e3e-81dc826e9a11\">\n",
              "    <div class=\"colab-df-container\">\n",
              "      <div>\n",
              "<style scoped>\n",
              "    .dataframe tbody tr th:only-of-type {\n",
              "        vertical-align: middle;\n",
              "    }\n",
              "\n",
              "    .dataframe tbody tr th {\n",
              "        vertical-align: top;\n",
              "    }\n",
              "\n",
              "    .dataframe thead th {\n",
              "        text-align: right;\n",
              "    }\n",
              "</style>\n",
              "<table border=\"1\" class=\"dataframe\">\n",
              "  <thead>\n",
              "    <tr style=\"text-align: right;\">\n",
              "      <th></th>\n",
              "      <th>product_title</th>\n",
              "      <th>product_price</th>\n",
              "    </tr>\n",
              "  </thead>\n",
              "  <tbody>\n",
              "    <tr>\n",
              "      <th>22</th>\n",
              "      <td>Quartz Portable Electric Room Heater</td>\n",
              "      <td>17.90</td>\n",
              "    </tr>\n",
              "    <tr>\n",
              "      <th>15</th>\n",
              "      <td>Halogen Room Heater With Two Heating Settings ...</td>\n",
              "      <td>28.92</td>\n",
              "    </tr>\n",
              "    <tr>\n",
              "      <th>30</th>\n",
              "      <td>Oil Readiator 1000W With 5 Fins</td>\n",
              "      <td>66.46</td>\n",
              "    </tr>\n",
              "    <tr>\n",
              "      <th>29</th>\n",
              "      <td>Room Heater</td>\n",
              "      <td>17.20</td>\n",
              "    </tr>\n",
              "    <tr>\n",
              "      <th>2</th>\n",
              "      <td>Halogen Room Quartz Heater</td>\n",
              "      <td>27.36</td>\n",
              "    </tr>\n",
              "    <tr>\n",
              "      <th>31</th>\n",
              "      <td>5 Fins Oil Filled Room Heater</td>\n",
              "      <td>70.37</td>\n",
              "    </tr>\n",
              "    <tr>\n",
              "      <th>9</th>\n",
              "      <td>Halogen Portable Electric Room Heater</td>\n",
              "      <td>17.36</td>\n",
              "    </tr>\n",
              "    <tr>\n",
              "      <th>16</th>\n",
              "      <td>Portable Hot/ Warm/ Electric Room Heater Warme...</td>\n",
              "      <td>23.45</td>\n",
              "    </tr>\n",
              "    <tr>\n",
              "      <th>1</th>\n",
              "      <td>Quartz Portable Electric Room Heater</td>\n",
              "      <td>14.26</td>\n",
              "    </tr>\n",
              "    <tr>\n",
              "      <th>32</th>\n",
              "      <td>Room Fan Heater- White</td>\n",
              "      <td>19.51</td>\n",
              "    </tr>\n",
              "  </tbody>\n",
              "</table>\n",
              "</div>\n",
              "      <button class=\"colab-df-convert\" onclick=\"convertToInteractive('df-931f8e3f-c616-46a7-9e3e-81dc826e9a11')\"\n",
              "              title=\"Convert this dataframe to an interactive table.\"\n",
              "              style=\"display:none;\">\n",
              "        \n",
              "  <svg xmlns=\"http://www.w3.org/2000/svg\" height=\"24px\"viewBox=\"0 0 24 24\"\n",
              "       width=\"24px\">\n",
              "    <path d=\"M0 0h24v24H0V0z\" fill=\"none\"/>\n",
              "    <path d=\"M18.56 5.44l.94 2.06.94-2.06 2.06-.94-2.06-.94-.94-2.06-.94 2.06-2.06.94zm-11 1L8.5 8.5l.94-2.06 2.06-.94-2.06-.94L8.5 2.5l-.94 2.06-2.06.94zm10 10l.94 2.06.94-2.06 2.06-.94-2.06-.94-.94-2.06-.94 2.06-2.06.94z\"/><path d=\"M17.41 7.96l-1.37-1.37c-.4-.4-.92-.59-1.43-.59-.52 0-1.04.2-1.43.59L10.3 9.45l-7.72 7.72c-.78.78-.78 2.05 0 2.83L4 21.41c.39.39.9.59 1.41.59.51 0 1.02-.2 1.41-.59l7.78-7.78 2.81-2.81c.8-.78.8-2.07 0-2.86zM5.41 20L4 18.59l7.72-7.72 1.47 1.35L5.41 20z\"/>\n",
              "  </svg>\n",
              "      </button>\n",
              "      \n",
              "  <style>\n",
              "    .colab-df-container {\n",
              "      display:flex;\n",
              "      flex-wrap:wrap;\n",
              "      gap: 12px;\n",
              "    }\n",
              "\n",
              "    .colab-df-convert {\n",
              "      background-color: #E8F0FE;\n",
              "      border: none;\n",
              "      border-radius: 50%;\n",
              "      cursor: pointer;\n",
              "      display: none;\n",
              "      fill: #1967D2;\n",
              "      height: 32px;\n",
              "      padding: 0 0 0 0;\n",
              "      width: 32px;\n",
              "    }\n",
              "\n",
              "    .colab-df-convert:hover {\n",
              "      background-color: #E2EBFA;\n",
              "      box-shadow: 0px 1px 2px rgba(60, 64, 67, 0.3), 0px 1px 3px 1px rgba(60, 64, 67, 0.15);\n",
              "      fill: #174EA6;\n",
              "    }\n",
              "\n",
              "    [theme=dark] .colab-df-convert {\n",
              "      background-color: #3B4455;\n",
              "      fill: #D2E3FC;\n",
              "    }\n",
              "\n",
              "    [theme=dark] .colab-df-convert:hover {\n",
              "      background-color: #434B5C;\n",
              "      box-shadow: 0px 1px 3px 1px rgba(0, 0, 0, 0.15);\n",
              "      filter: drop-shadow(0px 1px 2px rgba(0, 0, 0, 0.3));\n",
              "      fill: #FFFFFF;\n",
              "    }\n",
              "  </style>\n",
              "\n",
              "      <script>\n",
              "        const buttonEl =\n",
              "          document.querySelector('#df-931f8e3f-c616-46a7-9e3e-81dc826e9a11 button.colab-df-convert');\n",
              "        buttonEl.style.display =\n",
              "          google.colab.kernel.accessAllowed ? 'block' : 'none';\n",
              "\n",
              "        async function convertToInteractive(key) {\n",
              "          const element = document.querySelector('#df-931f8e3f-c616-46a7-9e3e-81dc826e9a11');\n",
              "          const dataTable =\n",
              "            await google.colab.kernel.invokeFunction('convertToInteractive',\n",
              "                                                     [key], {});\n",
              "          if (!dataTable) return;\n",
              "\n",
              "          const docLinkHtml = 'Like what you see? Visit the ' +\n",
              "            '<a target=\"_blank\" href=https://colab.research.google.com/notebooks/data_table.ipynb>data table notebook</a>'\n",
              "            + ' to learn more about interactive tables.';\n",
              "          element.innerHTML = '';\n",
              "          dataTable['output_type'] = 'display_data';\n",
              "          await google.colab.output.renderOutput(dataTable, element);\n",
              "          const docLink = document.createElement('div');\n",
              "          docLink.innerHTML = docLinkHtml;\n",
              "          element.appendChild(docLink);\n",
              "        }\n",
              "      </script>\n",
              "    </div>\n",
              "  </div>\n",
              "  "
            ],
            "text/plain": [
              "                                        product_title product_price\n",
              "22               Quartz Portable Electric Room Heater         17.90\n",
              "15  Halogen Room Heater With Two Heating Settings ...         28.92\n",
              "30                    Oil Readiator 1000W With 5 Fins         66.46\n",
              "29                                        Room Heater         17.20\n",
              "2                          Halogen Room Quartz Heater         27.36\n",
              "31                      5 Fins Oil Filled Room Heater         70.37\n",
              "9               Halogen Portable Electric Room Heater         17.36\n",
              "16  Portable Hot/ Warm/ Electric Room Heater Warme...         23.45\n",
              "1                Quartz Portable Electric Room Heater         14.26\n",
              "32                             Room Fan Heater- White         19.51"
            ]
          },
          "metadata": {},
          "execution_count": 3
        }
      ]
    },
    {
      "cell_type": "markdown",
      "metadata": {
        "id": "CZR_SI46Q0Nn"
      },
      "source": [
        "### <font color=\"green\">Challenge 3</font>"
      ]
    },
    {
      "cell_type": "code",
      "metadata": {
        "id": "fubamueeTC6Z"
      },
      "source": [
        "# Challenge 3\n",
        "# ---\n",
        "# Scrape for quotes and author from the given URL then store your data in a pandas dataframe.\n",
        "# --- \n",
        "# Website URL = http://quotes.toscrape.com/\n",
        "# ---\n",
        "# YOUR CODE GOES BELOW\n",
        "# "
      ],
      "execution_count": null,
      "outputs": []
    },
    {
      "cell_type": "code",
      "metadata": {
        "id": "r7gJoFlmn73-",
        "outputId": "87c99cc1-d226-41c4-a861-80022acf10b9",
        "colab": {
          "base_uri": "https://localhost:8080/"
        }
      },
      "source": [
        "# Solution\n",
        "# ---\n",
        "# \n",
        "\n",
        "# 1. Obtaining our Data\n",
        "# ---\n",
        "#\n",
        "page = requests.get('http://quotes.toscrape.com/') \n",
        "\n",
        "# 2. Parsing\n",
        "# ---\n",
        "#\n",
        "soup = BeautifulSoup(page.text, \"html.parser\")\n",
        "\n",
        "# 3. Extracting Required Elements\n",
        "# ---\n",
        "# \n",
        "quote_results   = soup.find_all('span', {'itemprop': 'text'}) \n",
        "quotes = []\n",
        "for result in quote_results:\n",
        "    quote       = result.get_text()\n",
        "    quotes.append(quote) \n",
        "\n",
        "authors_results = soup.find_all('small', {'itemprop': 'author'}) \n",
        "authors = []\n",
        "for result in authors_results:\n",
        "    author      = result.get_text() \n",
        "    authors.append(author) \n",
        "\n",
        "# 4. Saving our Data\n",
        "# ---\n",
        "#\n",
        "quotes_df = pd.DataFrame({\"quote\": quotes, \"author\": authors})\n",
        "quotes_df.head()"
      ],
      "execution_count": null,
      "outputs": [
        {
          "output_type": "execute_result",
          "data": {
            "text/html": [
              "<div>\n",
              "<style scoped>\n",
              "    .dataframe tbody tr th:only-of-type {\n",
              "        vertical-align: middle;\n",
              "    }\n",
              "\n",
              "    .dataframe tbody tr th {\n",
              "        vertical-align: top;\n",
              "    }\n",
              "\n",
              "    .dataframe thead th {\n",
              "        text-align: right;\n",
              "    }\n",
              "</style>\n",
              "<table border=\"1\" class=\"dataframe\">\n",
              "  <thead>\n",
              "    <tr style=\"text-align: right;\">\n",
              "      <th></th>\n",
              "      <th>quote</th>\n",
              "      <th>author</th>\n",
              "    </tr>\n",
              "  </thead>\n",
              "  <tbody>\n",
              "    <tr>\n",
              "      <th>0</th>\n",
              "      <td>“The world as we have created it is a process ...</td>\n",
              "      <td>Albert Einstein</td>\n",
              "    </tr>\n",
              "    <tr>\n",
              "      <th>1</th>\n",
              "      <td>“It is our choices, Harry, that show what we t...</td>\n",
              "      <td>J.K. Rowling</td>\n",
              "    </tr>\n",
              "    <tr>\n",
              "      <th>2</th>\n",
              "      <td>“There are only two ways to live your life. On...</td>\n",
              "      <td>Albert Einstein</td>\n",
              "    </tr>\n",
              "    <tr>\n",
              "      <th>3</th>\n",
              "      <td>“The person, be it gentleman or lady, who has ...</td>\n",
              "      <td>Jane Austen</td>\n",
              "    </tr>\n",
              "    <tr>\n",
              "      <th>4</th>\n",
              "      <td>“Imperfection is beauty, madness is genius and...</td>\n",
              "      <td>Marilyn Monroe</td>\n",
              "    </tr>\n",
              "  </tbody>\n",
              "</table>\n",
              "</div>"
            ],
            "text/plain": [
              "                                               quote           author\n",
              "0  “The world as we have created it is a process ...  Albert Einstein\n",
              "1  “It is our choices, Harry, that show what we t...     J.K. Rowling\n",
              "2  “There are only two ways to live your life. On...  Albert Einstein\n",
              "3  “The person, be it gentleman or lady, who has ...      Jane Austen\n",
              "4  “Imperfection is beauty, madness is genius and...   Marilyn Monroe"
            ]
          },
          "metadata": {
            "tags": []
          },
          "execution_count": 41
        }
      ]
    },
    {
      "cell_type": "markdown",
      "metadata": {
        "id": "Isv438m1X7g5"
      },
      "source": [
        "### <font color=\"green\">Challenge 4</font>"
      ]
    },
    {
      "cell_type": "code",
      "metadata": {
        "id": "WoEJFhFxVYuf"
      },
      "source": [
        "# Challenge 4\n",
        "# ---\n",
        "# Write a Python program to download IMDB's Popular 100 movie data. \n",
        "# Return (movie name, release year and imdb rating).\n",
        "# --- \n",
        "# Website URL = https://www.imdb.com/chart/moviemeter\n",
        "# ---\n",
        "# YOUR CODE GOES BELOW\n",
        "# "
      ],
      "execution_count": null,
      "outputs": []
    },
    {
      "cell_type": "code",
      "metadata": {
        "id": "womH8KOjn9Zt",
        "outputId": "c0014641-6cec-46d5-943e-7174a8e83438",
        "colab": {
          "base_uri": "https://localhost:8080/"
        }
      },
      "source": [
        "# Solution\n",
        "# ---\n",
        "# \n",
        "\n",
        "# 1. Obtaining our Data\n",
        "# ---\n",
        "#\n",
        "page = requests.get('https://www.imdb.com/chart/moviemeter') \n",
        "\n",
        "# 2. Parsing\n",
        "# ---\n",
        "#\n",
        "soup = BeautifulSoup(page.text, \"html.parser\")\n",
        "\n",
        "# 3. Extracting Required Elements\n",
        "# ---\n",
        "#\n",
        "\n",
        "# Get the movies \n",
        "movies_results = soup.find_all('td', {'class': 'titleColumn'}) \n",
        "movies = []\n",
        "for movie in movies_results:\n",
        "    moviename = movie.find('a').get_text()\n",
        "    movies.append(moviename) \n",
        "\n",
        "# Get the release years\n",
        "release_years = []\n",
        "for movie in movies_results:\n",
        "    # we use .strip('()') to remove brackets from start and end of year\n",
        "    year = movie.find('span').get_text().strip('()')  \n",
        "    release_years.append(year)\n",
        "\n",
        "# Get the ratings\n",
        "ratings = soup.find_all('td', {'class': 'ratingColumn imdbRating'})\n",
        "movie_ratings = []\n",
        "for rating in ratings:\n",
        "\n",
        "    # some of the <td> tags do not have nested <strong>...we check for this\n",
        "    if (rating.find('strong')):\n",
        "        year = rating.find('strong').get_text()\n",
        "    else:\n",
        "        year = ''\n",
        "    movie_ratings.append(year)\n",
        "\n",
        "# 4. Saving our Data\n",
        "# ---\n",
        "#\n",
        "movies_df = pd.DataFrame({\"movie\": movies, \"release_year\": release_years, \"rating\": movie_ratings})\n",
        "movies_df.sample(10)"
      ],
      "execution_count": null,
      "outputs": [
        {
          "output_type": "execute_result",
          "data": {
            "text/html": [
              "<div>\n",
              "<style scoped>\n",
              "    .dataframe tbody tr th:only-of-type {\n",
              "        vertical-align: middle;\n",
              "    }\n",
              "\n",
              "    .dataframe tbody tr th {\n",
              "        vertical-align: top;\n",
              "    }\n",
              "\n",
              "    .dataframe thead th {\n",
              "        text-align: right;\n",
              "    }\n",
              "</style>\n",
              "<table border=\"1\" class=\"dataframe\">\n",
              "  <thead>\n",
              "    <tr style=\"text-align: right;\">\n",
              "      <th></th>\n",
              "      <th>movie</th>\n",
              "      <th>release_year</th>\n",
              "      <th>rating</th>\n",
              "    </tr>\n",
              "  </thead>\n",
              "  <tbody>\n",
              "    <tr>\n",
              "      <th>47</th>\n",
              "      <td>The Lie</td>\n",
              "      <td>2018</td>\n",
              "      <td>5.3</td>\n",
              "    </tr>\n",
              "    <tr>\n",
              "      <th>71</th>\n",
              "      <td>Watchmen</td>\n",
              "      <td>2009</td>\n",
              "      <td>7.6</td>\n",
              "    </tr>\n",
              "    <tr>\n",
              "      <th>13</th>\n",
              "      <td>After We Collided</td>\n",
              "      <td>2020</td>\n",
              "      <td>5.4</td>\n",
              "    </tr>\n",
              "    <tr>\n",
              "      <th>42</th>\n",
              "      <td>Beauty and the Beast</td>\n",
              "      <td>2017</td>\n",
              "      <td>7.1</td>\n",
              "    </tr>\n",
              "    <tr>\n",
              "      <th>23</th>\n",
              "      <td>The Paramedic</td>\n",
              "      <td>2020</td>\n",
              "      <td>5.6</td>\n",
              "    </tr>\n",
              "    <tr>\n",
              "      <th>90</th>\n",
              "      <td>Twilight</td>\n",
              "      <td>2008</td>\n",
              "      <td>5.2</td>\n",
              "    </tr>\n",
              "    <tr>\n",
              "      <th>61</th>\n",
              "      <td>Infidel</td>\n",
              "      <td>2019</td>\n",
              "      <td>6.7</td>\n",
              "    </tr>\n",
              "    <tr>\n",
              "      <th>4</th>\n",
              "      <td>Antebellum</td>\n",
              "      <td>2020</td>\n",
              "      <td>5.5</td>\n",
              "    </tr>\n",
              "    <tr>\n",
              "      <th>83</th>\n",
              "      <td>The Dark Knight Rises</td>\n",
              "      <td>2012</td>\n",
              "      <td>8.4</td>\n",
              "    </tr>\n",
              "    <tr>\n",
              "      <th>49</th>\n",
              "      <td>#Alive</td>\n",
              "      <td>2020</td>\n",
              "      <td>6.2</td>\n",
              "    </tr>\n",
              "  </tbody>\n",
              "</table>\n",
              "</div>"
            ],
            "text/plain": [
              "                    movie release_year rating\n",
              "47                The Lie         2018    5.3\n",
              "71               Watchmen         2009    7.6\n",
              "13      After We Collided         2020    5.4\n",
              "42   Beauty and the Beast         2017    7.1\n",
              "23          The Paramedic         2020    5.6\n",
              "90               Twilight         2008    5.2\n",
              "61                Infidel         2019    6.7\n",
              "4              Antebellum         2020    5.5\n",
              "83  The Dark Knight Rises         2012    8.4\n",
              "49                 #Alive         2020    6.2"
            ]
          },
          "metadata": {
            "tags": []
          },
          "execution_count": 45
        }
      ]
    },
    {
      "cell_type": "markdown",
      "metadata": {
        "id": "cZB1Y8J2Y-Xi"
      },
      "source": [
        "### <font color=\"green\">Challenge 5</font>"
      ]
    },
    {
      "cell_type": "code",
      "metadata": {
        "id": "KPHPJiM3Q0Nq"
      },
      "source": [
        "# Challenge 5\n",
        "# ---\n",
        "# You are required to scrape the following article found in the given URL.\n",
        "# --- \n",
        "# Website URL = https://nation.africa/kenya/life-and-style/dn2/why-we-re-parenting-under-social-media-limelight-2452890\n",
        "# ---\n",
        "# YOUR CODE GOES BELOW\n",
        "# "
      ],
      "execution_count": null,
      "outputs": []
    },
    {
      "cell_type": "code",
      "metadata": {
        "id": "BSThXQf0n-ac",
        "outputId": "51f455ba-a71e-4a3c-e404-feec8b1b741a",
        "colab": {
          "base_uri": "https://localhost:8080/",
          "height": 35
        }
      },
      "source": [
        "# Solution\n",
        "# ---\n",
        "# \n",
        "\n",
        "# 1. Obtaining our Data\n",
        "# ---\n",
        "#\n",
        "page = requests.get('https://nation.africa/kenya/life-and-style/dn2/why-we-re-parenting-under-social-media-limelight-2452890') \n",
        "\n",
        "# 2. Parsing\n",
        "# ---\n",
        "#\n",
        "soup = BeautifulSoup(page.text, \"html.parser\")\n",
        "\n",
        "# 3. Extracting Required Elements\n",
        "# ---\n",
        "# \n",
        "\n",
        "# Getting our article heading content\n",
        "# --- \n",
        "#\n",
        "article_heading = soup.find('h1', {'class': 'title-medium'}).get_text() \n",
        "\n",
        "article_heading"
      ],
      "execution_count": null,
      "outputs": [
        {
          "output_type": "execute_result",
          "data": {
            "application/vnd.google.colaboratory.intrinsic+json": {
              "type": "string"
            },
            "text/plain": [
              "'Why we’re parenting under the social media limelight'"
            ]
          },
          "metadata": {
            "tags": []
          },
          "execution_count": 47
        }
      ]
    },
    {
      "cell_type": "code",
      "metadata": {
        "id": "YkxB8v90PB-4",
        "outputId": "fa2ffd15-29a6-4a84-b15f-6107441f4120",
        "colab": {
          "base_uri": "https://localhost:8080/",
          "height": 1000
        }
      },
      "source": [
        "# Getting our paragraph content\n",
        "# --- \n",
        "#\n",
        "section = soup.find('div', {'class': 'article-content'}) \n",
        "section = section.find('div', {'class': 'grid-container-small'}) \n",
        "section = section.find('div', {'class': 'col-1-1'})\n",
        "section = section.find_all('section')[1] # we select the 2nd section tag\n",
        "section = section.find_all('p')\n",
        "\n",
        "p_tags_text = [tag.get_text().strip() for tag in section]\n",
        "p_tags_text"
      ],
      "execution_count": null,
      "outputs": [
        {
          "output_type": "execute_result",
          "data": {
            "text/plain": [
              "['If it takes a village to raise a child, then social media only makes the village bigger. Milly Chebby Mwangi, an influencer mum, understood this well when she shared a video of her child bathing in a basin shortly after major surgery, on her Instagram stories.',\n",
              " 'That her daughter’s scar was healing was a feat she wished to share with her Instagram followers, who had shown her massive support during the trying time. In the same way, they were quick to protect the child’s privacy after the video went live.',\n",
              " '“People urged me not to post the baby’s naked image online, saying, it was not a good thing to do,” she tells the DN2 Parenting.',\n",
              " 'While she would eventually take the video down after the criticism, the incident begged the question: to what extent should children’s private lives be shared online?',\n",
              " 'From the first steps when a child is learning to walk to when it can throw tantrums, documenting and sharing the child’s life as it grows instils a feeling of solidarity in the parent. They no longer feel lonely, but instead, celebrates the child’s milestones as a community.',\n",
              " 'It is not different from the age-old practice where parents give out their children’s photo album to guests when they visit for a cup of tea. But, are there limits to this practice of sharing that should never be crossed to protect the child’s social and emotional wellbeing?',\n",
              " 'A tightrope influencers like Milly often find themselves walking on a tightrope trying to strike a balance between promoting their personal brands and protecting their children’s welfare. While some prefer to keep their children’s faces private, others choose to create a digital photo album.',\n",
              " 'Milly Chebby Mwangi, an influencer mum, whose\\xa0one year and six months old daughter Milla has her own Instagram account.',\n",
              " 'This allows their audiences to connect with their child’s likeness, while at the same time, carving a digital footprint for the child to look back to during their formative years. It also creates income in the form of brand endorsements for either the parent or the child by leveraging their social influence to promote a brand they have found suitable for their children. The income generated may be directed to their education or insurance.',\n",
              " 'It isn’t all that bad. Until it is.',\n",
              " 'The term “sharenting” was not created in a vacuum. It is a pejorative formed by combining the words “share” and “parenting.” It is often used to point fingers at parents who share too much information about their children online.',\n",
              " 'The intention is usually harmless, but the implications of sharing photos of children on the internet have been widely discussed in academic circles.',\n",
              " 'Besides cyberbullying, the prevalence of sexual exploitation from cybercriminals implies that parents need to be more vigilant about their online activity and the privacy of their children.',\n",
              " 'Considering their influencer careers, Milly and her equally influential husband, Terrence Creative, agreed to start a separate Instagram account for their child.',\n",
              " '“Milla then became a popular baby and people started following her because she’s our child,” she said.',\n",
              " 'With Milla having endured a liver cyst during the first two months of her life, the couple chose to wait until she had healed from this surgery before opening the account for her.',\n",
              " '“The purpose of the account was to document the memories of Milla’s childhood. We may not have the photos in our phones forever or save the pictures in her Gmail account, but at least they will always be up on Instagram,” she elaborated.',\n",
              " 'Besides the basin incident, none of them has received any negative scrutiny. “I thank God that Milla has received so much love online.”',\n",
              " 'Navigating social media as a parent also means creating a set of rules that govern what exactly one should share about the child online.',\n",
              " 'Michelle Wanjiku (Miss Tiramisu), also known as Shikie from YouTube channel “Over 25”, considered the same rules she used for her own profile, in managing her child Tshazi’s Instagram account.',\n",
              " '“There are some things I’m excited to share, like milestones, happy days and fun experiences we’ve had,” she explains.',\n",
              " '“I also like to highlight some of the challenges that come with parenting and having a family, but I often do it in a light-hearted way and won’t post a serious family matter.”',\n",
              " 'For instance, she wouldn’t post her argument with her husband, but she might post something about him leaving his socks on the floor, describing how that “drives her crazy.”',\n",
              " '“Both are situations my audience can identify with, but one is a personal matter, while the other is just a relationship pet peeve. Same goes for Tshazi. I wouldn’t document myself disciplining her, but I’ll show my audience some of the crazy things she, like other kids, would do, like getting play dough stuck in her hair,” she affirms.',\n",
              " 'As the child grows and develops their own autonomy, a discussion on their digital footprint becomes increasingly necessary. While it may be a few years before she can have this crucial conversation with her child, Milly spoke to her friend and fellow parent, Wahu Kagwi, to better understand what to do when that time comes.',\n",
              " 'Wahu’s 14-year old daughter Tumiso recently opened her own account on Instagram.',\n",
              " '“When Milla gets to the age where she understands social media, we will definitely talk to her about it,” Milly adds.',\n",
              " 'For now, she chooses to raise her child the same way she was raised by her mother.',\n",
              " '“I don’t support children being on their gadgets all the time. I’ve seen different children raised differently over the years, and I decided to parent the same way my mother did. That means no gadgets until after high school unless something changes.”',\n",
              " 'Dangers on social media, such as cyberbullying, influenced this decision. She feels that Milla will be in a better position to handle these issues once she is an independent adult. Until then, she chooses to manage the child’s account herself while letting her know that it exists.',\n",
              " 'Shikie’s daughter, Tshazi, recently turned five years old. According to her mother, she is well aware of her social media accounts. At the moment, she has nearly 4,500 followers on Instagram.',\n",
              " '“She’s aware of her page and asks to look at it from time to time on our phones. She knows about Instagram and TikTok, but we have made her aware that she will only access social media under our supervision,” Shikie says.',\n",
              " 'Tshazi can also tell the difference between videos that are okay for kids to watch and those that are only for grown ups.',\n",
              " '“Mama or papa are the ones who decide which she can view, and she’s okay with that.”',\n",
              " 'However, even as the children are made aware of their digital personas, the evolving conversation on their autonomy presents a likelihood for disagreement when the child eventually turns 18.',\n",
              " 'In 2016, an 18-year-old woman from Austria sued her parents for posting nearly 500 pictures of her childhood photos on Facebook. Speaking to news outlet The Local Austria at the time, the woman said that her parents knew “no shame and no limit — and didn’t care whether it was a picture of me sitting on the toilet or lying naked in my cot,” as each picture would eventually be made public.',\n",
              " 'Speaking to sociologist Diana Zambi, we established that it is important to note that depending on age, a child’s understanding of social media is limited.',\n",
              " '“However, as the child continues to grow and become aware of their brand, they already have a digital footprint of them on the internet. Therefore, how the child’s need for self-actualisation is affected depends on the content that these parents put out in these spaces.”',\n",
              " 'The need to be careful about what they post on the child’s page is only exacerbated by the fact that the internet never forgets.',\n",
              " '“Even if the picture was taken down, it is not completely erased. There is the possibility of the picture resurfacing when the child is in his teenage years when it can be used to troll, embarrass or bully them. This will definitely affect the child’s psychological health and self-esteem, yet they didn’t have the knowledge or choice as to whether the picture should have been posted or not,” Ms Zambi explains.',\n",
              " 'Developing her child’s autonomy is something that Shikie strives to do from a young age. After all, family life is currently a big part of her brand online, and her family is comfortable with this reality.',\n",
              " '“My daughter is too young to comprehend social media at the moment, but there are some things I do to ensure that she is comfortable. For example, I don’t take pictures of her if she doesn’t want it done. I also show her the pictures and videos I take, and ask her if she likes them,” she says.',\n",
              " '“When she grows older and decides that she no longer wants to have a social media page, I will happily bring it down on her behalf. As for now, I intend on seeking consent and explaining before posting her pictures online,” she adds.',\n",
              " 'At just one year and six months old, it may be a while before Milla can comment on her social media presence. However, her mother reserves the right to create content on her behalf.',\n",
              " '“I dress her while Terence handles the creative part of her account. When she grows up and decides that she is uncomfortable with social media, she can choose to delete the account.”',\n",
              " 'Asked about her thoughts on children suing their parents for posting their pictures on social media, she quipped that it might not be possible for a child with an African upbringing, where children seldom question their parents on such decisions.',\n",
              " '“This borrows a lot from culture,” Ms Zambi explains. “In traditional African society, children were taught to respect and revere their elders, and such issues like taking legal action were against the values and norms of the African society. This has been passed down through generations.”',\n",
              " 'However, this might change in future.',\n",
              " '“Depending on the severity of the case, we could see the emergence of such cases due to influence from the West and the rise of civil societies that advocate for the rights of children.”',\n",
              " 'The rise of the “kidfluencer” raises new questions on the ethics of sharing children’s content for financial gain.',\n",
              " 'In 2019, Forbes ranked eight-year-old Ryan Kaji as the highest earning child YouTuber, with gross earnings to the tune of $26 million (Sh2.8 billion) from his account, Ryan ToysReview. The page currently has 26.5 million subscribers.',\n",
              " 'At just four months old, Milla had already gained her first client in the kidfluencing space.',\n",
              " '“The money she gets from endorsements goes towards her education and health insurance,” Milly shares.',\n",
              " 'Beyond financial gain, Ms Zambi explains that children like Milla could stand to gain positive exposure from their social media presence in terms of building confidence, learning new things and acquiring better communication and organisational skills.',\n",
              " '“They become better prepared for the intricacies of the real world than their peers who are not exposed,” she affirms.',\n",
              " 'This is already evident in Tshazi Simani’s life.',\n",
              " '“She’s a little fashionista and enjoys playing dress-up and picking out her outfits and sometimes, even asks me to take pictures of her if she likes the outfit she put together,” her mum quips.',\n",
              " 'As for whether Tshazi will participate in any brand endorsements of her own, Shikie says, “Provided I support the brand’s values and she is open to it and enjoys it. Any revenue from this would be put aside for Tshazi’s benefit.”',\n",
              " 'Currently, the child only participates in content created by the family.',\n",
              " '“As parents who choose to share information about our children online, we need to be cognisant of the fact that despite our good intentions, there are nasty people out there that could misuse what we share. So we try our best to share responsibly,” Shikie concludes.',\n",
              " '“Also, choosing not to share one’s child online doesn’t automatically make one a better parent. Loving and protecting your children is what truly matters.”']"
            ]
          },
          "metadata": {
            "tags": []
          },
          "execution_count": 48
        }
      ]
    },
    {
      "cell_type": "code",
      "metadata": {
        "id": "aXdHXmmbRjys",
        "outputId": "417368ce-dd00-4e7a-9695-b36de614b9bf",
        "colab": {
          "base_uri": "https://localhost:8080/",
          "height": 171
        }
      },
      "source": [
        "# Combine list items into string\n",
        "# ---\n",
        "#\n",
        "article = ' '.join(p_tags_text)\n",
        "article"
      ],
      "execution_count": null,
      "outputs": [
        {
          "output_type": "execute_result",
          "data": {
            "application/vnd.google.colaboratory.intrinsic+json": {
              "type": "string"
            },
            "text/plain": [
              "'If it takes a village to raise a child, then social media only makes the village bigger. Milly Chebby Mwangi, an influencer mum, understood this well when she shared a video of her child bathing in a basin shortly after major surgery, on her Instagram stories. That her daughter’s scar was healing was a feat she wished to share with her Instagram followers, who had shown her massive support during the trying time. In the same way, they were quick to protect the child’s privacy after the video went live. “People urged me not to post the baby’s naked image online, saying, it was not a good thing to do,” she tells the DN2 Parenting. While she would eventually take the video down after the criticism, the incident begged the question: to what extent should children’s private lives be shared online? From the first steps when a child is learning to walk to when it can throw tantrums, documenting and sharing the child’s life as it grows instils a feeling of solidarity in the parent. They no longer feel lonely, but instead, celebrates the child’s milestones as a community. It is not different from the age-old practice where parents give out their children’s photo album to guests when they visit for a cup of tea. But, are there limits to this practice of sharing that should never be crossed to protect the child’s social and emotional wellbeing? A tightrope influencers like Milly often find themselves walking on a tightrope trying to strike a balance between promoting their personal brands and protecting their children’s welfare. While some prefer to keep their children’s faces private, others choose to create a digital photo album. Milly Chebby Mwangi, an influencer mum, whose\\xa0one year and six months old daughter Milla has her own Instagram account. This allows their audiences to connect with their child’s likeness, while at the same time, carving a digital footprint for the child to look back to during their formative years. It also creates income in the form of brand endorsements for either the parent or the child by leveraging their social influence to promote a brand they have found suitable for their children. The income generated may be directed to their education or insurance. It isn’t all that bad. Until it is. The term “sharenting” was not created in a vacuum. It is a pejorative formed by combining the words “share” and “parenting.” It is often used to point fingers at parents who share too much information about their children online. The intention is usually harmless, but the implications of sharing photos of children on the internet have been widely discussed in academic circles. Besides cyberbullying, the prevalence of sexual exploitation from cybercriminals implies that parents need to be more vigilant about their online activity and the privacy of their children. Considering their influencer careers, Milly and her equally influential husband, Terrence Creative, agreed to start a separate Instagram account for their child. “Milla then became a popular baby and people started following her because she’s our child,” she said. With Milla having endured a liver cyst during the first two months of her life, the couple chose to wait until she had healed from this surgery before opening the account for her. “The purpose of the account was to document the memories of Milla’s childhood. We may not have the photos in our phones forever or save the pictures in her Gmail account, but at least they will always be up on Instagram,” she elaborated. Besides the basin incident, none of them has received any negative scrutiny. “I thank God that Milla has received so much love online.” Navigating social media as a parent also means creating a set of rules that govern what exactly one should share about the child online. Michelle Wanjiku (Miss Tiramisu), also known as Shikie from YouTube channel “Over 25”, considered the same rules she used for her own profile, in managing her child Tshazi’s Instagram account. “There are some things I’m excited to share, like milestones, happy days and fun experiences we’ve had,” she explains. “I also like to highlight some of the challenges that come with parenting and having a family, but I often do it in a light-hearted way and won’t post a serious family matter.” For instance, she wouldn’t post her argument with her husband, but she might post something about him leaving his socks on the floor, describing how that “drives her crazy.” “Both are situations my audience can identify with, but one is a personal matter, while the other is just a relationship pet peeve. Same goes for Tshazi. I wouldn’t document myself disciplining her, but I’ll show my audience some of the crazy things she, like other kids, would do, like getting play dough stuck in her hair,” she affirms. As the child grows and develops their own autonomy, a discussion on their digital footprint becomes increasingly necessary. While it may be a few years before she can have this crucial conversation with her child, Milly spoke to her friend and fellow parent, Wahu Kagwi, to better understand what to do when that time comes. Wahu’s 14-year old daughter Tumiso recently opened her own account on Instagram. “When Milla gets to the age where she understands social media, we will definitely talk to her about it,” Milly adds. For now, she chooses to raise her child the same way she was raised by her mother. “I don’t support children being on their gadgets all the time. I’ve seen different children raised differently over the years, and I decided to parent the same way my mother did. That means no gadgets until after high school unless something changes.” Dangers on social media, such as cyberbullying, influenced this decision. She feels that Milla will be in a better position to handle these issues once she is an independent adult. Until then, she chooses to manage the child’s account herself while letting her know that it exists. Shikie’s daughter, Tshazi, recently turned five years old. According to her mother, she is well aware of her social media accounts. At the moment, she has nearly 4,500 followers on Instagram. “She’s aware of her page and asks to look at it from time to time on our phones. She knows about Instagram and TikTok, but we have made her aware that she will only access social media under our supervision,” Shikie says. Tshazi can also tell the difference between videos that are okay for kids to watch and those that are only for grown ups. “Mama or papa are the ones who decide which she can view, and she’s okay with that.” However, even as the children are made aware of their digital personas, the evolving conversation on their autonomy presents a likelihood for disagreement when the child eventually turns 18. In 2016, an 18-year-old woman from Austria sued her parents for posting nearly 500 pictures of her childhood photos on Facebook. Speaking to news outlet The Local Austria at the time, the woman said that her parents knew “no shame and no limit — and didn’t care whether it was a picture of me sitting on the toilet or lying naked in my cot,” as each picture would eventually be made public. Speaking to sociologist Diana Zambi, we established that it is important to note that depending on age, a child’s understanding of social media is limited. “However, as the child continues to grow and become aware of their brand, they already have a digital footprint of them on the internet. Therefore, how the child’s need for self-actualisation is affected depends on the content that these parents put out in these spaces.” The need to be careful about what they post on the child’s page is only exacerbated by the fact that the internet never forgets. “Even if the picture was taken down, it is not completely erased. There is the possibility of the picture resurfacing when the child is in his teenage years when it can be used to troll, embarrass or bully them. This will definitely affect the child’s psychological health and self-esteem, yet they didn’t have the knowledge or choice as to whether the picture should have been posted or not,” Ms Zambi explains. Developing her child’s autonomy is something that Shikie strives to do from a young age. After all, family life is currently a big part of her brand online, and her family is comfortable with this reality. “My daughter is too young to comprehend social media at the moment, but there are some things I do to ensure that she is comfortable. For example, I don’t take pictures of her if she doesn’t want it done. I also show her the pictures and videos I take, and ask her if she likes them,” she says. “When she grows older and decides that she no longer wants to have a social media page, I will happily bring it down on her behalf. As for now, I intend on seeking consent and explaining before posting her pictures online,” she adds. At just one year and six months old, it may be a while before Milla can comment on her social media presence. However, her mother reserves the right to create content on her behalf. “I dress her while Terence handles the creative part of her account. When she grows up and decides that she is uncomfortable with social media, she can choose to delete the account.” Asked about her thoughts on children suing their parents for posting their pictures on social media, she quipped that it might not be possible for a child with an African upbringing, where children seldom question their parents on such decisions. “This borrows a lot from culture,” Ms Zambi explains. “In traditional African society, children were taught to respect and revere their elders, and such issues like taking legal action were against the values and norms of the African society. This has been passed down through generations.” However, this might change in future. “Depending on the severity of the case, we could see the emergence of such cases due to influence from the West and the rise of civil societies that advocate for the rights of children.” The rise of the “kidfluencer” raises new questions on the ethics of sharing children’s content for financial gain. In 2019, Forbes ranked eight-year-old Ryan Kaji as the highest earning child YouTuber, with gross earnings to the tune of $26 million (Sh2.8 billion) from his account, Ryan ToysReview. The page currently has 26.5 million subscribers. At just four months old, Milla had already gained her first client in the kidfluencing space. “The money she gets from endorsements goes towards her education and health insurance,” Milly shares. Beyond financial gain, Ms Zambi explains that children like Milla could stand to gain positive exposure from their social media presence in terms of building confidence, learning new things and acquiring better communication and organisational skills. “They become better prepared for the intricacies of the real world than their peers who are not exposed,” she affirms. This is already evident in Tshazi Simani’s life. “She’s a little fashionista and enjoys playing dress-up and picking out her outfits and sometimes, even asks me to take pictures of her if she likes the outfit she put together,” her mum quips. As for whether Tshazi will participate in any brand endorsements of her own, Shikie says, “Provided I support the brand’s values and she is open to it and enjoys it. Any revenue from this would be put aside for Tshazi’s benefit.” Currently, the child only participates in content created by the family. “As parents who choose to share information about our children online, we need to be cognisant of the fact that despite our good intentions, there are nasty people out there that could misuse what we share. So we try our best to share responsibly,” Shikie concludes. “Also, choosing not to share one’s child online doesn’t automatically make one a better parent. Loving and protecting your children is what truly matters.”'"
            ]
          },
          "metadata": {
            "tags": []
          },
          "execution_count": 49
        }
      ]
    }
  ]
}